{
 "cells": [
  {
   "cell_type": "markdown",
   "metadata": {},
   "source": [
    "# Experiments"
   ]
  },
  {
   "cell_type": "code",
   "execution_count": 67,
   "metadata": {},
   "outputs": [],
   "source": [
    "import os\n",
    "import IPython.display as ipd\n",
    "\n",
    "for filename in os.listdir('./test_audio'):\n",
    "    ipd.Audio('./test_audio/' + filename)"
   ]
  },
  {
   "cell_type": "code",
   "execution_count": null,
   "metadata": {
    "scrolled": false
   },
   "outputs": [],
   "source": [
    "import os\n",
    "import pandas as pd\n",
    "import librosa.display\n",
    "import matplotlib.pyplot as plt\n",
    "import tensorflow as tf\n",
    "\n",
    "for filename in os.listdir('./test'):\n",
    "    data, sampling_rate = librosa.load('./test/' + filename)\n",
    "\n",
    "    plt.figure(figsize=(12, 4))\n",
    "    librosa.display.waveplot(data, sr=sampling_rate)"
   ]
  },
  {
   "cell_type": "code",
   "execution_count": null,
   "metadata": {},
   "outputs": [],
   "source": [
    "import speech_recognition as sr"
   ]
  },
  {
   "cell_type": "code",
   "execution_count": null,
   "metadata": {},
   "outputs": [],
   "source": [
    "r = sr.Recognizer()"
   ]
  },
  {
   "cell_type": "code",
   "execution_count": null,
   "metadata": {},
   "outputs": [],
   "source": [
    "zero = sr.AudioFile('0_jackson_2.wav')"
   ]
  },
  {
   "cell_type": "code",
   "execution_count": null,
   "metadata": {},
   "outputs": [],
   "source": [
    "with zero as source:\n",
    "    audio = r.record(source)"
   ]
  },
  {
   "cell_type": "code",
   "execution_count": null,
   "metadata": {},
   "outputs": [],
   "source": [
    "print(r.recognize_google(audio))"
   ]
  },
  {
   "cell_type": "markdown",
   "metadata": {},
   "source": [
    "# This is the main training part:"
   ]
  },
  {
   "cell_type": "markdown",
   "metadata": {},
   "source": [
    "## training with audio files:"
   ]
  },
  {
   "cell_type": "code",
   "execution_count": 1,
   "metadata": {},
   "outputs": [
    {
     "name": "stderr",
     "output_type": "stream",
     "text": [
      "Using TensorFlow backend.\n"
     ]
    }
   ],
   "source": [
    "#imports:\n",
    "\n",
    "from export_model import *\n",
    "from preprocess import *\n",
    "import numpy as np\n",
    "import os\n",
    "import keras\n",
    "from keras.models import Sequential, load_model\n",
    "from keras.layers import Dense, Dropout, Flatten, Conv2D, MaxPooling2D\n",
    "from keras.utils import to_categorical\n",
    "from sklearn.metrics import confusion_matrix, classification_report, accuracy_score\n",
    "from sklearn.preprocessing import LabelEncoder\n",
    "import itertools\n",
    "import matplotlib.pyplot as plt"
   ]
  },
  {
   "cell_type": "code",
   "execution_count": 11,
   "metadata": {
    "scrolled": true
   },
   "outputs": [
    {
     "name": "stdout",
     "output_type": "stream",
     "text": [
      "The autoreload extension is already loaded. To reload it, use:\n",
      "  %reload_ext autoreload\n"
     ]
    },
    {
     "name": "stderr",
     "output_type": "stream",
     "text": [
      "Saving vectors of label - '1': 100%|█████████████████████████████████████████████████| 422/422 [00:10<00:00, 40.01it/s]\n",
      "Saving vectors of label - '10': 100%|████████████████████████████████████████████████| 258/258 [00:06<00:00, 42.91it/s]\n",
      "Saving vectors of label - '11': 100%|████████████████████████████████████████████████| 245/245 [00:05<00:00, 43.41it/s]\n",
      "Saving vectors of label - '12': 100%|████████████████████████████████████████████████| 222/222 [00:04<00:00, 45.53it/s]\n",
      "Saving vectors of label - '2': 100%|█████████████████████████████████████████████████| 371/371 [00:08<00:00, 44.46it/s]\n",
      "Saving vectors of label - '3': 100%|█████████████████████████████████████████████████| 359/359 [00:08<00:00, 43.19it/s]\n",
      "Saving vectors of label - '4': 100%|█████████████████████████████████████████████████| 230/230 [00:05<00:00, 39.61it/s]\n",
      "Saving vectors of label - '5': 100%|█████████████████████████████████████████████████| 262/262 [00:05<00:00, 48.71it/s]\n",
      "Saving vectors of label - '6': 100%|█████████████████████████████████████████████████| 235/235 [00:05<00:00, 44.45it/s]\n",
      "Saving vectors of label - '7': 100%|█████████████████████████████████████████████████| 255/255 [00:05<00:00, 46.04it/s]\n",
      "Saving vectors of label - '8': 100%|█████████████████████████████████████████████████| 250/250 [00:05<00:00, 46.02it/s]\n",
      "Saving vectors of label - '9': 100%|█████████████████████████████████████████████████| 245/245 [00:05<00:00, 39.45it/s]\n"
     ]
    }
   ],
   "source": [
    "%load_ext autoreload\n",
    "%autoreload 2\n",
    "\n",
    "#from preprocess import *\n",
    "#import keras\n",
    "#from keras.models import Sequential\n",
    "#from keras.layers import Dense, Dropout, Flatten, Conv2D, MaxPooling2D\n",
    "#from keras.utils import to_categorical\n",
    "#from sklearn.metrics import confusion_matrix, classification_report, accuracy_score\n",
    "#from sklearn.preprocessing import LabelEncoder\n",
    "#import itertools\n",
    "\n",
    "# Second dimension of the feature is dim2\n",
    "feature_dim_2 = 11\n",
    "\n",
    "# Save data to array file first\n",
    "save_data_to_array(max_len=feature_dim_2)\n",
    "\n",
    "# # Loading train set and test set\n",
    "X_train, X_test, y_train, y_test = get_train_test()\n",
    "\n",
    "# # Feature dimension\n",
    "#defaults at the end\n",
    "feature_dim_1 = 20   #20\n",
    "channel = 1          #1\n",
    "epochs = 50         #50\n",
    "batch_size = 100     #100\n",
    "verbose = 1          #1\n",
    "# change num_classes depending on the amount of labels\n",
    "num_classes = 12\n",
    "\n",
    "# Reshaping to perform 2D convolution\n",
    "X_train = X_train.reshape(X_train.shape[0], feature_dim_1, feature_dim_2, channel)\n",
    "X_test = X_test.reshape(X_test.shape[0], feature_dim_1, feature_dim_2, channel)\n",
    "\n",
    "y_train_hot = to_categorical(y_train)\n",
    "y_test_hot = to_categorical(y_test)"
   ]
  },
  {
   "cell_type": "markdown",
   "metadata": {},
   "source": [
    "## model & prediction"
   ]
  },
  {
   "cell_type": "code",
   "execution_count": 3,
   "metadata": {},
   "outputs": [],
   "source": [
    "def get_model():\n",
    "    model = Sequential()\n",
    "    model.add(Conv2D(32, kernel_size=(2, 2), activation='relu', input_shape=(feature_dim_1, feature_dim_2, channel)))\n",
    "    model.add(Conv2D(48, kernel_size=(2, 2), activation='relu'))\n",
    "    model.add(Conv2D(120, kernel_size=(2, 2), activation='relu'))\n",
    "    model.add(MaxPooling2D(pool_size=(2, 2)))\n",
    "    model.add(Dropout(0.25))\n",
    "    model.add(Flatten())\n",
    "    model.add(Dense(128, activation='relu'))\n",
    "    model.add(Dropout(0.25))\n",
    "    model.add(Dense(64, activation='relu'))\n",
    "    model.add(Dropout(0.4))\n",
    "    model.add(Dense(num_classes, activation='softmax'))\n",
    "    model.compile(loss=keras.losses.categorical_crossentropy,\n",
    "                  optimizer=keras.optimizers.Adadelta(),\n",
    "                  metrics=['accuracy'])\n",
    "    return model\n",
    "\n",
    "# Predicts one sample\n",
    "def predict(filepath, model):\n",
    "    sample = wav2mfcc(filepath)\n",
    "    sample_reshaped = sample.reshape(1, feature_dim_1, feature_dim_2, channel)\n",
    "    return get_labels()[0][\n",
    "            np.argmax(model.predict(sample_reshaped))\n",
    "    ]"
   ]
  },
  {
   "cell_type": "markdown",
   "metadata": {},
   "source": [
    "## Train model:"
   ]
  },
  {
   "cell_type": "code",
   "execution_count": 12,
   "metadata": {
    "scrolled": true
   },
   "outputs": [
    {
     "name": "stdout",
     "output_type": "stream",
     "text": [
      "Train on 2012 samples, validate on 1342 samples\n",
      "Epoch 1/50\n",
      "2012/2012 [==============================] - ETA: 15s - loss: 6.1324 - acc: 0.10 - ETA: 8s - loss: 6.7553 - acc: 0.1050 - ETA: 5s - loss: 6.6199 - acc: 0.096 - ETA: 4s - loss: 5.9644 - acc: 0.102 - ETA: 3s - loss: 5.4231 - acc: 0.096 - ETA: 3s - loss: 4.9878 - acc: 0.105 - ETA: 2s - loss: 4.6502 - acc: 0.107 - ETA: 2s - loss: 4.3799 - acc: 0.108 - ETA: 2s - loss: 4.1534 - acc: 0.120 - ETA: 1s - loss: 3.9713 - acc: 0.126 - ETA: 1s - loss: 3.8348 - acc: 0.125 - ETA: 1s - loss: 3.7200 - acc: 0.127 - ETA: 1s - loss: 3.6064 - acc: 0.132 - ETA: 0s - loss: 3.5143 - acc: 0.135 - ETA: 0s - loss: 3.4387 - acc: 0.134 - ETA: 0s - loss: 3.3635 - acc: 0.136 - ETA: 0s - loss: 3.2942 - acc: 0.145 - ETA: 0s - loss: 3.2507 - acc: 0.147 - ETA: 0s - loss: 3.1969 - acc: 0.147 - ETA: 0s - loss: 3.1483 - acc: 0.150 - 3s 2ms/step - loss: 3.1409 - acc: 0.1521 - val_loss: 1.8997 - val_acc: 0.4009\n",
      "Epoch 2/50\n",
      "2012/2012 [==============================] - ETA: 1s - loss: 2.3347 - acc: 0.230 - ETA: 1s - loss: 2.3013 - acc: 0.205 - ETA: 1s - loss: 2.2522 - acc: 0.230 - ETA: 1s - loss: 2.1716 - acc: 0.257 - ETA: 1s - loss: 2.1291 - acc: 0.266 - ETA: 1s - loss: 2.1017 - acc: 0.273 - ETA: 1s - loss: 2.0711 - acc: 0.280 - ETA: 1s - loss: 2.0431 - acc: 0.288 - ETA: 1s - loss: 2.0246 - acc: 0.292 - ETA: 1s - loss: 2.0091 - acc: 0.302 - ETA: 0s - loss: 1.9839 - acc: 0.315 - ETA: 0s - loss: 1.9703 - acc: 0.324 - ETA: 0s - loss: 1.9681 - acc: 0.326 - ETA: 0s - loss: 1.9564 - acc: 0.335 - ETA: 0s - loss: 1.9315 - acc: 0.344 - ETA: 0s - loss: 1.9195 - acc: 0.348 - ETA: 0s - loss: 1.9086 - acc: 0.351 - ETA: 0s - loss: 1.8975 - acc: 0.356 - ETA: 0s - loss: 1.8743 - acc: 0.365 - ETA: 0s - loss: 1.8699 - acc: 0.368 - 3s 1ms/step - loss: 1.8649 - acc: 0.3698 - val_loss: 1.2341 - val_acc: 0.6349\n",
      "Epoch 3/50\n",
      "2012/2012 [==============================] - ETA: 2s - loss: 1.7526 - acc: 0.380 - ETA: 1s - loss: 1.6975 - acc: 0.390 - ETA: 1s - loss: 1.6411 - acc: 0.443 - ETA: 1s - loss: 1.5835 - acc: 0.455 - ETA: 1s - loss: 1.5603 - acc: 0.468 - ETA: 1s - loss: 1.5290 - acc: 0.481 - ETA: 1s - loss: 1.4992 - acc: 0.498 - ETA: 1s - loss: 1.4692 - acc: 0.511 - ETA: 1s - loss: 1.4522 - acc: 0.510 - ETA: 1s - loss: 1.4497 - acc: 0.514 - ETA: 0s - loss: 1.4376 - acc: 0.521 - ETA: 0s - loss: 1.4213 - acc: 0.529 - ETA: 0s - loss: 1.4108 - acc: 0.529 - ETA: 0s - loss: 1.4196 - acc: 0.530 - ETA: 0s - loss: 1.4136 - acc: 0.530 - ETA: 0s - loss: 1.4067 - acc: 0.532 - ETA: 0s - loss: 1.4077 - acc: 0.532 - ETA: 0s - loss: 1.3969 - acc: 0.536 - ETA: 0s - loss: 1.3756 - acc: 0.543 - ETA: 0s - loss: 1.3615 - acc: 0.546 - 3s 1ms/step - loss: 1.3588 - acc: 0.5477 - val_loss: 1.1154 - val_acc: 0.6304\n",
      "Epoch 4/50\n",
      "2012/2012 [==============================] - ETA: 2s - loss: 1.7164 - acc: 0.500 - ETA: 2s - loss: 1.5915 - acc: 0.510 - ETA: 2s - loss: 1.4599 - acc: 0.550 - ETA: 1s - loss: 1.3726 - acc: 0.577 - ETA: 1s - loss: 1.3008 - acc: 0.588 - ETA: 1s - loss: 1.2505 - acc: 0.605 - ETA: 1s - loss: 1.2315 - acc: 0.605 - ETA: 1s - loss: 1.1846 - acc: 0.618 - ETA: 1s - loss: 1.1534 - acc: 0.627 - ETA: 1s - loss: 1.1313 - acc: 0.637 - ETA: 1s - loss: 1.0976 - acc: 0.647 - ETA: 0s - loss: 1.0900 - acc: 0.651 - ETA: 0s - loss: 1.0834 - acc: 0.652 - ETA: 0s - loss: 1.0680 - acc: 0.655 - ETA: 0s - loss: 1.0485 - acc: 0.662 - ETA: 0s - loss: 1.0345 - acc: 0.666 - ETA: 0s - loss: 1.0263 - acc: 0.670 - ETA: 0s - loss: 1.0205 - acc: 0.670 - ETA: 0s - loss: 1.0078 - acc: 0.674 - ETA: 0s - loss: 1.0017 - acc: 0.676 - 3s 1ms/step - loss: 0.9998 - acc: 0.6769 - val_loss: 0.5904 - val_acc: 0.8241\n",
      "Epoch 5/50\n",
      "2012/2012 [==============================] - ETA: 2s - loss: 0.8682 - acc: 0.660 - ETA: 1s - loss: 0.8274 - acc: 0.695 - ETA: 1s - loss: 0.7735 - acc: 0.720 - ETA: 1s - loss: 0.7939 - acc: 0.720 - ETA: 1s - loss: 0.7665 - acc: 0.730 - ETA: 1s - loss: 0.8033 - acc: 0.716 - ETA: 1s - loss: 0.7898 - acc: 0.730 - ETA: 1s - loss: 0.7868 - acc: 0.731 - ETA: 1s - loss: 0.7792 - acc: 0.735 - ETA: 1s - loss: 0.7720 - acc: 0.737 - ETA: 1s - loss: 0.7746 - acc: 0.732 - ETA: 0s - loss: 0.7771 - acc: 0.730 - ETA: 0s - loss: 0.7642 - acc: 0.732 - ETA: 0s - loss: 0.7539 - acc: 0.737 - ETA: 0s - loss: 0.7508 - acc: 0.738 - ETA: 0s - loss: 0.7410 - acc: 0.740 - ETA: 0s - loss: 0.7327 - acc: 0.743 - ETA: 0s - loss: 0.7288 - acc: 0.745 - ETA: 0s - loss: 0.7349 - acc: 0.744 - ETA: 0s - loss: 0.7442 - acc: 0.739 - 3s 1ms/step - loss: 0.7437 - acc: 0.7396 - val_loss: 0.5449 - val_acc: 0.8167\n",
      "Epoch 6/50\n",
      "2012/2012 [==============================] - ETA: 2s - loss: 0.6364 - acc: 0.790 - ETA: 1s - loss: 0.6568 - acc: 0.790 - ETA: 1s - loss: 0.6331 - acc: 0.796 - ETA: 1s - loss: 0.6268 - acc: 0.792 - ETA: 1s - loss: 0.6786 - acc: 0.780 - ETA: 1s - loss: 0.6733 - acc: 0.780 - ETA: 1s - loss: 0.6432 - acc: 0.791 - ETA: 1s - loss: 0.6650 - acc: 0.786 - ETA: 1s - loss: 0.6575 - acc: 0.788 - ETA: 1s - loss: 0.6478 - acc: 0.791 - ETA: 1s - loss: 0.6309 - acc: 0.797 - ETA: 0s - loss: 0.6421 - acc: 0.796 - ETA: 0s - loss: 0.6381 - acc: 0.796 - ETA: 0s - loss: 0.6293 - acc: 0.800 - ETA: 0s - loss: 0.6210 - acc: 0.803 - ETA: 0s - loss: 0.6169 - acc: 0.804 - ETA: 0s - loss: 0.6163 - acc: 0.805 - ETA: 0s - loss: 0.6211 - acc: 0.802 - ETA: 0s - loss: 0.6163 - acc: 0.803 - ETA: 0s - loss: 0.6102 - acc: 0.805 - 3s 1ms/step - loss: 0.6101 - acc: 0.8057 - val_loss: 0.4173 - val_acc: 0.8614\n",
      "Epoch 7/50\n",
      "2012/2012 [==============================] - ETA: 2s - loss: 0.7654 - acc: 0.740 - ETA: 2s - loss: 0.6883 - acc: 0.770 - ETA: 2s - loss: 0.6460 - acc: 0.790 - ETA: 2s - loss: 0.6268 - acc: 0.790 - ETA: 1s - loss: 0.5948 - acc: 0.800 - ETA: 1s - loss: 0.5836 - acc: 0.801 - ETA: 1s - loss: 0.5772 - acc: 0.801 - ETA: 1s - loss: 0.5769 - acc: 0.802 - ETA: 1s - loss: 0.5709 - acc: 0.805 - ETA: 1s - loss: 0.5803 - acc: 0.798 - ETA: 1s - loss: 0.5731 - acc: 0.800 - ETA: 0s - loss: 0.5592 - acc: 0.807 - ETA: 0s - loss: 0.5583 - acc: 0.803 - ETA: 0s - loss: 0.5530 - acc: 0.805 - ETA: 0s - loss: 0.5457 - acc: 0.806 - ETA: 0s - loss: 0.5478 - acc: 0.808 - ETA: 0s - loss: 0.5411 - acc: 0.812 - ETA: 0s - loss: 0.5389 - acc: 0.812 - ETA: 0s - loss: 0.5410 - acc: 0.812 - ETA: 0s - loss: 0.5387 - acc: 0.815 - 3s 1ms/step - loss: 0.5362 - acc: 0.8156 - val_loss: 0.3548 - val_acc: 0.8815\n",
      "Epoch 8/50\n",
      "2012/2012 [==============================] - ETA: 1s - loss: 0.5867 - acc: 0.820 - ETA: 1s - loss: 0.5170 - acc: 0.830 - ETA: 1s - loss: 0.5503 - acc: 0.820 - ETA: 1s - loss: 0.5533 - acc: 0.810 - ETA: 1s - loss: 0.5526 - acc: 0.802 - ETA: 1s - loss: 0.5198 - acc: 0.815 - ETA: 1s - loss: 0.5290 - acc: 0.810 - ETA: 1s - loss: 0.5491 - acc: 0.800 - ETA: 1s - loss: 0.5489 - acc: 0.802 - ETA: 1s - loss: 0.5329 - acc: 0.812 - ETA: 1s - loss: 0.5296 - acc: 0.813 - ETA: 0s - loss: 0.5162 - acc: 0.818 - ETA: 0s - loss: 0.5125 - acc: 0.819 - ETA: 0s - loss: 0.5030 - acc: 0.822 - ETA: 0s - loss: 0.4848 - acc: 0.829 - ETA: 0s - loss: 0.4787 - acc: 0.831 - ETA: 0s - loss: 0.4726 - acc: 0.835 - ETA: 0s - loss: 0.4719 - acc: 0.836 - ETA: 0s - loss: 0.4714 - acc: 0.837 - ETA: 0s - loss: 0.4687 - acc: 0.839 - 3s 1ms/step - loss: 0.4672 - acc: 0.8395 - val_loss: 0.3732 - val_acc: 0.8726\n",
      "Epoch 9/50\n",
      "2012/2012 [==============================] - ETA: 2s - loss: 0.4412 - acc: 0.860 - ETA: 1s - loss: 0.4711 - acc: 0.850 - ETA: 2s - loss: 0.4434 - acc: 0.856 - ETA: 1s - loss: 0.4337 - acc: 0.857 - ETA: 1s - loss: 0.4503 - acc: 0.844 - ETA: 1s - loss: 0.4612 - acc: 0.840 - ETA: 1s - loss: 0.4805 - acc: 0.831 - ETA: 1s - loss: 0.4658 - acc: 0.836 - ETA: 1s - loss: 0.4749 - acc: 0.836 - ETA: 1s - loss: 0.4646 - acc: 0.843 - ETA: 1s - loss: 0.4612 - acc: 0.844 - ETA: 0s - loss: 0.4600 - acc: 0.845 - ETA: 0s - loss: 0.4518 - acc: 0.846 - ETA: 0s - loss: 0.4454 - acc: 0.848 - ETA: 0s - loss: 0.4452 - acc: 0.848 - ETA: 0s - loss: 0.4420 - acc: 0.848 - ETA: 0s - loss: 0.4393 - acc: 0.848 - ETA: 0s - loss: 0.4450 - acc: 0.844 - ETA: 0s - loss: 0.4346 - acc: 0.848 - ETA: 0s - loss: 0.4286 - acc: 0.851 - 3s 1ms/step - loss: 0.4293 - acc: 0.8509 - val_loss: 0.3888 - val_acc: 0.8674\n",
      "Epoch 10/50\n"
     ]
    },
    {
     "name": "stdout",
     "output_type": "stream",
     "text": [
      "2012/2012 [==============================] - ETA: 2s - loss: 0.5298 - acc: 0.800 - ETA: 1s - loss: 0.4823 - acc: 0.825 - ETA: 1s - loss: 0.4897 - acc: 0.826 - ETA: 1s - loss: 0.4767 - acc: 0.832 - ETA: 1s - loss: 0.4634 - acc: 0.838 - ETA: 1s - loss: 0.4779 - acc: 0.831 - ETA: 1s - loss: 0.4783 - acc: 0.830 - ETA: 1s - loss: 0.4721 - acc: 0.833 - ETA: 1s - loss: 0.4526 - acc: 0.836 - ETA: 1s - loss: 0.4439 - acc: 0.838 - ETA: 1s - loss: 0.4441 - acc: 0.837 - ETA: 0s - loss: 0.4497 - acc: 0.833 - ETA: 0s - loss: 0.4548 - acc: 0.834 - ETA: 0s - loss: 0.4664 - acc: 0.831 - ETA: 0s - loss: 0.4638 - acc: 0.833 - ETA: 0s - loss: 0.4600 - acc: 0.833 - ETA: 0s - loss: 0.4504 - acc: 0.835 - ETA: 0s - loss: 0.4391 - acc: 0.841 - ETA: 0s - loss: 0.4489 - acc: 0.838 - ETA: 0s - loss: 0.4467 - acc: 0.839 - 3s 1ms/step - loss: 0.4451 - acc: 0.8400 - val_loss: 0.3146 - val_acc: 0.8845\n",
      "Epoch 11/50\n",
      "2012/2012 [==============================] - ETA: 2s - loss: 0.4251 - acc: 0.850 - ETA: 2s - loss: 0.3673 - acc: 0.870 - ETA: 1s - loss: 0.3655 - acc: 0.873 - ETA: 1s - loss: 0.3935 - acc: 0.867 - ETA: 1s - loss: 0.3731 - acc: 0.874 - ETA: 1s - loss: 0.3743 - acc: 0.876 - ETA: 1s - loss: 0.3923 - acc: 0.870 - ETA: 1s - loss: 0.3884 - acc: 0.870 - ETA: 1s - loss: 0.3883 - acc: 0.868 - ETA: 1s - loss: 0.3843 - acc: 0.871 - ETA: 1s - loss: 0.3830 - acc: 0.872 - ETA: 0s - loss: 0.3838 - acc: 0.872 - ETA: 0s - loss: 0.3813 - acc: 0.873 - ETA: 0s - loss: 0.3831 - acc: 0.872 - ETA: 0s - loss: 0.3811 - acc: 0.872 - ETA: 0s - loss: 0.3805 - acc: 0.871 - ETA: 0s - loss: 0.3927 - acc: 0.866 - ETA: 0s - loss: 0.3927 - acc: 0.866 - ETA: 0s - loss: 0.3924 - acc: 0.866 - ETA: 0s - loss: 0.3885 - acc: 0.867 - 3s 1ms/step - loss: 0.3880 - acc: 0.8673 - val_loss: 0.3409 - val_acc: 0.8815\n",
      "Epoch 12/50\n",
      "2012/2012 [==============================] - ETA: 1s - loss: 0.4717 - acc: 0.860 - ETA: 1s - loss: 0.3819 - acc: 0.885 - ETA: 1s - loss: 0.3696 - acc: 0.886 - ETA: 1s - loss: 0.3452 - acc: 0.890 - ETA: 1s - loss: 0.3480 - acc: 0.890 - ETA: 1s - loss: 0.3303 - acc: 0.896 - ETA: 1s - loss: 0.3600 - acc: 0.887 - ETA: 1s - loss: 0.3505 - acc: 0.888 - ETA: 1s - loss: 0.3507 - acc: 0.884 - ETA: 1s - loss: 0.3460 - acc: 0.886 - ETA: 0s - loss: 0.3484 - acc: 0.881 - ETA: 0s - loss: 0.3577 - acc: 0.880 - ETA: 0s - loss: 0.3712 - acc: 0.872 - ETA: 0s - loss: 0.3618 - acc: 0.875 - ETA: 0s - loss: 0.3545 - acc: 0.879 - ETA: 0s - loss: 0.3597 - acc: 0.880 - ETA: 0s - loss: 0.3567 - acc: 0.880 - ETA: 0s - loss: 0.3536 - acc: 0.880 - ETA: 0s - loss: 0.3644 - acc: 0.876 - ETA: 0s - loss: 0.3587 - acc: 0.878 - 3s 1ms/step - loss: 0.3584 - acc: 0.8782 - val_loss: 0.3263 - val_acc: 0.8852\n",
      "Epoch 13/50\n",
      "2012/2012 [==============================] - ETA: 2s - loss: 0.4697 - acc: 0.820 - ETA: 1s - loss: 0.4050 - acc: 0.845 - ETA: 1s - loss: 0.3376 - acc: 0.880 - ETA: 1s - loss: 0.3325 - acc: 0.885 - ETA: 1s - loss: 0.3345 - acc: 0.888 - ETA: 1s - loss: 0.3534 - acc: 0.883 - ETA: 1s - loss: 0.3623 - acc: 0.877 - ETA: 1s - loss: 0.3548 - acc: 0.881 - ETA: 1s - loss: 0.3404 - acc: 0.886 - ETA: 1s - loss: 0.3286 - acc: 0.893 - ETA: 0s - loss: 0.3224 - acc: 0.891 - ETA: 0s - loss: 0.3264 - acc: 0.890 - ETA: 0s - loss: 0.3246 - acc: 0.890 - ETA: 0s - loss: 0.3134 - acc: 0.892 - ETA: 0s - loss: 0.3104 - acc: 0.894 - ETA: 0s - loss: 0.3085 - acc: 0.893 - ETA: 0s - loss: 0.3066 - acc: 0.894 - ETA: 0s - loss: 0.3063 - acc: 0.893 - ETA: 0s - loss: 0.2971 - acc: 0.895 - ETA: 0s - loss: 0.2991 - acc: 0.896 - 3s 1ms/step - loss: 0.2994 - acc: 0.8961 - val_loss: 0.3434 - val_acc: 0.8852\n",
      "Epoch 14/50\n",
      "2012/2012 [==============================] - ETA: 2s - loss: 0.3906 - acc: 0.890 - ETA: 1s - loss: 0.3279 - acc: 0.885 - ETA: 1s - loss: 0.3567 - acc: 0.866 - ETA: 1s - loss: 0.3642 - acc: 0.875 - ETA: 1s - loss: 0.3534 - acc: 0.884 - ETA: 1s - loss: 0.3457 - acc: 0.886 - ETA: 1s - loss: 0.3375 - acc: 0.885 - ETA: 1s - loss: 0.3290 - acc: 0.886 - ETA: 1s - loss: 0.3172 - acc: 0.891 - ETA: 1s - loss: 0.3108 - acc: 0.893 - ETA: 1s - loss: 0.3155 - acc: 0.887 - ETA: 0s - loss: 0.3067 - acc: 0.891 - ETA: 0s - loss: 0.2993 - acc: 0.893 - ETA: 0s - loss: 0.3032 - acc: 0.891 - ETA: 0s - loss: 0.2959 - acc: 0.892 - ETA: 0s - loss: 0.2984 - acc: 0.890 - ETA: 0s - loss: 0.2969 - acc: 0.891 - ETA: 0s - loss: 0.2938 - acc: 0.892 - ETA: 0s - loss: 0.2988 - acc: 0.890 - ETA: 0s - loss: 0.2919 - acc: 0.893 - 3s 1ms/step - loss: 0.2909 - acc: 0.8936 - val_loss: 0.3162 - val_acc: 0.8905\n",
      "Epoch 15/50\n",
      "2012/2012 [==============================] - ETA: 2s - loss: 0.3349 - acc: 0.900 - ETA: 2s - loss: 0.2860 - acc: 0.905 - ETA: 2s - loss: 0.3208 - acc: 0.896 - ETA: 1s - loss: 0.2984 - acc: 0.902 - ETA: 1s - loss: 0.2897 - acc: 0.902 - ETA: 1s - loss: 0.2906 - acc: 0.900 - ETA: 1s - loss: 0.2918 - acc: 0.900 - ETA: 1s - loss: 0.2798 - acc: 0.903 - ETA: 1s - loss: 0.2802 - acc: 0.905 - ETA: 1s - loss: 0.2821 - acc: 0.903 - ETA: 1s - loss: 0.2803 - acc: 0.903 - ETA: 0s - loss: 0.2869 - acc: 0.900 - ETA: 0s - loss: 0.2829 - acc: 0.901 - ETA: 0s - loss: 0.2800 - acc: 0.902 - ETA: 0s - loss: 0.2762 - acc: 0.905 - ETA: 0s - loss: 0.2910 - acc: 0.900 - ETA: 0s - loss: 0.2916 - acc: 0.898 - ETA: 0s - loss: 0.2907 - acc: 0.898 - ETA: 0s - loss: 0.2833 - acc: 0.901 - ETA: 0s - loss: 0.2774 - acc: 0.903 - 3s 1ms/step - loss: 0.2762 - acc: 0.9031 - val_loss: 0.2794 - val_acc: 0.9061\n",
      "Epoch 16/50\n",
      "2012/2012 [==============================] - ETA: 2s - loss: 0.3026 - acc: 0.900 - ETA: 1s - loss: 0.3171 - acc: 0.890 - ETA: 1s - loss: 0.3365 - acc: 0.886 - ETA: 1s - loss: 0.3211 - acc: 0.890 - ETA: 1s - loss: 0.3007 - acc: 0.894 - ETA: 1s - loss: 0.2935 - acc: 0.893 - ETA: 1s - loss: 0.2962 - acc: 0.897 - ETA: 1s - loss: 0.2899 - acc: 0.898 - ETA: 1s - loss: 0.2821 - acc: 0.902 - ETA: 1s - loss: 0.2767 - acc: 0.900 - ETA: 1s - loss: 0.2791 - acc: 0.899 - ETA: 0s - loss: 0.2711 - acc: 0.901 - ETA: 0s - loss: 0.2687 - acc: 0.902 - ETA: 0s - loss: 0.2660 - acc: 0.903 - ETA: 0s - loss: 0.2626 - acc: 0.903 - ETA: 0s - loss: 0.2689 - acc: 0.901 - ETA: 0s - loss: 0.2655 - acc: 0.902 - ETA: 0s - loss: 0.2641 - acc: 0.903 - ETA: 0s - loss: 0.2620 - acc: 0.904 - ETA: 0s - loss: 0.2575 - acc: 0.907 - 3s 1ms/step - loss: 0.2567 - acc: 0.9071 - val_loss: 0.3088 - val_acc: 0.8890\n",
      "Epoch 17/50\n",
      "2012/2012 [==============================] - ETA: 2s - loss: 0.2425 - acc: 0.900 - ETA: 1s - loss: 0.2515 - acc: 0.900 - ETA: 1s - loss: 0.2475 - acc: 0.900 - ETA: 1s - loss: 0.2414 - acc: 0.915 - ETA: 1s - loss: 0.2478 - acc: 0.910 - ETA: 1s - loss: 0.2484 - acc: 0.913 - ETA: 1s - loss: 0.2368 - acc: 0.918 - ETA: 1s - loss: 0.2333 - acc: 0.918 - ETA: 1s - loss: 0.2290 - acc: 0.920 - ETA: 1s - loss: 0.2385 - acc: 0.916 - ETA: 1s - loss: 0.2383 - acc: 0.914 - ETA: 0s - loss: 0.2452 - acc: 0.913 - ETA: 0s - loss: 0.2463 - acc: 0.912 - ETA: 0s - loss: 0.2478 - acc: 0.911 - ETA: 0s - loss: 0.2511 - acc: 0.910 - ETA: 0s - loss: 0.2471 - acc: 0.910 - ETA: 0s - loss: 0.2471 - acc: 0.911 - ETA: 0s - loss: 0.2406 - acc: 0.914 - ETA: 0s - loss: 0.2433 - acc: 0.913 - ETA: 0s - loss: 0.2556 - acc: 0.909 - 3s 1ms/step - loss: 0.2558 - acc: 0.9095 - val_loss: 0.3181 - val_acc: 0.8912\n",
      "Epoch 18/50\n",
      "2012/2012 [==============================] - ETA: 1s - loss: 0.4964 - acc: 0.820 - ETA: 1s - loss: 0.3563 - acc: 0.860 - ETA: 1s - loss: 0.3121 - acc: 0.880 - ETA: 1s - loss: 0.2967 - acc: 0.882 - ETA: 1s - loss: 0.3008 - acc: 0.890 - ETA: 1s - loss: 0.2964 - acc: 0.893 - ETA: 1s - loss: 0.2766 - acc: 0.898 - ETA: 1s - loss: 0.2743 - acc: 0.897 - ETA: 1s - loss: 0.2912 - acc: 0.890 - ETA: 1s - loss: 0.2812 - acc: 0.893 - ETA: 1s - loss: 0.2760 - acc: 0.895 - ETA: 0s - loss: 0.2646 - acc: 0.900 - ETA: 0s - loss: 0.2690 - acc: 0.899 - ETA: 0s - loss: 0.2661 - acc: 0.900 - ETA: 0s - loss: 0.2686 - acc: 0.901 - ETA: 0s - loss: 0.2703 - acc: 0.901 - ETA: 0s - loss: 0.2628 - acc: 0.904 - ETA: 0s - loss: 0.2657 - acc: 0.903 - ETA: 0s - loss: 0.2702 - acc: 0.901 - ETA: 0s - loss: 0.2704 - acc: 0.902 - 3s 1ms/step - loss: 0.2691 - acc: 0.9026 - val_loss: 0.2814 - val_acc: 0.9046\n",
      "Epoch 19/50\n"
     ]
    },
    {
     "name": "stdout",
     "output_type": "stream",
     "text": [
      "2012/2012 [==============================] - ETA: 1s - loss: 0.1928 - acc: 0.920 - ETA: 1s - loss: 0.2611 - acc: 0.905 - ETA: 1s - loss: 0.2389 - acc: 0.910 - ETA: 1s - loss: 0.2223 - acc: 0.910 - ETA: 1s - loss: 0.2037 - acc: 0.918 - ETA: 1s - loss: 0.2122 - acc: 0.915 - ETA: 1s - loss: 0.2191 - acc: 0.914 - ETA: 1s - loss: 0.2254 - acc: 0.911 - ETA: 1s - loss: 0.2229 - acc: 0.912 - ETA: 1s - loss: 0.2333 - acc: 0.909 - ETA: 0s - loss: 0.2367 - acc: 0.909 - ETA: 0s - loss: 0.2292 - acc: 0.911 - ETA: 0s - loss: 0.2304 - acc: 0.914 - ETA: 0s - loss: 0.2227 - acc: 0.917 - ETA: 0s - loss: 0.2291 - acc: 0.914 - ETA: 0s - loss: 0.2316 - acc: 0.913 - ETA: 0s - loss: 0.2293 - acc: 0.914 - ETA: 0s - loss: 0.2262 - acc: 0.915 - ETA: 0s - loss: 0.2275 - acc: 0.914 - ETA: 0s - loss: 0.2261 - acc: 0.914 - 3s 1ms/step - loss: 0.2261 - acc: 0.9150 - val_loss: 0.2894 - val_acc: 0.9069\n",
      "Epoch 20/50\n",
      "2012/2012 [==============================] - ETA: 1s - loss: 0.2712 - acc: 0.890 - ETA: 1s - loss: 0.2398 - acc: 0.900 - ETA: 1s - loss: 0.2551 - acc: 0.903 - ETA: 1s - loss: 0.2417 - acc: 0.910 - ETA: 1s - loss: 0.2585 - acc: 0.906 - ETA: 1s - loss: 0.2625 - acc: 0.906 - ETA: 1s - loss: 0.2503 - acc: 0.910 - ETA: 1s - loss: 0.2467 - acc: 0.913 - ETA: 1s - loss: 0.2434 - acc: 0.913 - ETA: 1s - loss: 0.2471 - acc: 0.913 - ETA: 0s - loss: 0.2468 - acc: 0.913 - ETA: 0s - loss: 0.2502 - acc: 0.912 - ETA: 0s - loss: 0.2379 - acc: 0.916 - ETA: 0s - loss: 0.2322 - acc: 0.920 - ETA: 0s - loss: 0.2247 - acc: 0.922 - ETA: 0s - loss: 0.2252 - acc: 0.923 - ETA: 0s - loss: 0.2256 - acc: 0.922 - ETA: 0s - loss: 0.2244 - acc: 0.922 - ETA: 0s - loss: 0.2201 - acc: 0.924 - ETA: 0s - loss: 0.2234 - acc: 0.923 - 3s 1ms/step - loss: 0.2228 - acc: 0.9235 - val_loss: 0.2932 - val_acc: 0.9046\n",
      "Epoch 21/50\n",
      "2012/2012 [==============================] - ETA: 2s - loss: 0.1175 - acc: 0.970 - ETA: 2s - loss: 0.1267 - acc: 0.955 - ETA: 1s - loss: 0.1309 - acc: 0.953 - ETA: 1s - loss: 0.1600 - acc: 0.942 - ETA: 1s - loss: 0.1717 - acc: 0.938 - ETA: 1s - loss: 0.1808 - acc: 0.933 - ETA: 1s - loss: 0.2047 - acc: 0.924 - ETA: 1s - loss: 0.1954 - acc: 0.925 - ETA: 1s - loss: 0.2192 - acc: 0.917 - ETA: 1s - loss: 0.2218 - acc: 0.915 - ETA: 1s - loss: 0.2294 - acc: 0.911 - ETA: 0s - loss: 0.2521 - acc: 0.909 - ETA: 0s - loss: 0.2563 - acc: 0.906 - ETA: 0s - loss: 0.2551 - acc: 0.905 - ETA: 0s - loss: 0.2508 - acc: 0.907 - ETA: 0s - loss: 0.2520 - acc: 0.909 - ETA: 0s - loss: 0.2437 - acc: 0.912 - ETA: 0s - loss: 0.2406 - acc: 0.915 - ETA: 0s - loss: 0.2372 - acc: 0.916 - ETA: 0s - loss: 0.2316 - acc: 0.917 - 3s 1ms/step - loss: 0.2319 - acc: 0.9170 - val_loss: 0.2945 - val_acc: 0.9016\n",
      "Epoch 22/50\n",
      "2012/2012 [==============================] - ETA: 2s - loss: 0.1724 - acc: 0.960 - ETA: 2s - loss: 0.1901 - acc: 0.950 - ETA: 2s - loss: 0.2271 - acc: 0.930 - ETA: 2s - loss: 0.2170 - acc: 0.930 - ETA: 1s - loss: 0.1925 - acc: 0.938 - ETA: 1s - loss: 0.1852 - acc: 0.938 - ETA: 1s - loss: 0.1911 - acc: 0.938 - ETA: 1s - loss: 0.1892 - acc: 0.940 - ETA: 1s - loss: 0.1955 - acc: 0.935 - ETA: 1s - loss: 0.2032 - acc: 0.931 - ETA: 1s - loss: 0.1974 - acc: 0.932 - ETA: 0s - loss: 0.2007 - acc: 0.931 - ETA: 0s - loss: 0.1982 - acc: 0.932 - ETA: 0s - loss: 0.1953 - acc: 0.932 - ETA: 0s - loss: 0.2018 - acc: 0.930 - ETA: 0s - loss: 0.2060 - acc: 0.927 - ETA: 0s - loss: 0.2037 - acc: 0.927 - ETA: 0s - loss: 0.2101 - acc: 0.924 - ETA: 0s - loss: 0.2111 - acc: 0.923 - ETA: 0s - loss: 0.2121 - acc: 0.922 - 3s 1ms/step - loss: 0.2119 - acc: 0.9220 - val_loss: 0.2889 - val_acc: 0.9091\n",
      "Epoch 23/50\n",
      "2012/2012 [==============================] - ETA: 2s - loss: 0.2317 - acc: 0.910 - ETA: 2s - loss: 0.2321 - acc: 0.915 - ETA: 2s - loss: 0.2292 - acc: 0.920 - ETA: 1s - loss: 0.2064 - acc: 0.927 - ETA: 1s - loss: 0.2003 - acc: 0.924 - ETA: 1s - loss: 0.1916 - acc: 0.926 - ETA: 1s - loss: 0.1990 - acc: 0.922 - ETA: 1s - loss: 0.1930 - acc: 0.926 - ETA: 1s - loss: 0.1871 - acc: 0.930 - ETA: 1s - loss: 0.1931 - acc: 0.931 - ETA: 1s - loss: 0.1912 - acc: 0.931 - ETA: 0s - loss: 0.1968 - acc: 0.929 - ETA: 0s - loss: 0.1969 - acc: 0.928 - ETA: 0s - loss: 0.1968 - acc: 0.927 - ETA: 0s - loss: 0.1940 - acc: 0.929 - ETA: 0s - loss: 0.1958 - acc: 0.927 - ETA: 0s - loss: 0.2041 - acc: 0.925 - ETA: 0s - loss: 0.2089 - acc: 0.923 - ETA: 0s - loss: 0.2059 - acc: 0.924 - ETA: 0s - loss: 0.2048 - acc: 0.925 - 3s 1ms/step - loss: 0.2057 - acc: 0.9245 - val_loss: 0.2940 - val_acc: 0.9098\n",
      "Epoch 24/50\n",
      "2012/2012 [==============================] - ETA: 2s - loss: 0.2513 - acc: 0.910 - ETA: 1s - loss: 0.2486 - acc: 0.905 - ETA: 1s - loss: 0.2180 - acc: 0.920 - ETA: 1s - loss: 0.2173 - acc: 0.922 - ETA: 1s - loss: 0.2221 - acc: 0.920 - ETA: 1s - loss: 0.2159 - acc: 0.920 - ETA: 1s - loss: 0.2073 - acc: 0.921 - ETA: 1s - loss: 0.1980 - acc: 0.925 - ETA: 1s - loss: 0.2003 - acc: 0.925 - ETA: 1s - loss: 0.2047 - acc: 0.923 - ETA: 1s - loss: 0.1976 - acc: 0.924 - ETA: 0s - loss: 0.1938 - acc: 0.926 - ETA: 0s - loss: 0.1929 - acc: 0.927 - ETA: 0s - loss: 0.1922 - acc: 0.928 - ETA: 0s - loss: 0.1898 - acc: 0.928 - ETA: 0s - loss: 0.1980 - acc: 0.925 - ETA: 0s - loss: 0.1946 - acc: 0.925 - ETA: 0s - loss: 0.1943 - acc: 0.925 - ETA: 0s - loss: 0.1908 - acc: 0.927 - ETA: 0s - loss: 0.1901 - acc: 0.929 - 3s 1ms/step - loss: 0.1890 - acc: 0.9294 - val_loss: 0.2787 - val_acc: 0.9113\n",
      "Epoch 25/50\n",
      "2012/2012 [==============================] - ETA: 2s - loss: 0.1803 - acc: 0.930 - ETA: 2s - loss: 0.1708 - acc: 0.935 - ETA: 2s - loss: 0.1811 - acc: 0.936 - ETA: 2s - loss: 0.1734 - acc: 0.935 - ETA: 1s - loss: 0.1826 - acc: 0.932 - ETA: 1s - loss: 0.1784 - acc: 0.935 - ETA: 1s - loss: 0.1810 - acc: 0.931 - ETA: 1s - loss: 0.1828 - acc: 0.928 - ETA: 1s - loss: 0.1784 - acc: 0.932 - ETA: 1s - loss: 0.1725 - acc: 0.934 - ETA: 1s - loss: 0.1670 - acc: 0.936 - ETA: 1s - loss: 0.1662 - acc: 0.935 - ETA: 0s - loss: 0.1671 - acc: 0.936 - ETA: 0s - loss: 0.1715 - acc: 0.935 - ETA: 0s - loss: 0.1649 - acc: 0.937 - ETA: 0s - loss: 0.1639 - acc: 0.938 - ETA: 0s - loss: 0.1627 - acc: 0.939 - ETA: 0s - loss: 0.1608 - acc: 0.938 - ETA: 0s - loss: 0.1620 - acc: 0.938 - ETA: 0s - loss: 0.1659 - acc: 0.936 - 3s 2ms/step - loss: 0.1664 - acc: 0.9364 - val_loss: 0.3149 - val_acc: 0.9061\n",
      "Epoch 26/50\n",
      "2012/2012 [==============================] - ETA: 2s - loss: 0.2856 - acc: 0.910 - ETA: 2s - loss: 0.1773 - acc: 0.945 - ETA: 2s - loss: 0.1673 - acc: 0.946 - ETA: 1s - loss: 0.1767 - acc: 0.940 - ETA: 1s - loss: 0.1801 - acc: 0.942 - ETA: 1s - loss: 0.1670 - acc: 0.945 - ETA: 1s - loss: 0.1673 - acc: 0.944 - ETA: 1s - loss: 0.1582 - acc: 0.948 - ETA: 1s - loss: 0.1618 - acc: 0.946 - ETA: 1s - loss: 0.1583 - acc: 0.947 - ETA: 1s - loss: 0.1601 - acc: 0.945 - ETA: 1s - loss: 0.1643 - acc: 0.944 - ETA: 0s - loss: 0.1698 - acc: 0.941 - ETA: 0s - loss: 0.1657 - acc: 0.942 - ETA: 0s - loss: 0.1702 - acc: 0.942 - ETA: 0s - loss: 0.1659 - acc: 0.943 - ETA: 0s - loss: 0.1758 - acc: 0.938 - ETA: 0s - loss: 0.1717 - acc: 0.940 - ETA: 0s - loss: 0.1689 - acc: 0.940 - ETA: 0s - loss: 0.1689 - acc: 0.940 - 3s 2ms/step - loss: 0.1686 - acc: 0.9404 - val_loss: 0.3038 - val_acc: 0.9113\n",
      "Epoch 27/50\n",
      "2012/2012 [==============================] - ETA: 2s - loss: 0.1012 - acc: 0.970 - ETA: 2s - loss: 0.0822 - acc: 0.980 - ETA: 2s - loss: 0.1086 - acc: 0.966 - ETA: 2s - loss: 0.1246 - acc: 0.962 - ETA: 1s - loss: 0.1211 - acc: 0.958 - ETA: 1s - loss: 0.1261 - acc: 0.956 - ETA: 1s - loss: 0.1348 - acc: 0.954 - ETA: 1s - loss: 0.1463 - acc: 0.947 - ETA: 1s - loss: 0.1472 - acc: 0.946 - ETA: 1s - loss: 0.1474 - acc: 0.947 - ETA: 1s - loss: 0.1467 - acc: 0.947 - ETA: 1s - loss: 0.1431 - acc: 0.948 - ETA: 0s - loss: 0.1455 - acc: 0.946 - ETA: 0s - loss: 0.1510 - acc: 0.945 - ETA: 0s - loss: 0.1519 - acc: 0.944 - ETA: 0s - loss: 0.1613 - acc: 0.939 - ETA: 0s - loss: 0.1630 - acc: 0.937 - ETA: 0s - loss: 0.1633 - acc: 0.937 - ETA: 0s - loss: 0.1579 - acc: 0.939 - ETA: 0s - loss: 0.1611 - acc: 0.938 - 3s 2ms/step - loss: 0.1612 - acc: 0.9384 - val_loss: 0.3104 - val_acc: 0.9069\n",
      "Epoch 28/50\n"
     ]
    },
    {
     "name": "stdout",
     "output_type": "stream",
     "text": [
      "2012/2012 [==============================] - ETA: 2s - loss: 0.1804 - acc: 0.950 - ETA: 2s - loss: 0.1293 - acc: 0.965 - ETA: 2s - loss: 0.1522 - acc: 0.946 - ETA: 1s - loss: 0.1465 - acc: 0.945 - ETA: 1s - loss: 0.1554 - acc: 0.942 - ETA: 1s - loss: 0.1568 - acc: 0.943 - ETA: 1s - loss: 0.1682 - acc: 0.940 - ETA: 1s - loss: 0.1660 - acc: 0.942 - ETA: 1s - loss: 0.1694 - acc: 0.941 - ETA: 1s - loss: 0.1696 - acc: 0.941 - ETA: 1s - loss: 0.1824 - acc: 0.937 - ETA: 0s - loss: 0.1862 - acc: 0.935 - ETA: 0s - loss: 0.1886 - acc: 0.934 - ETA: 0s - loss: 0.1834 - acc: 0.935 - ETA: 0s - loss: 0.1806 - acc: 0.935 - ETA: 0s - loss: 0.1779 - acc: 0.937 - ETA: 0s - loss: 0.1732 - acc: 0.939 - ETA: 0s - loss: 0.1733 - acc: 0.938 - ETA: 0s - loss: 0.1722 - acc: 0.939 - ETA: 0s - loss: 0.1708 - acc: 0.940 - 3s 1ms/step - loss: 0.1700 - acc: 0.9409 - val_loss: 0.2885 - val_acc: 0.9136\n",
      "Epoch 29/50\n",
      "2012/2012 [==============================] - ETA: 2s - loss: 0.1114 - acc: 0.950 - ETA: 2s - loss: 0.1635 - acc: 0.925 - ETA: 2s - loss: 0.1885 - acc: 0.920 - ETA: 1s - loss: 0.1639 - acc: 0.932 - ETA: 1s - loss: 0.1596 - acc: 0.932 - ETA: 1s - loss: 0.1639 - acc: 0.931 - ETA: 1s - loss: 0.1527 - acc: 0.935 - ETA: 1s - loss: 0.1522 - acc: 0.936 - ETA: 1s - loss: 0.1485 - acc: 0.937 - ETA: 1s - loss: 0.1454 - acc: 0.943 - ETA: 1s - loss: 0.1541 - acc: 0.940 - ETA: 0s - loss: 0.1632 - acc: 0.936 - ETA: 0s - loss: 0.1586 - acc: 0.939 - ETA: 0s - loss: 0.1621 - acc: 0.937 - ETA: 0s - loss: 0.1625 - acc: 0.937 - ETA: 0s - loss: 0.1635 - acc: 0.936 - ETA: 0s - loss: 0.1642 - acc: 0.937 - ETA: 0s - loss: 0.1605 - acc: 0.940 - ETA: 0s - loss: 0.1635 - acc: 0.938 - ETA: 0s - loss: 0.1610 - acc: 0.939 - 3s 1ms/step - loss: 0.1601 - acc: 0.9399 - val_loss: 0.3040 - val_acc: 0.9091\n",
      "Epoch 30/50\n",
      "2012/2012 [==============================] - ETA: 2s - loss: 0.1103 - acc: 0.960 - ETA: 2s - loss: 0.1224 - acc: 0.955 - ETA: 1s - loss: 0.1338 - acc: 0.946 - ETA: 1s - loss: 0.1348 - acc: 0.940 - ETA: 1s - loss: 0.1403 - acc: 0.938 - ETA: 1s - loss: 0.1550 - acc: 0.935 - ETA: 1s - loss: 0.1556 - acc: 0.937 - ETA: 1s - loss: 0.1464 - acc: 0.942 - ETA: 1s - loss: 0.1399 - acc: 0.945 - ETA: 1s - loss: 0.1368 - acc: 0.946 - ETA: 1s - loss: 0.1425 - acc: 0.944 - ETA: 0s - loss: 0.1393 - acc: 0.946 - ETA: 0s - loss: 0.1343 - acc: 0.949 - ETA: 0s - loss: 0.1358 - acc: 0.949 - ETA: 0s - loss: 0.1361 - acc: 0.948 - ETA: 0s - loss: 0.1387 - acc: 0.948 - ETA: 0s - loss: 0.1368 - acc: 0.949 - ETA: 0s - loss: 0.1375 - acc: 0.948 - ETA: 0s - loss: 0.1393 - acc: 0.947 - ETA: 0s - loss: 0.1432 - acc: 0.947 - 3s 1ms/step - loss: 0.1435 - acc: 0.9473 - val_loss: 0.3319 - val_acc: 0.9031\n",
      "Epoch 31/50\n",
      "2012/2012 [==============================] - ETA: 2s - loss: 0.2924 - acc: 0.890 - ETA: 2s - loss: 0.1818 - acc: 0.930 - ETA: 1s - loss: 0.1849 - acc: 0.936 - ETA: 1s - loss: 0.1555 - acc: 0.947 - ETA: 1s - loss: 0.1536 - acc: 0.948 - ETA: 1s - loss: 0.1472 - acc: 0.953 - ETA: 1s - loss: 0.1377 - acc: 0.954 - ETA: 1s - loss: 0.1418 - acc: 0.952 - ETA: 1s - loss: 0.1371 - acc: 0.954 - ETA: 1s - loss: 0.1320 - acc: 0.956 - ETA: 1s - loss: 0.1345 - acc: 0.954 - ETA: 0s - loss: 0.1377 - acc: 0.950 - ETA: 0s - loss: 0.1358 - acc: 0.951 - ETA: 0s - loss: 0.1395 - acc: 0.949 - ETA: 0s - loss: 0.1398 - acc: 0.948 - ETA: 0s - loss: 0.1409 - acc: 0.949 - ETA: 0s - loss: 0.1438 - acc: 0.948 - ETA: 0s - loss: 0.1462 - acc: 0.948 - ETA: 0s - loss: 0.1441 - acc: 0.949 - ETA: 0s - loss: 0.1487 - acc: 0.947 - 3s 1ms/step - loss: 0.1490 - acc: 0.9468 - val_loss: 0.3146 - val_acc: 0.9061\n",
      "Epoch 32/50\n",
      "2012/2012 [==============================] - ETA: 2s - loss: 0.1061 - acc: 0.970 - ETA: 2s - loss: 0.1302 - acc: 0.970 - ETA: 1s - loss: 0.1234 - acc: 0.966 - ETA: 1s - loss: 0.1185 - acc: 0.962 - ETA: 1s - loss: 0.1396 - acc: 0.950 - ETA: 1s - loss: 0.1405 - acc: 0.951 - ETA: 1s - loss: 0.1424 - acc: 0.948 - ETA: 1s - loss: 0.1291 - acc: 0.953 - ETA: 1s - loss: 0.1210 - acc: 0.956 - ETA: 1s - loss: 0.1171 - acc: 0.959 - ETA: 1s - loss: 0.1150 - acc: 0.960 - ETA: 0s - loss: 0.1159 - acc: 0.960 - ETA: 0s - loss: 0.1154 - acc: 0.960 - ETA: 0s - loss: 0.1190 - acc: 0.957 - ETA: 0s - loss: 0.1171 - acc: 0.958 - ETA: 0s - loss: 0.1160 - acc: 0.958 - ETA: 0s - loss: 0.1209 - acc: 0.955 - ETA: 0s - loss: 0.1268 - acc: 0.953 - ETA: 0s - loss: 0.1259 - acc: 0.954 - ETA: 0s - loss: 0.1267 - acc: 0.954 - 3s 1ms/step - loss: 0.1260 - acc: 0.9548 - val_loss: 0.3070 - val_acc: 0.9098\n",
      "Epoch 33/50\n",
      "2012/2012 [==============================] - ETA: 2s - loss: 0.1814 - acc: 0.940 - ETA: 2s - loss: 0.1286 - acc: 0.960 - ETA: 1s - loss: 0.1375 - acc: 0.960 - ETA: 1s - loss: 0.1211 - acc: 0.967 - ETA: 1s - loss: 0.1208 - acc: 0.966 - ETA: 1s - loss: 0.1180 - acc: 0.968 - ETA: 1s - loss: 0.1111 - acc: 0.968 - ETA: 1s - loss: 0.1035 - acc: 0.971 - ETA: 1s - loss: 0.1064 - acc: 0.968 - ETA: 1s - loss: 0.1096 - acc: 0.967 - ETA: 1s - loss: 0.1064 - acc: 0.968 - ETA: 1s - loss: 0.1049 - acc: 0.968 - ETA: 0s - loss: 0.1081 - acc: 0.966 - ETA: 0s - loss: 0.1147 - acc: 0.964 - ETA: 0s - loss: 0.1116 - acc: 0.965 - ETA: 0s - loss: 0.1121 - acc: 0.965 - ETA: 0s - loss: 0.1134 - acc: 0.964 - ETA: 0s - loss: 0.1108 - acc: 0.965 - ETA: 0s - loss: 0.1101 - acc: 0.965 - ETA: 0s - loss: 0.1111 - acc: 0.965 - 3s 1ms/step - loss: 0.1120 - acc: 0.9647 - val_loss: 0.3595 - val_acc: 0.9076\n",
      "Epoch 34/50\n",
      "2012/2012 [==============================] - ETA: 2s - loss: 0.1198 - acc: 0.960 - ETA: 2s - loss: 0.1086 - acc: 0.965 - ETA: 1s - loss: 0.1178 - acc: 0.963 - ETA: 1s - loss: 0.1130 - acc: 0.965 - ETA: 1s - loss: 0.1167 - acc: 0.962 - ETA: 1s - loss: 0.1274 - acc: 0.953 - ETA: 1s - loss: 0.1251 - acc: 0.957 - ETA: 1s - loss: 0.1247 - acc: 0.957 - ETA: 1s - loss: 0.1295 - acc: 0.956 - ETA: 1s - loss: 0.1297 - acc: 0.959 - ETA: 1s - loss: 0.1260 - acc: 0.959 - ETA: 1s - loss: 0.1251 - acc: 0.960 - ETA: 0s - loss: 0.1268 - acc: 0.959 - ETA: 0s - loss: 0.1307 - acc: 0.956 - ETA: 0s - loss: 0.1277 - acc: 0.956 - ETA: 0s - loss: 0.1226 - acc: 0.957 - ETA: 0s - loss: 0.1243 - acc: 0.957 - ETA: 0s - loss: 0.1199 - acc: 0.958 - ETA: 0s - loss: 0.1188 - acc: 0.959 - ETA: 0s - loss: 0.1215 - acc: 0.958 - 3s 1ms/step - loss: 0.1208 - acc: 0.9583 - val_loss: 0.3737 - val_acc: 0.9151\n",
      "Epoch 35/50\n",
      "2012/2012 [==============================] - ETA: 2s - loss: 0.1581 - acc: 0.950 - ETA: 2s - loss: 0.1324 - acc: 0.955 - ETA: 1s - loss: 0.1265 - acc: 0.953 - ETA: 1s - loss: 0.1264 - acc: 0.952 - ETA: 1s - loss: 0.1220 - acc: 0.958 - ETA: 1s - loss: 0.1264 - acc: 0.958 - ETA: 1s - loss: 0.1121 - acc: 0.964 - ETA: 1s - loss: 0.1107 - acc: 0.963 - ETA: 1s - loss: 0.1098 - acc: 0.962 - ETA: 1s - loss: 0.1120 - acc: 0.959 - ETA: 1s - loss: 0.1079 - acc: 0.960 - ETA: 0s - loss: 0.1037 - acc: 0.962 - ETA: 0s - loss: 0.1086 - acc: 0.960 - ETA: 0s - loss: 0.1064 - acc: 0.960 - ETA: 0s - loss: 0.1040 - acc: 0.960 - ETA: 0s - loss: 0.1033 - acc: 0.961 - ETA: 0s - loss: 0.1042 - acc: 0.960 - ETA: 0s - loss: 0.1022 - acc: 0.960 - ETA: 0s - loss: 0.1151 - acc: 0.958 - ETA: 0s - loss: 0.1131 - acc: 0.959 - 3s 1ms/step - loss: 0.1132 - acc: 0.9592 - val_loss: 0.3313 - val_acc: 0.9098\n",
      "Epoch 36/50\n",
      "2012/2012 [==============================] - ETA: 2s - loss: 0.0757 - acc: 0.960 - ETA: 2s - loss: 0.1253 - acc: 0.945 - ETA: 2s - loss: 0.1210 - acc: 0.950 - ETA: 1s - loss: 0.1160 - acc: 0.957 - ETA: 1s - loss: 0.1114 - acc: 0.962 - ETA: 1s - loss: 0.1092 - acc: 0.963 - ETA: 1s - loss: 0.1178 - acc: 0.958 - ETA: 1s - loss: 0.1145 - acc: 0.960 - ETA: 1s - loss: 0.1083 - acc: 0.963 - ETA: 1s - loss: 0.1026 - acc: 0.965 - ETA: 1s - loss: 0.1077 - acc: 0.962 - ETA: 0s - loss: 0.1033 - acc: 0.965 - ETA: 0s - loss: 0.1051 - acc: 0.965 - ETA: 0s - loss: 0.1092 - acc: 0.964 - ETA: 0s - loss: 0.1086 - acc: 0.964 - ETA: 0s - loss: 0.1061 - acc: 0.964 - ETA: 0s - loss: 0.1028 - acc: 0.965 - ETA: 0s - loss: 0.1007 - acc: 0.967 - ETA: 0s - loss: 0.1004 - acc: 0.967 - ETA: 0s - loss: 0.0999 - acc: 0.967 - 3s 1ms/step - loss: 0.0993 - acc: 0.9677 - val_loss: 0.3238 - val_acc: 0.9091\n",
      "Epoch 37/50\n"
     ]
    },
    {
     "name": "stdout",
     "output_type": "stream",
     "text": [
      "2012/2012 [==============================] - ETA: 2s - loss: 0.1135 - acc: 0.950 - ETA: 1s - loss: 0.1325 - acc: 0.935 - ETA: 1s - loss: 0.1117 - acc: 0.956 - ETA: 1s - loss: 0.1088 - acc: 0.960 - ETA: 1s - loss: 0.0929 - acc: 0.966 - ETA: 1s - loss: 0.1019 - acc: 0.958 - ETA: 1s - loss: 0.1024 - acc: 0.958 - ETA: 1s - loss: 0.1001 - acc: 0.960 - ETA: 1s - loss: 0.1083 - acc: 0.961 - ETA: 1s - loss: 0.1041 - acc: 0.962 - ETA: 0s - loss: 0.0992 - acc: 0.965 - ETA: 0s - loss: 0.0951 - acc: 0.966 - ETA: 0s - loss: 0.0989 - acc: 0.965 - ETA: 0s - loss: 0.0974 - acc: 0.966 - ETA: 0s - loss: 0.0977 - acc: 0.966 - ETA: 0s - loss: 0.0968 - acc: 0.966 - ETA: 0s - loss: 0.0964 - acc: 0.966 - ETA: 0s - loss: 0.0945 - acc: 0.966 - ETA: 0s - loss: 0.0919 - acc: 0.966 - ETA: 0s - loss: 0.0901 - acc: 0.967 - 3s 1ms/step - loss: 0.0896 - acc: 0.9672 - val_loss: 0.3431 - val_acc: 0.9136\n",
      "Epoch 38/50\n",
      "2012/2012 [==============================] - ETA: 2s - loss: 0.0988 - acc: 0.970 - ETA: 2s - loss: 0.0906 - acc: 0.975 - ETA: 1s - loss: 0.1118 - acc: 0.966 - ETA: 1s - loss: 0.1106 - acc: 0.965 - ETA: 1s - loss: 0.0967 - acc: 0.970 - ETA: 1s - loss: 0.1049 - acc: 0.966 - ETA: 1s - loss: 0.1009 - acc: 0.962 - ETA: 1s - loss: 0.1069 - acc: 0.960 - ETA: 1s - loss: 0.1036 - acc: 0.961 - ETA: 1s - loss: 0.1003 - acc: 0.963 - ETA: 0s - loss: 0.0967 - acc: 0.964 - ETA: 0s - loss: 0.0952 - acc: 0.965 - ETA: 0s - loss: 0.1033 - acc: 0.963 - ETA: 0s - loss: 0.1028 - acc: 0.962 - ETA: 0s - loss: 0.1031 - acc: 0.962 - ETA: 0s - loss: 0.1028 - acc: 0.963 - ETA: 0s - loss: 0.1004 - acc: 0.963 - ETA: 0s - loss: 0.1006 - acc: 0.962 - ETA: 0s - loss: 0.0986 - acc: 0.962 - ETA: 0s - loss: 0.0965 - acc: 0.964 - 3s 1ms/step - loss: 0.0963 - acc: 0.9642 - val_loss: 0.4256 - val_acc: 0.9031\n",
      "Epoch 39/50\n",
      "2012/2012 [==============================] - ETA: 1s - loss: 0.1427 - acc: 0.920 - ETA: 1s - loss: 0.1226 - acc: 0.950 - ETA: 1s - loss: 0.1093 - acc: 0.956 - ETA: 1s - loss: 0.1024 - acc: 0.960 - ETA: 1s - loss: 0.0981 - acc: 0.964 - ETA: 1s - loss: 0.0868 - acc: 0.970 - ETA: 1s - loss: 0.0803 - acc: 0.972 - ETA: 1s - loss: 0.0912 - acc: 0.970 - ETA: 1s - loss: 0.0934 - acc: 0.967 - ETA: 1s - loss: 0.0915 - acc: 0.967 - ETA: 0s - loss: 0.0854 - acc: 0.970 - ETA: 0s - loss: 0.0912 - acc: 0.968 - ETA: 0s - loss: 0.0931 - acc: 0.966 - ETA: 0s - loss: 0.0962 - acc: 0.967 - ETA: 0s - loss: 0.0988 - acc: 0.964 - ETA: 0s - loss: 0.0976 - acc: 0.965 - ETA: 0s - loss: 0.1043 - acc: 0.964 - ETA: 0s - loss: 0.1101 - acc: 0.962 - ETA: 0s - loss: 0.1109 - acc: 0.963 - ETA: 0s - loss: 0.1099 - acc: 0.964 - 3s 1ms/step - loss: 0.1124 - acc: 0.9632 - val_loss: 0.4057 - val_acc: 0.9024\n",
      "Epoch 40/50\n",
      "2012/2012 [==============================] - ETA: 2s - loss: 0.1027 - acc: 0.960 - ETA: 1s - loss: 0.1002 - acc: 0.965 - ETA: 1s - loss: 0.1230 - acc: 0.956 - ETA: 1s - loss: 0.1184 - acc: 0.962 - ETA: 1s - loss: 0.1108 - acc: 0.964 - ETA: 1s - loss: 0.1110 - acc: 0.965 - ETA: 1s - loss: 0.1163 - acc: 0.962 - ETA: 1s - loss: 0.1060 - acc: 0.965 - ETA: 1s - loss: 0.1181 - acc: 0.963 - ETA: 1s - loss: 0.1167 - acc: 0.963 - ETA: 0s - loss: 0.1105 - acc: 0.964 - ETA: 0s - loss: 0.1056 - acc: 0.965 - ETA: 0s - loss: 0.1040 - acc: 0.966 - ETA: 0s - loss: 0.1062 - acc: 0.965 - ETA: 0s - loss: 0.1115 - acc: 0.963 - ETA: 0s - loss: 0.1136 - acc: 0.963 - ETA: 0s - loss: 0.1077 - acc: 0.965 - ETA: 0s - loss: 0.1064 - acc: 0.966 - ETA: 0s - loss: 0.1056 - acc: 0.965 - ETA: 0s - loss: 0.1071 - acc: 0.965 - 3s 1ms/step - loss: 0.1076 - acc: 0.9652 - val_loss: 0.3646 - val_acc: 0.9151\n",
      "Epoch 41/50\n",
      "2012/2012 [==============================] - ETA: 1s - loss: 0.1353 - acc: 0.980 - ETA: 1s - loss: 0.0804 - acc: 0.990 - ETA: 1s - loss: 0.0937 - acc: 0.976 - ETA: 1s - loss: 0.0817 - acc: 0.980 - ETA: 1s - loss: 0.0860 - acc: 0.974 - ETA: 1s - loss: 0.0913 - acc: 0.973 - ETA: 1s - loss: 0.0898 - acc: 0.972 - ETA: 1s - loss: 0.0887 - acc: 0.975 - ETA: 1s - loss: 0.0922 - acc: 0.971 - ETA: 1s - loss: 0.0911 - acc: 0.972 - ETA: 0s - loss: 0.0876 - acc: 0.973 - ETA: 0s - loss: 0.0833 - acc: 0.975 - ETA: 0s - loss: 0.0859 - acc: 0.973 - ETA: 0s - loss: 0.0873 - acc: 0.971 - ETA: 0s - loss: 0.0842 - acc: 0.972 - ETA: 0s - loss: 0.0824 - acc: 0.973 - ETA: 0s - loss: 0.0825 - acc: 0.972 - ETA: 0s - loss: 0.0806 - acc: 0.973 - ETA: 0s - loss: 0.0820 - acc: 0.973 - ETA: 0s - loss: 0.0806 - acc: 0.974 - 3s 1ms/step - loss: 0.0813 - acc: 0.9737 - val_loss: 0.3499 - val_acc: 0.9113\n",
      "Epoch 42/50\n",
      "2012/2012 [==============================] - ETA: 2s - loss: 0.0869 - acc: 0.990 - ETA: 1s - loss: 0.0712 - acc: 0.985 - ETA: 1s - loss: 0.0614 - acc: 0.986 - ETA: 1s - loss: 0.0609 - acc: 0.987 - ETA: 1s - loss: 0.0621 - acc: 0.984 - ETA: 1s - loss: 0.0579 - acc: 0.986 - ETA: 1s - loss: 0.0559 - acc: 0.985 - ETA: 1s - loss: 0.0596 - acc: 0.983 - ETA: 1s - loss: 0.0654 - acc: 0.978 - ETA: 1s - loss: 0.0666 - acc: 0.980 - ETA: 1s - loss: 0.0648 - acc: 0.980 - ETA: 0s - loss: 0.0672 - acc: 0.978 - ETA: 0s - loss: 0.0715 - acc: 0.977 - ETA: 0s - loss: 0.0726 - acc: 0.977 - ETA: 0s - loss: 0.0709 - acc: 0.978 - ETA: 0s - loss: 0.0728 - acc: 0.977 - ETA: 0s - loss: 0.0725 - acc: 0.977 - ETA: 0s - loss: 0.0710 - acc: 0.978 - ETA: 0s - loss: 0.0705 - acc: 0.977 - ETA: 0s - loss: 0.0733 - acc: 0.977 - 3s 1ms/step - loss: 0.0732 - acc: 0.9771 - val_loss: 0.3715 - val_acc: 0.9180\n",
      "Epoch 43/50\n",
      "2012/2012 [==============================] - ETA: 2s - loss: 0.0318 - acc: 0.990 - ETA: 1s - loss: 0.0411 - acc: 0.985 - ETA: 1s - loss: 0.0532 - acc: 0.983 - ETA: 1s - loss: 0.0508 - acc: 0.985 - ETA: 1s - loss: 0.0526 - acc: 0.984 - ETA: 1s - loss: 0.0560 - acc: 0.981 - ETA: 1s - loss: 0.0534 - acc: 0.982 - ETA: 1s - loss: 0.0577 - acc: 0.980 - ETA: 1s - loss: 0.0595 - acc: 0.977 - ETA: 1s - loss: 0.0628 - acc: 0.976 - ETA: 0s - loss: 0.0612 - acc: 0.977 - ETA: 0s - loss: 0.0598 - acc: 0.976 - ETA: 0s - loss: 0.0573 - acc: 0.978 - ETA: 0s - loss: 0.0597 - acc: 0.976 - ETA: 0s - loss: 0.0577 - acc: 0.977 - ETA: 0s - loss: 0.0585 - acc: 0.977 - ETA: 0s - loss: 0.0570 - acc: 0.978 - ETA: 0s - loss: 0.0599 - acc: 0.978 - ETA: 0s - loss: 0.0641 - acc: 0.977 - ETA: 0s - loss: 0.0632 - acc: 0.978 - 3s 1ms/step - loss: 0.0630 - acc: 0.9786 - val_loss: 0.4046 - val_acc: 0.9121\n",
      "Epoch 44/50\n",
      "2012/2012 [==============================] - ETA: 1s - loss: 0.0603 - acc: 0.980 - ETA: 1s - loss: 0.1206 - acc: 0.975 - ETA: 1s - loss: 0.1141 - acc: 0.976 - ETA: 1s - loss: 0.0888 - acc: 0.982 - ETA: 1s - loss: 0.0822 - acc: 0.982 - ETA: 1s - loss: 0.0795 - acc: 0.981 - ETA: 1s - loss: 0.0727 - acc: 0.982 - ETA: 1s - loss: 0.0713 - acc: 0.982 - ETA: 1s - loss: 0.0656 - acc: 0.984 - ETA: 1s - loss: 0.0632 - acc: 0.985 - ETA: 0s - loss: 0.0667 - acc: 0.982 - ETA: 0s - loss: 0.0643 - acc: 0.982 - ETA: 0s - loss: 0.0660 - acc: 0.982 - ETA: 0s - loss: 0.0624 - acc: 0.983 - ETA: 0s - loss: 0.0620 - acc: 0.983 - ETA: 0s - loss: 0.0622 - acc: 0.984 - ETA: 0s - loss: 0.0607 - acc: 0.984 - ETA: 0s - loss: 0.0613 - acc: 0.983 - ETA: 0s - loss: 0.0628 - acc: 0.983 - ETA: 0s - loss: 0.0624 - acc: 0.984 - 3s 1ms/step - loss: 0.0631 - acc: 0.9836 - val_loss: 0.3915 - val_acc: 0.9151\n",
      "Epoch 45/50\n",
      "2012/2012 [==============================] - ETA: 1s - loss: 0.0473 - acc: 0.980 - ETA: 1s - loss: 0.0538 - acc: 0.980 - ETA: 1s - loss: 0.0681 - acc: 0.973 - ETA: 1s - loss: 0.0629 - acc: 0.977 - ETA: 1s - loss: 0.0695 - acc: 0.978 - ETA: 1s - loss: 0.0684 - acc: 0.976 - ETA: 1s - loss: 0.0642 - acc: 0.978 - ETA: 1s - loss: 0.0633 - acc: 0.978 - ETA: 1s - loss: 0.0692 - acc: 0.975 - ETA: 1s - loss: 0.0681 - acc: 0.975 - ETA: 0s - loss: 0.0629 - acc: 0.977 - ETA: 0s - loss: 0.0640 - acc: 0.977 - ETA: 0s - loss: 0.0645 - acc: 0.976 - ETA: 0s - loss: 0.0636 - acc: 0.976 - ETA: 0s - loss: 0.0643 - acc: 0.976 - ETA: 0s - loss: 0.0630 - acc: 0.976 - ETA: 0s - loss: 0.0601 - acc: 0.977 - ETA: 0s - loss: 0.0610 - acc: 0.978 - ETA: 0s - loss: 0.0619 - acc: 0.977 - ETA: 0s - loss: 0.0640 - acc: 0.977 - 3s 1ms/step - loss: 0.0637 - acc: 0.9776 - val_loss: 0.4059 - val_acc: 0.9143\n",
      "Epoch 46/50\n"
     ]
    },
    {
     "name": "stdout",
     "output_type": "stream",
     "text": [
      "2012/2012 [==============================] - ETA: 2s - loss: 0.0774 - acc: 0.960 - ETA: 1s - loss: 0.0520 - acc: 0.970 - ETA: 1s - loss: 0.0450 - acc: 0.973 - ETA: 1s - loss: 0.0444 - acc: 0.977 - ETA: 1s - loss: 0.0507 - acc: 0.974 - ETA: 1s - loss: 0.0547 - acc: 0.975 - ETA: 1s - loss: 0.0618 - acc: 0.972 - ETA: 1s - loss: 0.0594 - acc: 0.975 - ETA: 1s - loss: 0.0622 - acc: 0.975 - ETA: 1s - loss: 0.0696 - acc: 0.975 - ETA: 0s - loss: 0.0741 - acc: 0.973 - ETA: 0s - loss: 0.0749 - acc: 0.973 - ETA: 0s - loss: 0.0718 - acc: 0.974 - ETA: 0s - loss: 0.0708 - acc: 0.975 - ETA: 0s - loss: 0.0692 - acc: 0.975 - ETA: 0s - loss: 0.0681 - acc: 0.975 - ETA: 0s - loss: 0.0683 - acc: 0.975 - ETA: 0s - loss: 0.0662 - acc: 0.975 - ETA: 0s - loss: 0.0655 - acc: 0.975 - ETA: 0s - loss: 0.0634 - acc: 0.976 - 3s 1ms/step - loss: 0.0635 - acc: 0.9761 - val_loss: 0.3669 - val_acc: 0.9173\n",
      "Epoch 47/50\n",
      "2012/2012 [==============================] - ETA: 1s - loss: 0.0712 - acc: 0.970 - ETA: 1s - loss: 0.0491 - acc: 0.985 - ETA: 1s - loss: 0.0465 - acc: 0.986 - ETA: 1s - loss: 0.0598 - acc: 0.977 - ETA: 1s - loss: 0.0654 - acc: 0.978 - ETA: 1s - loss: 0.0595 - acc: 0.980 - ETA: 1s - loss: 0.0678 - acc: 0.978 - ETA: 1s - loss: 0.0657 - acc: 0.980 - ETA: 1s - loss: 0.0659 - acc: 0.980 - ETA: 1s - loss: 0.0643 - acc: 0.980 - ETA: 0s - loss: 0.0609 - acc: 0.981 - ETA: 0s - loss: 0.0590 - acc: 0.982 - ETA: 0s - loss: 0.0592 - acc: 0.982 - ETA: 0s - loss: 0.0600 - acc: 0.982 - ETA: 0s - loss: 0.0582 - acc: 0.982 - ETA: 0s - loss: 0.0583 - acc: 0.983 - ETA: 0s - loss: 0.0560 - acc: 0.984 - ETA: 0s - loss: 0.0552 - acc: 0.984 - ETA: 0s - loss: 0.0564 - acc: 0.983 - ETA: 0s - loss: 0.0561 - acc: 0.983 - 3s 1ms/step - loss: 0.0558 - acc: 0.9831 - val_loss: 0.4031 - val_acc: 0.9121\n",
      "Epoch 48/50\n",
      "2012/2012 [==============================] - ETA: 1s - loss: 0.0336 - acc: 0.990 - ETA: 1s - loss: 0.0371 - acc: 0.990 - ETA: 1s - loss: 0.0322 - acc: 0.990 - ETA: 1s - loss: 0.0413 - acc: 0.987 - ETA: 1s - loss: 0.0416 - acc: 0.988 - ETA: 1s - loss: 0.0482 - acc: 0.983 - ETA: 1s - loss: 0.0443 - acc: 0.985 - ETA: 1s - loss: 0.0406 - acc: 0.987 - ETA: 1s - loss: 0.0387 - acc: 0.988 - ETA: 1s - loss: 0.0407 - acc: 0.989 - ETA: 0s - loss: 0.0410 - acc: 0.989 - ETA: 0s - loss: 0.0411 - acc: 0.989 - ETA: 0s - loss: 0.0396 - acc: 0.989 - ETA: 0s - loss: 0.0417 - acc: 0.987 - ETA: 0s - loss: 0.0424 - acc: 0.987 - ETA: 0s - loss: 0.0426 - acc: 0.986 - ETA: 0s - loss: 0.0429 - acc: 0.986 - ETA: 0s - loss: 0.0420 - acc: 0.986 - ETA: 0s - loss: 0.0432 - acc: 0.985 - ETA: 0s - loss: 0.0436 - acc: 0.985 - 3s 1ms/step - loss: 0.0433 - acc: 0.9851 - val_loss: 0.3851 - val_acc: 0.9180\n",
      "Epoch 49/50\n",
      "2012/2012 [==============================] - ETA: 2s - loss: 0.0336 - acc: 0.990 - ETA: 2s - loss: 0.0432 - acc: 0.985 - ETA: 1s - loss: 0.0507 - acc: 0.983 - ETA: 1s - loss: 0.0513 - acc: 0.985 - ETA: 1s - loss: 0.0566 - acc: 0.984 - ETA: 1s - loss: 0.0526 - acc: 0.985 - ETA: 1s - loss: 0.0555 - acc: 0.984 - ETA: 1s - loss: 0.0566 - acc: 0.982 - ETA: 1s - loss: 0.0510 - acc: 0.984 - ETA: 1s - loss: 0.0552 - acc: 0.984 - ETA: 1s - loss: 0.0513 - acc: 0.985 - ETA: 0s - loss: 0.0500 - acc: 0.985 - ETA: 0s - loss: 0.0492 - acc: 0.986 - ETA: 0s - loss: 0.0484 - acc: 0.986 - ETA: 0s - loss: 0.0518 - acc: 0.986 - ETA: 0s - loss: 0.0520 - acc: 0.986 - ETA: 0s - loss: 0.0523 - acc: 0.985 - ETA: 0s - loss: 0.0566 - acc: 0.983 - ETA: 0s - loss: 0.0615 - acc: 0.982 - ETA: 0s - loss: 0.0625 - acc: 0.982 - 3s 1ms/step - loss: 0.0628 - acc: 0.9821 - val_loss: 0.3841 - val_acc: 0.9165\n",
      "Epoch 50/50\n",
      "2012/2012 [==============================] - ETA: 2s - loss: 0.0537 - acc: 0.980 - ETA: 1s - loss: 0.0418 - acc: 0.985 - ETA: 1s - loss: 0.0437 - acc: 0.983 - ETA: 1s - loss: 0.0446 - acc: 0.985 - ETA: 1s - loss: 0.0390 - acc: 0.986 - ETA: 1s - loss: 0.0445 - acc: 0.985 - ETA: 1s - loss: 0.0465 - acc: 0.984 - ETA: 1s - loss: 0.0487 - acc: 0.983 - ETA: 1s - loss: 0.0485 - acc: 0.984 - ETA: 1s - loss: 0.0471 - acc: 0.986 - ETA: 1s - loss: 0.0464 - acc: 0.985 - ETA: 1s - loss: 0.0454 - acc: 0.985 - ETA: 0s - loss: 0.0448 - acc: 0.986 - ETA: 0s - loss: 0.0449 - acc: 0.985 - ETA: 0s - loss: 0.0437 - acc: 0.986 - ETA: 0s - loss: 0.0418 - acc: 0.986 - ETA: 0s - loss: 0.0400 - acc: 0.987 - ETA: 0s - loss: 0.0413 - acc: 0.987 - ETA: 0s - loss: 0.0405 - acc: 0.987 - ETA: 0s - loss: 0.0420 - acc: 0.987 - 3s 1ms/step - loss: 0.0421 - acc: 0.9871 - val_loss: 0.4051 - val_acc: 0.9136\n"
     ]
    }
   ],
   "source": [
    "model = get_model()\n",
    "history = model.fit(X_train, y_train_hot, batch_size=batch_size, epochs=epochs, verbose=verbose, validation_data=(X_test, y_test_hot))"
   ]
  },
  {
   "cell_type": "markdown",
   "metadata": {},
   "source": [
    "## Export current model:"
   ]
  },
  {
   "cell_type": "code",
   "execution_count": 14,
   "metadata": {},
   "outputs": [
    {
     "name": "stdout",
     "output_type": "stream",
     "text": [
      "Exported to folder ./models/20181212_21-50-26\n"
     ]
    }
   ],
   "source": [
    "#export_model(model)\n",
    "\n",
    "y_predicted = model.predict_classes(X_test, batch_size=batch_size)\n",
    "y_true_val = np.argmax(y_test_hot,axis=1)\n",
    "\n",
    "class_rep = classification_report(y_true_val,y_predicted,digits=5)\n",
    "\n",
    "settings = {\n",
    "    \"feature_dim_1\": feature_dim_1,\n",
    "    \"feature_dim_2\": feature_dim_2,\n",
    "    \"channel\": channel,\n",
    "    \"epochs\": epochs,\n",
    "    \"batch_size\": batch_size,\n",
    "    \"train_accuracy\": str(history.history.get('acc')[-1]),\n",
    "    \"test_accuracy\": str(history.history.get('val_acc')[-1]),\n",
    "    \"train_loss\": str(history.history.get('loss')[-1]),\n",
    "    \"test_loss\": str(history.history.get('val_loss')[-1]),\n",
    "    \"classification_report\": class_rep,\n",
    "}\n",
    "\n",
    "print(export_model(model, settings))"
   ]
  },
  {
   "cell_type": "markdown",
   "metadata": {},
   "source": [
    "## Import a model:"
   ]
  },
  {
   "cell_type": "code",
   "execution_count": null,
   "metadata": {},
   "outputs": [],
   "source": [
    "# import_model(PATH)\n",
    "imported_model = import_model(\"./models/xxx\")"
   ]
  },
  {
   "cell_type": "markdown",
   "metadata": {},
   "source": [
    "## Predict on a new file:"
   ]
  },
  {
   "cell_type": "code",
   "execution_count": null,
   "metadata": {
    "scrolled": false
   },
   "outputs": [],
   "source": [
    "print(predict('./test_audio/12.wav', model=model))"
   ]
  },
  {
   "cell_type": "markdown",
   "metadata": {},
   "source": [
    "## Predict on a folder:"
   ]
  },
  {
   "cell_type": "code",
   "execution_count": 5,
   "metadata": {},
   "outputs": [
    {
     "name": "stdout",
     "output_type": "stream",
     "text": [
      "1.wav was predicted as: 11\n",
      "10.wav was predicted as: 10\n",
      "11.wav was predicted as: 11\n",
      "12.wav was predicted as: 10\n",
      "2.wav was predicted as: 2\n",
      "3.wav was predicted as: 3\n",
      "4.wav was predicted as: 5\n",
      "5.wav was predicted as: 5\n",
      "6.wav was predicted as: 6\n",
      "7.wav was predicted as: 7\n",
      "8.wav was predicted as: 8\n",
      "9.wav was predicted as: 9\n"
     ]
    }
   ],
   "source": [
    "FOLDER_PATH = './test_audio/'\n",
    "\n",
    "for filename in os.listdir(FOLDER_PATH):\n",
    "    pred = predict(FOLDER_PATH + filename, model=model)\n",
    "    print(filename + \" was predicted as: \" + pred)"
   ]
  },
  {
   "cell_type": "markdown",
   "metadata": {},
   "source": [
    "## Accuracy / Loss"
   ]
  },
  {
   "cell_type": "code",
   "execution_count": null,
   "metadata": {
    "scrolled": false
   },
   "outputs": [],
   "source": [
    "#Accuracy plot\n",
    "plt.plot(history.history['acc'])\n",
    "plt.plot(history.history['val_acc'])\n",
    "plt.title('model accuracy')\n",
    "plt.ylabel('accuracy')\n",
    "plt.xlabel('epoch')\n",
    "plt.legend(['train', 'test'], loc='upper left')\n",
    "plt.show()\n",
    "\n",
    "#Loss plot\n",
    "plt.plot(history.history['loss'])\n",
    "plt.plot(history.history['val_loss'])\n",
    "plt.title('model loss')\n",
    "plt.ylabel('loss')\n",
    "plt.xlabel('epoch')\n",
    "plt.legend(['train', 'test'], loc='upper left')\n",
    "plt.show()"
   ]
  },
  {
   "cell_type": "markdown",
   "metadata": {},
   "source": [
    "## Full report with confusion matrix:"
   ]
  },
  {
   "cell_type": "code",
   "execution_count": 13,
   "metadata": {
    "scrolled": false
   },
   "outputs": [
    {
     "name": "stdout",
     "output_type": "stream",
     "text": [
      "Accuracy : 0.9135618479880775\n",
      "\n",
      "Classification Report\n",
      "              precision    recall  f1-score   support\n",
      "\n",
      "           0    0.91515   0.89881   0.90691       168\n",
      "           1    0.89655   0.88136   0.88889       118\n",
      "           2    0.94318   0.93258   0.93785        89\n",
      "           3    0.89000   0.91753   0.90355        97\n",
      "           4    0.93056   0.90541   0.91781       148\n",
      "           5    0.94615   0.88489   0.91450       139\n",
      "           6    0.93827   0.84444   0.88889        90\n",
      "           7    0.82301   0.94898   0.88152        98\n",
      "           8    0.87156   0.95960   0.91346        99\n",
      "           9    0.88889   0.92632   0.90722        95\n",
      "          10    1.00000   0.95960   0.97938        99\n",
      "          11    0.93137   0.93137   0.93137       102\n",
      "\n",
      "   micro avg    0.91356   0.91356   0.91356      1342\n",
      "   macro avg    0.91456   0.91591   0.91428      1342\n",
      "weighted avg    0.91571   0.91356   0.91377      1342\n",
      "\n",
      "[[151   3   1   0   5   3   0   4   1   0   0   0]\n",
      " [  0 104   0   1   0   0   0   1   8   3   0   1]\n",
      " [  1   1  83   2   0   0   0   0   0   2   0   0]\n",
      " [  0   1   1  89   3   0   0   0   2   0   0   1]\n",
      " [  5   3   0   2 134   4   0   0   0   0   0   0]\n",
      " [  6   0   1   0   2 123   3   2   1   0   0   1]\n",
      " [  1   0   0   2   0   0  76   8   1   1   0   1]\n",
      " [  0   0   0   1   0   0   0  93   1   2   0   1]\n",
      " [  0   0   1   0   0   0   1   1  95   1   0   0]\n",
      " [  0   2   0   2   0   0   0   2   0  88   0   1]\n",
      " [  0   2   0   0   0   0   0   1   0   0  95   1]\n",
      " [  1   0   1   1   0   0   1   1   0   2   0  95]]\n"
     ]
    },
    {
     "data": {
      "image/png": "[encoded data removed]",
      "text/plain": [
       "<Figure size 432x288 with 2 Axes>"
      ]
     },
     "metadata": {
      "needs_background": "light"
     },
     "output_type": "display_data"
    }
   ],
   "source": [
    "#should import labels directly from folder:\n",
    "labels, _, _= get_labels(\"./audio\")\n",
    "labArray = []\n",
    "for label in labels:\n",
    "    labArray.append(label)\n",
    "\n",
    "le = LabelEncoder()\n",
    "\n",
    "le.fit_transform(labArray)\n",
    "\n",
    "full_multiclass_report(model, X_test, y_test_hot, classes=le.inverse_transform(np.arange(12)))"
   ]
  },
  {
   "cell_type": "markdown",
   "metadata": {},
   "source": [
    "# Functions for all the metrics and results"
   ]
  },
  {
   "cell_type": "code",
   "execution_count": 6,
   "metadata": {},
   "outputs": [],
   "source": [
    "def plot_confusion_matrix(cm, classes,\n",
    "                          normalize=False,\n",
    "                          cmap=plt.cm.Blues):\n",
    "    \"\"\"\n",
    "    This function prints and plots the confusion matrix.\n",
    "    Normalization can be applied by setting `normalize=True`.\n",
    "    \"\"\"\n",
    "    if normalize:\n",
    "        cm = cm.astype('float') / cm.sum(axis=1)[:, np.newaxis]\n",
    "        title='Normalized confusion matrix'\n",
    "    else:\n",
    "        title='Confusion matrix'\n",
    "\n",
    "    plt.imshow(cm, interpolation='nearest', cmap=cmap)\n",
    "    plt.title(title)\n",
    "    plt.colorbar()\n",
    "    tick_marks = np.arange(len(classes))\n",
    "    plt.xticks(tick_marks, classes, rotation=45)\n",
    "    plt.yticks(tick_marks, classes)\n",
    "\n",
    "    fmt = '.2f' if normalize else 'd'\n",
    "    thresh = cm.max() / 2.\n",
    "    for i, j in itertools.product(range(cm.shape[0]), range(cm.shape[1])):\n",
    "        plt.text(j, i, format(cm[i, j], fmt),\n",
    "                 horizontalalignment=\"center\",\n",
    "                 color=\"white\" if cm[i, j] > thresh else \"black\")\n",
    "\n",
    "    plt.tight_layout()\n",
    "    plt.ylabel('True label')\n",
    "    plt.xlabel('Predicted label')\n",
    "    plt.show()\n",
    "    \n",
    "def full_multiclass_report(model,\n",
    "                           x,\n",
    "                           y_true,\n",
    "                           classes,\n",
    "                           batch_size=32,\n",
    "                           binary=False):\n",
    "\n",
    "    # 1. Transform one-hot encoded y_true into their class number\n",
    "    if not binary:\n",
    "        y_true = np.argmax(y_true,axis=1)\n",
    "    \n",
    "    # 2. Predict classes and stores in y_pred\n",
    "    y_pred = model.predict_classes(x, batch_size=batch_size)\n",
    "    \n",
    "    # 3. Print accuracy score\n",
    "    print(\"Accuracy : \"+ str(accuracy_score(y_true,y_pred)))\n",
    "    \n",
    "    print(\"\")\n",
    "    \n",
    "    # 4. Print classification report\n",
    "    print(\"Classification Report\")\n",
    "    print(classification_report(y_true,y_pred,digits=5))    \n",
    "    \n",
    "    # 5. Plot confusion matrix\n",
    "    cnf_matrix = confusion_matrix(y_true,y_pred)\n",
    "    print(cnf_matrix)\n",
    "    plot_confusion_matrix(cnf_matrix,classes=classes)"
   ]
  },
  {
   "cell_type": "code",
   "execution_count": 7,
   "metadata": {},
   "outputs": [],
   "source": [
    "def plot_history(history):\n",
    "    loss_list = [s for s in history.history.keys() if 'loss' in s and 'val' not in s]\n",
    "    val_loss_list = [s for s in history.history.keys() if 'loss' in s and 'val' in s]\n",
    "    acc_list = [s for s in history.history.keys() if 'acc' in s and 'val' not in s]\n",
    "    val_acc_list = [s for s in history.history.keys() if 'acc' in s and 'val' in s]\n",
    "    \n",
    "    if len(loss_list) == 0:\n",
    "        print('Loss is missing in history')\n",
    "        return \n",
    "    \n",
    "    ## As loss always exists\n",
    "    epochs = range(1,len(history.history[loss_list[0]]) + 1)\n",
    "    \n",
    "    ## Loss\n",
    "    plt.figure(1)\n",
    "    for l in loss_list:\n",
    "        plt.plot(epochs, history.history[l], 'b', label='Training loss (' + str(str(format(history.history[l][-1],'.5f'))+')'))\n",
    "    for l in val_loss_list:\n",
    "        plt.plot(epochs, history.history[l], 'g', label='Validation loss (' + str(str(format(history.history[l][-1],'.5f'))+')'))\n",
    "    \n",
    "    plt.title('Loss')\n",
    "    plt.xlabel('Epochs')\n",
    "    plt.ylabel('Loss')\n",
    "    plt.legend()\n",
    "    \n",
    "    ## Accuracy\n",
    "    plt.figure(2)\n",
    "    for l in acc_list:\n",
    "        plt.plot(epochs, history.history[l], 'b', label='Training accuracy (' + str(format(history.history[l][-1],'.5f'))+')')\n",
    "    for l in val_acc_list:    \n",
    "        plt.plot(epochs, history.history[l], 'g', label='Validation accuracy (' + str(format(history.history[l][-1],'.5f'))+')')\n",
    "\n",
    "    plt.title('Accuracy')\n",
    "    plt.xlabel('Epochs')\n",
    "    plt.ylabel('Accuracy')\n",
    "    plt.legend()\n",
    "    plt.show()"
   ]
  }
 ],
 "metadata": {
  "kernelspec": {
   "display_name": "Python 3",
   "language": "python",
   "name": "python3"
  },
  "language_info": {
   "codemirror_mode": {
    "name": "ipython",
    "version": 3
   },
   "file_extension": ".py",
   "mimetype": "text/x-python",
   "name": "python",
   "nbconvert_exporter": "python",
   "pygments_lexer": "ipython3",
   "version": "3.6.7"
  }
 },
 "nbformat": 4,
 "nbformat_minor": 2
}
