{
 "cells": [
  {
   "cell_type": "markdown",
   "metadata": {},
   "source": [
    "# Experiments"
   ]
  },
  {
   "cell_type": "code",
   "execution_count": 67,
   "metadata": {},
   "outputs": [],
   "source": [
    "import os\n",
    "import IPython.display as ipd\n",
    "\n",
    "for filename in os.listdir('./test_audio'):\n",
    "    ipd.Audio('./test_audio/' + filename)"
   ]
  },
  {
   "cell_type": "code",
   "execution_count": null,
   "metadata": {
    "scrolled": false
   },
   "outputs": [],
   "source": [
    "import os\n",
    "import pandas as pd\n",
    "import librosa.display\n",
    "import matplotlib.pyplot as plt\n",
    "import tensorflow as tf\n",
    "\n",
    "for filename in os.listdir('./test'):\n",
    "    data, sampling_rate = librosa.load('./test/' + filename)\n",
    "\n",
    "    plt.figure(figsize=(12, 4))\n",
    "    librosa.display.waveplot(data, sr=sampling_rate)"
   ]
  },
  {
   "cell_type": "code",
   "execution_count": null,
   "metadata": {},
   "outputs": [],
   "source": [
    "import speech_recognition as sr"
   ]
  },
  {
   "cell_type": "code",
   "execution_count": null,
   "metadata": {},
   "outputs": [],
   "source": [
    "r = sr.Recognizer()"
   ]
  },
  {
   "cell_type": "code",
   "execution_count": null,
   "metadata": {},
   "outputs": [],
   "source": [
    "zero = sr.AudioFile('0_jackson_2.wav')"
   ]
  },
  {
   "cell_type": "code",
   "execution_count": null,
   "metadata": {},
   "outputs": [],
   "source": [
    "with zero as source:\n",
    "    audio = r.record(source)"
   ]
  },
  {
   "cell_type": "code",
   "execution_count": null,
   "metadata": {},
   "outputs": [],
   "source": [
    "print(r.recognize_google(audio))"
   ]
  },
  {
   "cell_type": "markdown",
   "metadata": {},
   "source": [
    "# This is the main training part:"
   ]
  },
  {
   "cell_type": "markdown",
   "metadata": {},
   "source": [
    "## training with audio files:"
   ]
  },
  {
   "cell_type": "code",
   "execution_count": 1,
   "metadata": {},
   "outputs": [
    {
     "name": "stderr",
     "output_type": "stream",
     "text": [
      "Using TensorFlow backend.\n"
     ]
    }
   ],
   "source": [
    "#imports:\n",
    "\n",
    "from export_model import *\n",
    "from preprocess import *\n",
    "import numpy as np\n",
    "import os\n",
    "import keras\n",
    "from keras.models import Sequential, load_model\n",
    "from keras.layers import Dense, Dropout, Flatten, Conv2D, MaxPooling2D\n",
    "from keras.utils import to_categorical\n",
    "from sklearn.metrics import confusion_matrix, classification_report, accuracy_score\n",
    "from sklearn.preprocessing import LabelEncoder\n",
    "import itertools\n",
    "import matplotlib.pyplot as plt"
   ]
  },
  {
   "cell_type": "code",
   "execution_count": 11,
   "metadata": {
    "scrolled": true
   },
   "outputs": [
    {
     "name": "stdout",
     "output_type": "stream",
     "text": [
      "The autoreload extension is already loaded. To reload it, use:\n",
      "  %reload_ext autoreload\n"
     ]
    },
    {
     "name": "stderr",
     "output_type": "stream",
     "text": [
      "Saving vectors of label - '1': 100%|█████████████████████████████████████████████████| 296/296 [00:03<00:00, 80.80it/s]\n",
      "Saving vectors of label - '10': 100%|████████████████████████████████████████████████| 236/236 [00:03<00:00, 77.51it/s]\n",
      "Saving vectors of label - '11': 100%|████████████████████████████████████████████████| 262/262 [00:03<00:00, 80.07it/s]\n",
      "Saving vectors of label - '12': 100%|████████████████████████████████████████████████| 231/231 [00:03<00:00, 71.45it/s]\n",
      "Saving vectors of label - '2': 100%|█████████████████████████████████████████████████| 301/301 [00:03<00:00, 81.74it/s]\n",
      "Saving vectors of label - '3': 100%|█████████████████████████████████████████████████| 338/338 [00:03<00:00, 85.28it/s]\n",
      "Saving vectors of label - '4': 100%|█████████████████████████████████████████████████| 277/277 [00:03<00:00, 80.82it/s]\n",
      "Saving vectors of label - '5': 100%|█████████████████████████████████████████████████| 241/241 [00:02<00:00, 82.03it/s]\n",
      "Saving vectors of label - '6': 100%|█████████████████████████████████████████████████| 213/213 [00:02<00:00, 78.66it/s]\n",
      "Saving vectors of label - '7': 100%|█████████████████████████████████████████████████| 215/215 [00:02<00:00, 81.66it/s]\n",
      "Saving vectors of label - '8': 100%|█████████████████████████████████████████████████| 230/230 [00:02<00:00, 79.94it/s]\n",
      "Saving vectors of label - '9': 100%|█████████████████████████████████████████████████| 233/233 [00:02<00:00, 78.53it/s]\n"
     ]
    }
   ],
   "source": [
    "%load_ext autoreload\n",
    "%autoreload 2\n",
    "\n",
    "#from preprocess import *\n",
    "#import keras\n",
    "#from keras.models import Sequential\n",
    "#from keras.layers import Dense, Dropout, Flatten, Conv2D, MaxPooling2D\n",
    "#from keras.utils import to_categorical\n",
    "#from sklearn.metrics import confusion_matrix, classification_report, accuracy_score\n",
    "#from sklearn.preprocessing import LabelEncoder\n",
    "#import itertools\n",
    "\n",
    "# Second dimension of the feature is dim2\n",
    "feature_dim_2 = 11\n",
    "\n",
    "# Save data to array file first\n",
    "save_data_to_array(max_len=feature_dim_2)\n",
    "\n",
    "# # Loading train set and test set\n",
    "X_train, X_test, y_train, y_test = get_train_test()\n",
    "\n",
    "# # Feature dimension\n",
    "#defaults at the end\n",
    "feature_dim_1 = 20   #20\n",
    "channel = 1          #1\n",
    "epochs = 50         #50\n",
    "batch_size = 100     #100\n",
    "verbose = 1          #1\n",
    "# change num_classes depending on the amount of labels\n",
    "num_classes = 12\n",
    "\n",
    "# Reshaping to perform 2D convolution\n",
    "X_train = X_train.reshape(X_train.shape[0], feature_dim_1, feature_dim_2, channel)\n",
    "X_test = X_test.reshape(X_test.shape[0], feature_dim_1, feature_dim_2, channel)\n",
    "\n",
    "y_train_hot = to_categorical(y_train)\n",
    "y_test_hot = to_categorical(y_test)"
   ]
  },
  {
   "cell_type": "markdown",
   "metadata": {},
   "source": [
    "## model & prediction"
   ]
  },
  {
   "cell_type": "code",
   "execution_count": 3,
   "metadata": {},
   "outputs": [],
   "source": [
    "def get_model():\n",
    "    model = Sequential()\n",
    "    model.add(Conv2D(32, kernel_size=(2, 2), activation='relu', input_shape=(feature_dim_1, feature_dim_2, channel)))\n",
    "    model.add(Conv2D(48, kernel_size=(2, 2), activation='relu'))\n",
    "    model.add(Conv2D(120, kernel_size=(2, 2), activation='relu'))\n",
    "    model.add(MaxPooling2D(pool_size=(2, 2)))\n",
    "    model.add(Dropout(0.25))\n",
    "    model.add(Flatten())\n",
    "    model.add(Dense(128, activation='relu'))\n",
    "    model.add(Dropout(0.25))\n",
    "    model.add(Dense(64, activation='relu'))\n",
    "    model.add(Dropout(0.4))\n",
    "    model.add(Dense(num_classes, activation='softmax'))\n",
    "    model.compile(loss=keras.losses.categorical_crossentropy,\n",
    "                  optimizer=keras.optimizers.Adadelta(),\n",
    "                  metrics=['accuracy'])\n",
    "    return model\n",
    "\n",
    "# Predicts one sample\n",
    "def predict(filepath, model):\n",
    "    sample = wav2mfcc(filepath)\n",
    "    sample_reshaped = sample.reshape(1, feature_dim_1, feature_dim_2, channel)\n",
    "    return get_labels()[0][\n",
    "            np.argmax(model.predict(sample_reshaped))\n",
    "    ]"
   ]
  },
  {
   "cell_type": "markdown",
   "metadata": {},
   "source": [
    "## Train model:"
   ]
  },
  {
   "cell_type": "code",
   "execution_count": 12,
   "metadata": {
    "scrolled": true
   },
   "outputs": [
    {
     "name": "stdout",
     "output_type": "stream",
     "text": [
      "Train on 1843 samples, validate on 1230 samples\n",
      "Epoch 1/50\n",
      "1843/1843 [==============================] - ETA: 11s - loss: 6.9661 - acc: 0.07 - ETA: 6s - loss: 6.3374 - acc: 0.0850 - ETA: 4s - loss: 6.1247 - acc: 0.103 - ETA: 3s - loss: 5.4087 - acc: 0.100 - ETA: 2s - loss: 4.9310 - acc: 0.096 - ETA: 2s - loss: 4.6175 - acc: 0.093 - ETA: 2s - loss: 4.3380 - acc: 0.100 - ETA: 1s - loss: 4.1438 - acc: 0.096 - ETA: 1s - loss: 3.9553 - acc: 0.095 - ETA: 1s - loss: 3.8076 - acc: 0.103 - ETA: 1s - loss: 3.6871 - acc: 0.106 - ETA: 0s - loss: 3.5775 - acc: 0.110 - ETA: 0s - loss: 3.4897 - acc: 0.115 - ETA: 0s - loss: 3.4428 - acc: 0.115 - ETA: 0s - loss: 3.3803 - acc: 0.116 - ETA: 0s - loss: 3.3157 - acc: 0.118 - ETA: 0s - loss: 3.2571 - acc: 0.122 - ETA: 0s - loss: 3.2037 - acc: 0.126 - 3s 1ms/step - loss: 3.1841 - acc: 0.1270 - val_loss: 2.1759 - val_acc: 0.3382\n",
      "Epoch 2/50\n",
      "1843/1843 [==============================] - ETA: 1s - loss: 2.4009 - acc: 0.160 - ETA: 1s - loss: 2.2984 - acc: 0.200 - ETA: 1s - loss: 2.2524 - acc: 0.240 - ETA: 1s - loss: 2.2634 - acc: 0.202 - ETA: 1s - loss: 2.2492 - acc: 0.200 - ETA: 1s - loss: 2.2548 - acc: 0.206 - ETA: 1s - loss: 2.2418 - acc: 0.202 - ETA: 1s - loss: 2.2237 - acc: 0.212 - ETA: 1s - loss: 2.2062 - acc: 0.226 - ETA: 0s - loss: 2.1729 - acc: 0.235 - ETA: 0s - loss: 2.1720 - acc: 0.242 - ETA: 0s - loss: 2.1622 - acc: 0.247 - ETA: 0s - loss: 2.1371 - acc: 0.260 - ETA: 0s - loss: 2.1284 - acc: 0.259 - ETA: 0s - loss: 2.1117 - acc: 0.264 - ETA: 0s - loss: 2.0978 - acc: 0.265 - ETA: 0s - loss: 2.0854 - acc: 0.271 - ETA: 0s - loss: 2.0705 - acc: 0.277 - 2s 1ms/step - loss: 2.0590 - acc: 0.2821 - val_loss: 1.4622 - val_acc: 0.4618\n",
      "Epoch 3/50\n",
      "1843/1843 [==============================] - ETA: 1s - loss: 2.0808 - acc: 0.320 - ETA: 1s - loss: 1.9491 - acc: 0.335 - ETA: 1s - loss: 1.8824 - acc: 0.353 - ETA: 1s - loss: 1.7954 - acc: 0.382 - ETA: 1s - loss: 1.7704 - acc: 0.382 - ETA: 1s - loss: 1.7542 - acc: 0.378 - ETA: 1s - loss: 1.7443 - acc: 0.387 - ETA: 1s - loss: 1.7171 - acc: 0.397 - ETA: 0s - loss: 1.7052 - acc: 0.404 - ETA: 0s - loss: 1.6705 - acc: 0.417 - ETA: 0s - loss: 1.6599 - acc: 0.420 - ETA: 0s - loss: 1.6504 - acc: 0.425 - ETA: 0s - loss: 1.6444 - acc: 0.426 - ETA: 0s - loss: 1.6221 - acc: 0.432 - ETA: 0s - loss: 1.6152 - acc: 0.434 - ETA: 0s - loss: 1.6016 - acc: 0.438 - ETA: 0s - loss: 1.5801 - acc: 0.444 - ETA: 0s - loss: 1.5769 - acc: 0.447 - 2s 1ms/step - loss: 1.5683 - acc: 0.4509 - val_loss: 0.9220 - val_acc: 0.7333\n",
      "Epoch 4/50\n",
      "1843/1843 [==============================] - ETA: 1s - loss: 1.3768 - acc: 0.550 - ETA: 1s - loss: 1.3090 - acc: 0.545 - ETA: 1s - loss: 1.2957 - acc: 0.540 - ETA: 1s - loss: 1.3298 - acc: 0.525 - ETA: 1s - loss: 1.3233 - acc: 0.524 - ETA: 1s - loss: 1.2909 - acc: 0.528 - ETA: 1s - loss: 1.2648 - acc: 0.540 - ETA: 1s - loss: 1.2665 - acc: 0.542 - ETA: 0s - loss: 1.2484 - acc: 0.552 - ETA: 0s - loss: 1.2485 - acc: 0.548 - ETA: 0s - loss: 1.2485 - acc: 0.551 - ETA: 0s - loss: 1.2459 - acc: 0.555 - ETA: 0s - loss: 1.2328 - acc: 0.563 - ETA: 0s - loss: 1.2218 - acc: 0.567 - ETA: 0s - loss: 1.2271 - acc: 0.565 - ETA: 0s - loss: 1.2244 - acc: 0.565 - ETA: 0s - loss: 1.2201 - acc: 0.570 - ETA: 0s - loss: 1.2052 - acc: 0.575 - 2s 1ms/step - loss: 1.2061 - acc: 0.5751 - val_loss: 0.6627 - val_acc: 0.8341\n",
      "Epoch 5/50\n",
      "1843/1843 [==============================] - ETA: 1s - loss: 1.2774 - acc: 0.540 - ETA: 1s - loss: 1.1393 - acc: 0.610 - ETA: 1s - loss: 1.0976 - acc: 0.626 - ETA: 1s - loss: 1.0560 - acc: 0.635 - ETA: 1s - loss: 1.0267 - acc: 0.638 - ETA: 1s - loss: 1.0550 - acc: 0.628 - ETA: 1s - loss: 1.0423 - acc: 0.635 - ETA: 1s - loss: 1.0502 - acc: 0.640 - ETA: 0s - loss: 1.0266 - acc: 0.644 - ETA: 0s - loss: 0.9997 - acc: 0.659 - ETA: 0s - loss: 0.9878 - acc: 0.662 - ETA: 0s - loss: 0.9774 - acc: 0.660 - ETA: 0s - loss: 0.9724 - acc: 0.663 - ETA: 0s - loss: 0.9668 - acc: 0.663 - ETA: 0s - loss: 0.9558 - acc: 0.668 - ETA: 0s - loss: 0.9394 - acc: 0.673 - ETA: 0s - loss: 0.9285 - acc: 0.675 - ETA: 0s - loss: 0.9207 - acc: 0.678 - 2s 1ms/step - loss: 0.9141 - acc: 0.6799 - val_loss: 0.4317 - val_acc: 0.8813\n",
      "Epoch 6/50\n",
      "1843/1843 [==============================] - ETA: 1s - loss: 0.8357 - acc: 0.720 - ETA: 1s - loss: 0.8124 - acc: 0.745 - ETA: 1s - loss: 0.7647 - acc: 0.760 - ETA: 1s - loss: 0.7896 - acc: 0.730 - ETA: 1s - loss: 0.7780 - acc: 0.738 - ETA: 1s - loss: 0.7875 - acc: 0.740 - ETA: 1s - loss: 0.7664 - acc: 0.747 - ETA: 1s - loss: 0.7399 - acc: 0.755 - ETA: 1s - loss: 0.7599 - acc: 0.742 - ETA: 0s - loss: 0.7649 - acc: 0.742 - ETA: 0s - loss: 0.7465 - acc: 0.747 - ETA: 0s - loss: 0.7388 - acc: 0.748 - ETA: 0s - loss: 0.7239 - acc: 0.752 - ETA: 0s - loss: 0.7355 - acc: 0.751 - ETA: 0s - loss: 0.7463 - acc: 0.746 - ETA: 0s - loss: 0.7314 - acc: 0.750 - ETA: 0s - loss: 0.7121 - acc: 0.756 - ETA: 0s - loss: 0.7115 - acc: 0.756 - 2s 1ms/step - loss: 0.7093 - acc: 0.7596 - val_loss: 0.4022 - val_acc: 0.8764\n",
      "Epoch 7/50\n",
      "1843/1843 [==============================] - ETA: 1s - loss: 0.5149 - acc: 0.840 - ETA: 1s - loss: 0.5544 - acc: 0.820 - ETA: 1s - loss: 0.5836 - acc: 0.810 - ETA: 1s - loss: 0.5433 - acc: 0.827 - ETA: 1s - loss: 0.5547 - acc: 0.814 - ETA: 1s - loss: 0.5595 - acc: 0.810 - ETA: 1s - loss: 0.5724 - acc: 0.807 - ETA: 1s - loss: 0.5869 - acc: 0.801 - ETA: 1s - loss: 0.5793 - acc: 0.806 - ETA: 0s - loss: 0.5830 - acc: 0.805 - ETA: 0s - loss: 0.5718 - acc: 0.808 - ETA: 0s - loss: 0.5684 - acc: 0.810 - ETA: 0s - loss: 0.5816 - acc: 0.805 - ETA: 0s - loss: 0.5704 - acc: 0.810 - ETA: 0s - loss: 0.5636 - acc: 0.812 - ETA: 0s - loss: 0.5588 - acc: 0.811 - ETA: 0s - loss: 0.5623 - acc: 0.811 - ETA: 0s - loss: 0.5600 - acc: 0.810 - 2s 1ms/step - loss: 0.5609 - acc: 0.8106 - val_loss: 0.3490 - val_acc: 0.8854\n",
      "Epoch 8/50\n",
      "1843/1843 [==============================] - ETA: 1s - loss: 0.4910 - acc: 0.820 - ETA: 1s - loss: 0.4835 - acc: 0.830 - ETA: 1s - loss: 0.4762 - acc: 0.840 - ETA: 1s - loss: 0.4752 - acc: 0.835 - ETA: 1s - loss: 0.4617 - acc: 0.838 - ETA: 1s - loss: 0.4618 - acc: 0.841 - ETA: 1s - loss: 0.4571 - acc: 0.844 - ETA: 1s - loss: 0.4562 - acc: 0.850 - ETA: 0s - loss: 0.4533 - acc: 0.847 - ETA: 0s - loss: 0.4737 - acc: 0.838 - ETA: 0s - loss: 0.4863 - acc: 0.833 - ETA: 0s - loss: 0.5039 - acc: 0.829 - ETA: 0s - loss: 0.5061 - acc: 0.826 - ETA: 0s - loss: 0.4978 - acc: 0.830 - ETA: 0s - loss: 0.5066 - acc: 0.830 - ETA: 0s - loss: 0.5075 - acc: 0.830 - ETA: 0s - loss: 0.5104 - acc: 0.828 - ETA: 0s - loss: 0.5060 - acc: 0.830 - 2s 1ms/step - loss: 0.5032 - acc: 0.8302 - val_loss: 0.3216 - val_acc: 0.8902\n",
      "Epoch 9/50\n",
      "1843/1843 [==============================] - ETA: 1s - loss: 0.3446 - acc: 0.880 - ETA: 1s - loss: 0.3476 - acc: 0.885 - ETA: 1s - loss: 0.4148 - acc: 0.853 - ETA: 1s - loss: 0.3964 - acc: 0.850 - ETA: 1s - loss: 0.4147 - acc: 0.852 - ETA: 1s - loss: 0.4280 - acc: 0.851 - ETA: 1s - loss: 0.4416 - acc: 0.851 - ETA: 1s - loss: 0.4703 - acc: 0.843 - ETA: 0s - loss: 0.4820 - acc: 0.840 - ETA: 0s - loss: 0.4654 - acc: 0.846 - ETA: 0s - loss: 0.4684 - acc: 0.842 - ETA: 0s - loss: 0.4597 - acc: 0.847 - ETA: 0s - loss: 0.4618 - acc: 0.847 - ETA: 0s - loss: 0.4598 - acc: 0.846 - ETA: 0s - loss: 0.4573 - acc: 0.845 - ETA: 0s - loss: 0.4512 - acc: 0.846 - ETA: 0s - loss: 0.4485 - acc: 0.847 - ETA: 0s - loss: 0.4522 - acc: 0.847 - 2s 1ms/step - loss: 0.4516 - acc: 0.8475 - val_loss: 0.3151 - val_acc: 0.8894\n",
      "Epoch 10/50\n",
      "1843/1843 [==============================] - ETA: 1s - loss: 0.3940 - acc: 0.850 - ETA: 1s - loss: 0.4309 - acc: 0.855 - ETA: 1s - loss: 0.3999 - acc: 0.866 - ETA: 1s - loss: 0.3883 - acc: 0.870 - ETA: 1s - loss: 0.4159 - acc: 0.856 - ETA: 1s - loss: 0.4283 - acc: 0.846 - ETA: 1s - loss: 0.4378 - acc: 0.847 - ETA: 1s - loss: 0.4420 - acc: 0.845 - ETA: 1s - loss: 0.4328 - acc: 0.852 - ETA: 0s - loss: 0.4189 - acc: 0.857 - ETA: 0s - loss: 0.4308 - acc: 0.850 - ETA: 0s - loss: 0.4205 - acc: 0.854 - ETA: 0s - loss: 0.4180 - acc: 0.856 - ETA: 0s - loss: 0.4140 - acc: 0.859 - ETA: 0s - loss: 0.4076 - acc: 0.861 - ETA: 0s - loss: 0.3949 - acc: 0.865 - ETA: 0s - loss: 0.3968 - acc: 0.864 - ETA: 0s - loss: 0.3964 - acc: 0.863 - 2s 1ms/step - loss: 0.3947 - acc: 0.8649 - val_loss: 0.2840 - val_acc: 0.9024\n"
     ]
    },
    {
     "name": "stdout",
     "output_type": "stream",
     "text": [
      "Epoch 11/50\n",
      "1843/1843 [==============================] - ETA: 1s - loss: 0.4601 - acc: 0.820 - ETA: 1s - loss: 0.4287 - acc: 0.840 - ETA: 1s - loss: 0.4269 - acc: 0.836 - ETA: 1s - loss: 0.4458 - acc: 0.835 - ETA: 1s - loss: 0.4170 - acc: 0.852 - ETA: 1s - loss: 0.4161 - acc: 0.848 - ETA: 1s - loss: 0.3936 - acc: 0.854 - ETA: 1s - loss: 0.3926 - acc: 0.858 - ETA: 1s - loss: 0.3758 - acc: 0.866 - ETA: 0s - loss: 0.3751 - acc: 0.864 - ETA: 0s - loss: 0.3614 - acc: 0.868 - ETA: 0s - loss: 0.3523 - acc: 0.870 - ETA: 0s - loss: 0.3511 - acc: 0.870 - ETA: 0s - loss: 0.3560 - acc: 0.867 - ETA: 0s - loss: 0.3453 - acc: 0.872 - ETA: 0s - loss: 0.3440 - acc: 0.873 - ETA: 0s - loss: 0.3443 - acc: 0.872 - ETA: 0s - loss: 0.3471 - acc: 0.871 - 2s 1ms/step - loss: 0.3442 - acc: 0.8730 - val_loss: 0.2537 - val_acc: 0.9138\n",
      "Epoch 12/50\n",
      "1843/1843 [==============================] - ETA: 1s - loss: 0.3988 - acc: 0.880 - ETA: 1s - loss: 0.3695 - acc: 0.890 - ETA: 1s - loss: 0.3196 - acc: 0.903 - ETA: 1s - loss: 0.3124 - acc: 0.902 - ETA: 1s - loss: 0.3082 - acc: 0.904 - ETA: 1s - loss: 0.3078 - acc: 0.900 - ETA: 1s - loss: 0.3040 - acc: 0.901 - ETA: 1s - loss: 0.3065 - acc: 0.897 - ETA: 0s - loss: 0.3018 - acc: 0.897 - ETA: 0s - loss: 0.3052 - acc: 0.896 - ETA: 0s - loss: 0.3088 - acc: 0.894 - ETA: 0s - loss: 0.3146 - acc: 0.894 - ETA: 0s - loss: 0.3151 - acc: 0.893 - ETA: 0s - loss: 0.3208 - acc: 0.892 - ETA: 0s - loss: 0.3211 - acc: 0.894 - ETA: 0s - loss: 0.3182 - acc: 0.895 - ETA: 0s - loss: 0.3147 - acc: 0.896 - ETA: 0s - loss: 0.3112 - acc: 0.897 - 2s 1ms/step - loss: 0.3095 - acc: 0.8974 - val_loss: 0.2448 - val_acc: 0.9089\n",
      "Epoch 13/50\n",
      "1843/1843 [==============================] - ETA: 1s - loss: 0.2566 - acc: 0.950 - ETA: 1s - loss: 0.2678 - acc: 0.925 - ETA: 1s - loss: 0.2803 - acc: 0.913 - ETA: 1s - loss: 0.3032 - acc: 0.897 - ETA: 1s - loss: 0.3429 - acc: 0.890 - ETA: 1s - loss: 0.3489 - acc: 0.888 - ETA: 1s - loss: 0.3581 - acc: 0.884 - ETA: 1s - loss: 0.3456 - acc: 0.887 - ETA: 0s - loss: 0.3440 - acc: 0.887 - ETA: 0s - loss: 0.3351 - acc: 0.891 - ETA: 0s - loss: 0.3327 - acc: 0.890 - ETA: 0s - loss: 0.3299 - acc: 0.891 - ETA: 0s - loss: 0.3276 - acc: 0.891 - ETA: 0s - loss: 0.3205 - acc: 0.893 - ETA: 0s - loss: 0.3200 - acc: 0.893 - ETA: 0s - loss: 0.3172 - acc: 0.894 - ETA: 0s - loss: 0.3166 - acc: 0.894 - ETA: 0s - loss: 0.3154 - acc: 0.894 - 2s 1ms/step - loss: 0.3130 - acc: 0.8953 - val_loss: 0.2588 - val_acc: 0.9065\n",
      "Epoch 14/50\n",
      "1843/1843 [==============================] - ETA: 1s - loss: 0.2506 - acc: 0.920 - ETA: 1s - loss: 0.2427 - acc: 0.925 - ETA: 1s - loss: 0.2201 - acc: 0.933 - ETA: 1s - loss: 0.2297 - acc: 0.922 - ETA: 1s - loss: 0.2621 - acc: 0.912 - ETA: 1s - loss: 0.2839 - acc: 0.905 - ETA: 1s - loss: 0.2893 - acc: 0.902 - ETA: 1s - loss: 0.2952 - acc: 0.900 - ETA: 0s - loss: 0.3040 - acc: 0.894 - ETA: 0s - loss: 0.3000 - acc: 0.896 - ETA: 0s - loss: 0.3074 - acc: 0.894 - ETA: 0s - loss: 0.3202 - acc: 0.891 - ETA: 0s - loss: 0.3133 - acc: 0.895 - ETA: 0s - loss: 0.3018 - acc: 0.900 - ETA: 0s - loss: 0.2978 - acc: 0.902 - ETA: 0s - loss: 0.2955 - acc: 0.902 - ETA: 0s - loss: 0.2967 - acc: 0.901 - ETA: 0s - loss: 0.2967 - acc: 0.901 - 2s 1ms/step - loss: 0.2950 - acc: 0.9007 - val_loss: 0.2495 - val_acc: 0.9081\n",
      "Epoch 15/50\n",
      "1843/1843 [==============================] - ETA: 1s - loss: 0.3072 - acc: 0.880 - ETA: 1s - loss: 0.2924 - acc: 0.885 - ETA: 1s - loss: 0.2752 - acc: 0.893 - ETA: 1s - loss: 0.2877 - acc: 0.887 - ETA: 1s - loss: 0.2990 - acc: 0.886 - ETA: 1s - loss: 0.2951 - acc: 0.886 - ETA: 1s - loss: 0.2951 - acc: 0.890 - ETA: 1s - loss: 0.2839 - acc: 0.895 - ETA: 0s - loss: 0.2790 - acc: 0.896 - ETA: 0s - loss: 0.2698 - acc: 0.899 - ETA: 0s - loss: 0.2772 - acc: 0.897 - ETA: 0s - loss: 0.2787 - acc: 0.896 - ETA: 0s - loss: 0.2805 - acc: 0.894 - ETA: 0s - loss: 0.2767 - acc: 0.895 - ETA: 0s - loss: 0.2742 - acc: 0.896 - ETA: 0s - loss: 0.2712 - acc: 0.898 - ETA: 0s - loss: 0.2748 - acc: 0.896 - ETA: 0s - loss: 0.2762 - acc: 0.897 - 2s 1ms/step - loss: 0.2753 - acc: 0.8980 - val_loss: 0.2295 - val_acc: 0.9195\n",
      "Epoch 16/50\n",
      "1843/1843 [==============================] - ETA: 1s - loss: 0.1871 - acc: 0.930 - ETA: 1s - loss: 0.1946 - acc: 0.925 - ETA: 1s - loss: 0.2057 - acc: 0.923 - ETA: 1s - loss: 0.2352 - acc: 0.912 - ETA: 1s - loss: 0.2513 - acc: 0.910 - ETA: 1s - loss: 0.2483 - acc: 0.913 - ETA: 1s - loss: 0.2342 - acc: 0.915 - ETA: 1s - loss: 0.2250 - acc: 0.918 - ETA: 1s - loss: 0.2290 - acc: 0.920 - ETA: 0s - loss: 0.2230 - acc: 0.921 - ETA: 0s - loss: 0.2286 - acc: 0.916 - ETA: 0s - loss: 0.2341 - acc: 0.915 - ETA: 0s - loss: 0.2334 - acc: 0.916 - ETA: 0s - loss: 0.2369 - acc: 0.917 - ETA: 0s - loss: 0.2271 - acc: 0.920 - ETA: 0s - loss: 0.2253 - acc: 0.919 - ETA: 0s - loss: 0.2264 - acc: 0.920 - ETA: 0s - loss: 0.2272 - acc: 0.920 - 2s 1ms/step - loss: 0.2311 - acc: 0.9186 - val_loss: 0.2789 - val_acc: 0.9049\n",
      "Epoch 17/50\n",
      "1843/1843 [==============================] - ETA: 1s - loss: 0.3367 - acc: 0.860 - ETA: 1s - loss: 0.2827 - acc: 0.895 - ETA: 1s - loss: 0.2730 - acc: 0.896 - ETA: 1s - loss: 0.2552 - acc: 0.905 - ETA: 1s - loss: 0.2582 - acc: 0.904 - ETA: 1s - loss: 0.2609 - acc: 0.901 - ETA: 1s - loss: 0.2502 - acc: 0.905 - ETA: 1s - loss: 0.2558 - acc: 0.901 - ETA: 1s - loss: 0.2677 - acc: 0.896 - ETA: 0s - loss: 0.2634 - acc: 0.898 - ETA: 0s - loss: 0.2675 - acc: 0.897 - ETA: 0s - loss: 0.2627 - acc: 0.898 - ETA: 0s - loss: 0.2585 - acc: 0.902 - ETA: 0s - loss: 0.2523 - acc: 0.902 - ETA: 0s - loss: 0.2519 - acc: 0.903 - ETA: 0s - loss: 0.2471 - acc: 0.905 - ETA: 0s - loss: 0.2465 - acc: 0.905 - ETA: 0s - loss: 0.2422 - acc: 0.907 - 2s 1ms/step - loss: 0.2447 - acc: 0.9072 - val_loss: 0.2511 - val_acc: 0.9098\n",
      "Epoch 18/50\n",
      "1843/1843 [==============================] - ETA: 1s - loss: 0.3529 - acc: 0.900 - ETA: 1s - loss: 0.3258 - acc: 0.900 - ETA: 1s - loss: 0.2895 - acc: 0.910 - ETA: 1s - loss: 0.2856 - acc: 0.907 - ETA: 1s - loss: 0.2787 - acc: 0.908 - ETA: 1s - loss: 0.2658 - acc: 0.910 - ETA: 1s - loss: 0.2573 - acc: 0.911 - ETA: 1s - loss: 0.2501 - acc: 0.916 - ETA: 1s - loss: 0.2353 - acc: 0.923 - ETA: 0s - loss: 0.2435 - acc: 0.921 - ETA: 0s - loss: 0.2419 - acc: 0.921 - ETA: 0s - loss: 0.2461 - acc: 0.919 - ETA: 0s - loss: 0.2459 - acc: 0.916 - ETA: 0s - loss: 0.2404 - acc: 0.919 - ETA: 0s - loss: 0.2394 - acc: 0.919 - ETA: 0s - loss: 0.2362 - acc: 0.918 - ETA: 0s - loss: 0.2368 - acc: 0.918 - ETA: 0s - loss: 0.2325 - acc: 0.920 - 3s 1ms/step - loss: 0.2320 - acc: 0.9202 - val_loss: 0.2289 - val_acc: 0.9154\n",
      "Epoch 19/50\n",
      "1843/1843 [==============================] - ETA: 1s - loss: 0.2975 - acc: 0.900 - ETA: 1s - loss: 0.2154 - acc: 0.925 - ETA: 1s - loss: 0.2008 - acc: 0.920 - ETA: 1s - loss: 0.1856 - acc: 0.925 - ETA: 1s - loss: 0.1852 - acc: 0.924 - ETA: 1s - loss: 0.1931 - acc: 0.921 - ETA: 1s - loss: 0.1984 - acc: 0.921 - ETA: 1s - loss: 0.1932 - acc: 0.922 - ETA: 1s - loss: 0.2039 - acc: 0.921 - ETA: 1s - loss: 0.1985 - acc: 0.924 - ETA: 0s - loss: 0.1950 - acc: 0.925 - ETA: 0s - loss: 0.1964 - acc: 0.925 - ETA: 0s - loss: 0.2010 - acc: 0.924 - ETA: 0s - loss: 0.2050 - acc: 0.922 - ETA: 0s - loss: 0.2021 - acc: 0.923 - ETA: 0s - loss: 0.1995 - acc: 0.924 - ETA: 0s - loss: 0.1940 - acc: 0.928 - ETA: 0s - loss: 0.1958 - acc: 0.926 - 3s 1ms/step - loss: 0.1945 - acc: 0.9267 - val_loss: 0.2649 - val_acc: 0.9114\n",
      "Epoch 20/50\n",
      "1843/1843 [==============================] - ETA: 1s - loss: 0.2512 - acc: 0.900 - ETA: 1s - loss: 0.2540 - acc: 0.900 - ETA: 1s - loss: 0.2948 - acc: 0.906 - ETA: 1s - loss: 0.2842 - acc: 0.905 - ETA: 1s - loss: 0.2698 - acc: 0.910 - ETA: 1s - loss: 0.2583 - acc: 0.915 - ETA: 1s - loss: 0.2466 - acc: 0.918 - ETA: 1s - loss: 0.2366 - acc: 0.921 - ETA: 1s - loss: 0.2323 - acc: 0.922 - ETA: 0s - loss: 0.2202 - acc: 0.925 - ETA: 0s - loss: 0.2266 - acc: 0.923 - ETA: 0s - loss: 0.2168 - acc: 0.925 - ETA: 0s - loss: 0.2106 - acc: 0.926 - ETA: 0s - loss: 0.2116 - acc: 0.924 - ETA: 0s - loss: 0.2114 - acc: 0.924 - ETA: 0s - loss: 0.2141 - acc: 0.921 - ETA: 0s - loss: 0.2134 - acc: 0.921 - ETA: 0s - loss: 0.2075 - acc: 0.923 - 2s 1ms/step - loss: 0.2096 - acc: 0.9219 - val_loss: 0.2519 - val_acc: 0.9171\n"
     ]
    },
    {
     "name": "stdout",
     "output_type": "stream",
     "text": [
      "Epoch 21/50\n",
      "1843/1843 [==============================] - ETA: 1s - loss: 0.2739 - acc: 0.900 - ETA: 1s - loss: 0.2014 - acc: 0.930 - ETA: 1s - loss: 0.1771 - acc: 0.940 - ETA: 1s - loss: 0.1899 - acc: 0.935 - ETA: 1s - loss: 0.1690 - acc: 0.944 - ETA: 1s - loss: 0.1741 - acc: 0.941 - ETA: 1s - loss: 0.1712 - acc: 0.940 - ETA: 1s - loss: 0.1803 - acc: 0.935 - ETA: 1s - loss: 0.1692 - acc: 0.940 - ETA: 0s - loss: 0.1777 - acc: 0.936 - ETA: 0s - loss: 0.1765 - acc: 0.937 - ETA: 0s - loss: 0.1727 - acc: 0.939 - ETA: 0s - loss: 0.1732 - acc: 0.940 - ETA: 0s - loss: 0.1730 - acc: 0.940 - ETA: 0s - loss: 0.1690 - acc: 0.940 - ETA: 0s - loss: 0.1755 - acc: 0.939 - ETA: 0s - loss: 0.1754 - acc: 0.937 - ETA: 0s - loss: 0.1777 - acc: 0.935 - 2s 1ms/step - loss: 0.1784 - acc: 0.9354 - val_loss: 0.2253 - val_acc: 0.9146\n",
      "Epoch 22/50\n",
      "1843/1843 [==============================] - ETA: 1s - loss: 0.0413 - acc: 1.000 - ETA: 1s - loss: 0.1134 - acc: 0.960 - ETA: 1s - loss: 0.1923 - acc: 0.933 - ETA: 1s - loss: 0.2075 - acc: 0.927 - ETA: 1s - loss: 0.2017 - acc: 0.932 - ETA: 1s - loss: 0.1971 - acc: 0.931 - ETA: 1s - loss: 0.1873 - acc: 0.935 - ETA: 1s - loss: 0.1918 - acc: 0.932 - ETA: 1s - loss: 0.1937 - acc: 0.932 - ETA: 0s - loss: 0.1870 - acc: 0.933 - ETA: 0s - loss: 0.1894 - acc: 0.933 - ETA: 0s - loss: 0.1996 - acc: 0.931 - ETA: 0s - loss: 0.2036 - acc: 0.931 - ETA: 0s - loss: 0.1990 - acc: 0.932 - ETA: 0s - loss: 0.1989 - acc: 0.932 - ETA: 0s - loss: 0.1981 - acc: 0.932 - ETA: 0s - loss: 0.1972 - acc: 0.933 - ETA: 0s - loss: 0.1963 - acc: 0.932 - 2s 1ms/step - loss: 0.1995 - acc: 0.9311 - val_loss: 0.2288 - val_acc: 0.9163\n",
      "Epoch 23/50\n",
      "1843/1843 [==============================] - ETA: 1s - loss: 0.2159 - acc: 0.910 - ETA: 1s - loss: 0.2245 - acc: 0.895 - ETA: 1s - loss: 0.1970 - acc: 0.913 - ETA: 1s - loss: 0.2009 - acc: 0.915 - ETA: 1s - loss: 0.1957 - acc: 0.924 - ETA: 1s - loss: 0.1928 - acc: 0.921 - ETA: 1s - loss: 0.1917 - acc: 0.918 - ETA: 1s - loss: 0.1884 - acc: 0.918 - ETA: 1s - loss: 0.1894 - acc: 0.918 - ETA: 0s - loss: 0.1849 - acc: 0.923 - ETA: 0s - loss: 0.1824 - acc: 0.922 - ETA: 0s - loss: 0.1841 - acc: 0.924 - ETA: 0s - loss: 0.1857 - acc: 0.923 - ETA: 0s - loss: 0.1926 - acc: 0.921 - ETA: 0s - loss: 0.1847 - acc: 0.925 - ETA: 0s - loss: 0.1838 - acc: 0.926 - ETA: 0s - loss: 0.1774 - acc: 0.929 - ETA: 0s - loss: 0.1754 - acc: 0.930 - 2s 1ms/step - loss: 0.1792 - acc: 0.9295 - val_loss: 0.2909 - val_acc: 0.9065\n",
      "Epoch 24/50\n",
      "1843/1843 [==============================] - ETA: 1s - loss: 0.1930 - acc: 0.940 - ETA: 1s - loss: 0.1644 - acc: 0.935 - ETA: 1s - loss: 0.2033 - acc: 0.930 - ETA: 1s - loss: 0.1809 - acc: 0.937 - ETA: 1s - loss: 0.1987 - acc: 0.934 - ETA: 1s - loss: 0.1944 - acc: 0.933 - ETA: 1s - loss: 0.1850 - acc: 0.934 - ETA: 1s - loss: 0.1750 - acc: 0.936 - ETA: 1s - loss: 0.1840 - acc: 0.930 - ETA: 0s - loss: 0.1842 - acc: 0.932 - ETA: 0s - loss: 0.1845 - acc: 0.932 - ETA: 0s - loss: 0.1777 - acc: 0.935 - ETA: 0s - loss: 0.1781 - acc: 0.937 - ETA: 0s - loss: 0.1826 - acc: 0.935 - ETA: 0s - loss: 0.1873 - acc: 0.934 - ETA: 0s - loss: 0.1860 - acc: 0.935 - ETA: 0s - loss: 0.1815 - acc: 0.935 - ETA: 0s - loss: 0.1820 - acc: 0.936 - 2s 1ms/step - loss: 0.1817 - acc: 0.9376 - val_loss: 0.2452 - val_acc: 0.9179\n",
      "Epoch 25/50\n",
      "1843/1843 [==============================] - ETA: 1s - loss: 0.2056 - acc: 0.930 - ETA: 1s - loss: 0.1890 - acc: 0.920 - ETA: 1s - loss: 0.2013 - acc: 0.916 - ETA: 1s - loss: 0.1840 - acc: 0.922 - ETA: 1s - loss: 0.1604 - acc: 0.932 - ETA: 1s - loss: 0.1688 - acc: 0.930 - ETA: 1s - loss: 0.1607 - acc: 0.935 - ETA: 1s - loss: 0.1674 - acc: 0.931 - ETA: 1s - loss: 0.1572 - acc: 0.936 - ETA: 0s - loss: 0.1539 - acc: 0.938 - ETA: 0s - loss: 0.1579 - acc: 0.937 - ETA: 0s - loss: 0.1617 - acc: 0.935 - ETA: 0s - loss: 0.1638 - acc: 0.936 - ETA: 0s - loss: 0.1639 - acc: 0.936 - ETA: 0s - loss: 0.1649 - acc: 0.936 - ETA: 0s - loss: 0.1649 - acc: 0.936 - ETA: 0s - loss: 0.1668 - acc: 0.935 - ETA: 0s - loss: 0.1656 - acc: 0.936 - 2s 1ms/step - loss: 0.1680 - acc: 0.9349 - val_loss: 0.2286 - val_acc: 0.9228\n",
      "Epoch 26/50\n",
      "1843/1843 [==============================] - ETA: 1s - loss: 0.2108 - acc: 0.920 - ETA: 1s - loss: 0.1626 - acc: 0.945 - ETA: 1s - loss: 0.1595 - acc: 0.943 - ETA: 1s - loss: 0.1636 - acc: 0.937 - ETA: 1s - loss: 0.1514 - acc: 0.942 - ETA: 1s - loss: 0.1592 - acc: 0.936 - ETA: 1s - loss: 0.1639 - acc: 0.937 - ETA: 1s - loss: 0.1603 - acc: 0.937 - ETA: 1s - loss: 0.1595 - acc: 0.938 - ETA: 0s - loss: 0.1534 - acc: 0.940 - ETA: 0s - loss: 0.1442 - acc: 0.943 - ETA: 0s - loss: 0.1350 - acc: 0.947 - ETA: 0s - loss: 0.1374 - acc: 0.946 - ETA: 0s - loss: 0.1419 - acc: 0.945 - ETA: 0s - loss: 0.1418 - acc: 0.945 - ETA: 0s - loss: 0.1450 - acc: 0.943 - ETA: 0s - loss: 0.1415 - acc: 0.945 - ETA: 0s - loss: 0.1414 - acc: 0.946 - 2s 1ms/step - loss: 0.1397 - acc: 0.9468 - val_loss: 0.2393 - val_acc: 0.9187\n",
      "Epoch 27/50\n",
      "1843/1843 [==============================] - ETA: 1s - loss: 0.1000 - acc: 0.980 - ETA: 1s - loss: 0.1406 - acc: 0.950 - ETA: 1s - loss: 0.1465 - acc: 0.950 - ETA: 1s - loss: 0.1598 - acc: 0.947 - ETA: 1s - loss: 0.1545 - acc: 0.946 - ETA: 1s - loss: 0.1572 - acc: 0.945 - ETA: 1s - loss: 0.1493 - acc: 0.948 - ETA: 1s - loss: 0.1457 - acc: 0.950 - ETA: 1s - loss: 0.1553 - acc: 0.944 - ETA: 0s - loss: 0.1542 - acc: 0.943 - ETA: 0s - loss: 0.1551 - acc: 0.941 - ETA: 0s - loss: 0.1529 - acc: 0.941 - ETA: 0s - loss: 0.1541 - acc: 0.940 - ETA: 0s - loss: 0.1557 - acc: 0.939 - ETA: 0s - loss: 0.1632 - acc: 0.938 - ETA: 0s - loss: 0.1713 - acc: 0.937 - ETA: 0s - loss: 0.1669 - acc: 0.939 - ETA: 0s - loss: 0.1648 - acc: 0.940 - 2s 1ms/step - loss: 0.1658 - acc: 0.9392 - val_loss: 0.2334 - val_acc: 0.9220\n",
      "Epoch 28/50\n",
      "1843/1843 [==============================] - ETA: 1s - loss: 0.1386 - acc: 0.950 - ETA: 1s - loss: 0.1547 - acc: 0.945 - ETA: 1s - loss: 0.1439 - acc: 0.946 - ETA: 1s - loss: 0.1522 - acc: 0.942 - ETA: 1s - loss: 0.1518 - acc: 0.946 - ETA: 1s - loss: 0.1478 - acc: 0.948 - ETA: 1s - loss: 0.1436 - acc: 0.950 - ETA: 1s - loss: 0.1398 - acc: 0.951 - ETA: 1s - loss: 0.1346 - acc: 0.952 - ETA: 0s - loss: 0.1325 - acc: 0.952 - ETA: 0s - loss: 0.1386 - acc: 0.950 - ETA: 0s - loss: 0.1330 - acc: 0.954 - ETA: 0s - loss: 0.1334 - acc: 0.953 - ETA: 0s - loss: 0.1314 - acc: 0.955 - ETA: 0s - loss: 0.1337 - acc: 0.953 - ETA: 0s - loss: 0.1288 - acc: 0.955 - ETA: 0s - loss: 0.1302 - acc: 0.953 - ETA: 0s - loss: 0.1336 - acc: 0.951 - 2s 1ms/step - loss: 0.1334 - acc: 0.9517 - val_loss: 0.2560 - val_acc: 0.9130\n",
      "Epoch 29/50\n",
      "1843/1843 [==============================] - ETA: 1s - loss: 0.1492 - acc: 0.940 - ETA: 1s - loss: 0.0961 - acc: 0.965 - ETA: 1s - loss: 0.1287 - acc: 0.960 - ETA: 1s - loss: 0.1289 - acc: 0.965 - ETA: 1s - loss: 0.1171 - acc: 0.966 - ETA: 1s - loss: 0.1261 - acc: 0.961 - ETA: 1s - loss: 0.1228 - acc: 0.960 - ETA: 1s - loss: 0.1312 - acc: 0.957 - ETA: 0s - loss: 0.1281 - acc: 0.957 - ETA: 0s - loss: 0.1256 - acc: 0.957 - ETA: 0s - loss: 0.1224 - acc: 0.957 - ETA: 0s - loss: 0.1184 - acc: 0.959 - ETA: 0s - loss: 0.1227 - acc: 0.956 - ETA: 0s - loss: 0.1284 - acc: 0.954 - ETA: 0s - loss: 0.1300 - acc: 0.954 - ETA: 0s - loss: 0.1340 - acc: 0.951 - ETA: 0s - loss: 0.1284 - acc: 0.954 - ETA: 0s - loss: 0.1274 - acc: 0.953 - 2s 1ms/step - loss: 0.1262 - acc: 0.9544 - val_loss: 0.2768 - val_acc: 0.9122\n",
      "Epoch 30/50\n",
      "1843/1843 [==============================] - ETA: 1s - loss: 0.1144 - acc: 0.970 - ETA: 1s - loss: 0.1135 - acc: 0.965 - ETA: 1s - loss: 0.1542 - acc: 0.966 - ETA: 1s - loss: 0.1463 - acc: 0.962 - ETA: 1s - loss: 0.1375 - acc: 0.964 - ETA: 1s - loss: 0.1318 - acc: 0.965 - ETA: 1s - loss: 0.1262 - acc: 0.964 - ETA: 1s - loss: 0.1267 - acc: 0.960 - ETA: 0s - loss: 0.1286 - acc: 0.958 - ETA: 0s - loss: 0.1349 - acc: 0.954 - ETA: 0s - loss: 0.1408 - acc: 0.948 - ETA: 0s - loss: 0.1410 - acc: 0.949 - ETA: 0s - loss: 0.1427 - acc: 0.946 - ETA: 0s - loss: 0.1487 - acc: 0.944 - ETA: 0s - loss: 0.1470 - acc: 0.944 - ETA: 0s - loss: 0.1494 - acc: 0.943 - ETA: 0s - loss: 0.1533 - acc: 0.941 - ETA: 0s - loss: 0.1568 - acc: 0.940 - 2s 1ms/step - loss: 0.1585 - acc: 0.9392 - val_loss: 0.2519 - val_acc: 0.9179\n"
     ]
    },
    {
     "name": "stdout",
     "output_type": "stream",
     "text": [
      "Epoch 31/50\n",
      "1843/1843 [==============================] - ETA: 1s - loss: 0.1000 - acc: 0.960 - ETA: 1s - loss: 0.1346 - acc: 0.950 - ETA: 1s - loss: 0.1251 - acc: 0.950 - ETA: 1s - loss: 0.1273 - acc: 0.947 - ETA: 1s - loss: 0.1155 - acc: 0.956 - ETA: 1s - loss: 0.1109 - acc: 0.956 - ETA: 1s - loss: 0.1220 - acc: 0.952 - ETA: 1s - loss: 0.1213 - acc: 0.953 - ETA: 0s - loss: 0.1161 - acc: 0.955 - ETA: 0s - loss: 0.1130 - acc: 0.956 - ETA: 0s - loss: 0.1135 - acc: 0.955 - ETA: 0s - loss: 0.1141 - acc: 0.955 - ETA: 0s - loss: 0.1138 - acc: 0.955 - ETA: 0s - loss: 0.1110 - acc: 0.957 - ETA: 0s - loss: 0.1120 - acc: 0.958 - ETA: 0s - loss: 0.1098 - acc: 0.959 - ETA: 0s - loss: 0.1131 - acc: 0.957 - ETA: 0s - loss: 0.1134 - acc: 0.956 - 2s 1ms/step - loss: 0.1166 - acc: 0.9555 - val_loss: 0.2392 - val_acc: 0.9146\n",
      "Epoch 32/50\n",
      "1843/1843 [==============================] - ETA: 1s - loss: 0.1288 - acc: 0.930 - ETA: 1s - loss: 0.1080 - acc: 0.950 - ETA: 1s - loss: 0.0934 - acc: 0.956 - ETA: 1s - loss: 0.1121 - acc: 0.950 - ETA: 1s - loss: 0.1041 - acc: 0.956 - ETA: 1s - loss: 0.1038 - acc: 0.958 - ETA: 1s - loss: 0.1077 - acc: 0.957 - ETA: 1s - loss: 0.1064 - acc: 0.960 - ETA: 0s - loss: 0.1063 - acc: 0.960 - ETA: 0s - loss: 0.1081 - acc: 0.958 - ETA: 0s - loss: 0.1074 - acc: 0.959 - ETA: 0s - loss: 0.1025 - acc: 0.960 - ETA: 0s - loss: 0.1022 - acc: 0.960 - ETA: 0s - loss: 0.1014 - acc: 0.960 - ETA: 0s - loss: 0.1022 - acc: 0.960 - ETA: 0s - loss: 0.1038 - acc: 0.959 - ETA: 0s - loss: 0.1012 - acc: 0.960 - ETA: 0s - loss: 0.1059 - acc: 0.959 - 2s 1ms/step - loss: 0.1096 - acc: 0.9588 - val_loss: 0.2644 - val_acc: 0.9122\n",
      "Epoch 33/50\n",
      "1843/1843 [==============================] - ETA: 1s - loss: 0.0886 - acc: 0.970 - ETA: 1s - loss: 0.0926 - acc: 0.970 - ETA: 1s - loss: 0.0886 - acc: 0.966 - ETA: 1s - loss: 0.1071 - acc: 0.960 - ETA: 1s - loss: 0.1069 - acc: 0.962 - ETA: 1s - loss: 0.1054 - acc: 0.958 - ETA: 1s - loss: 0.1058 - acc: 0.958 - ETA: 1s - loss: 0.1071 - acc: 0.958 - ETA: 0s - loss: 0.1084 - acc: 0.957 - ETA: 0s - loss: 0.1002 - acc: 0.962 - ETA: 0s - loss: 0.1114 - acc: 0.959 - ETA: 0s - loss: 0.1072 - acc: 0.960 - ETA: 0s - loss: 0.1039 - acc: 0.961 - ETA: 0s - loss: 0.1051 - acc: 0.960 - ETA: 0s - loss: 0.1112 - acc: 0.958 - ETA: 0s - loss: 0.1109 - acc: 0.958 - ETA: 0s - loss: 0.1103 - acc: 0.958 - ETA: 0s - loss: 0.1106 - acc: 0.957 - 2s 1ms/step - loss: 0.1100 - acc: 0.9571 - val_loss: 0.2699 - val_acc: 0.9228\n",
      "Epoch 34/50\n",
      "1843/1843 [==============================] - ETA: 1s - loss: 0.1025 - acc: 0.960 - ETA: 1s - loss: 0.0966 - acc: 0.955 - ETA: 1s - loss: 0.0871 - acc: 0.963 - ETA: 1s - loss: 0.0773 - acc: 0.970 - ETA: 1s - loss: 0.1142 - acc: 0.958 - ETA: 1s - loss: 0.1147 - acc: 0.958 - ETA: 1s - loss: 0.1105 - acc: 0.960 - ETA: 1s - loss: 0.1168 - acc: 0.956 - ETA: 1s - loss: 0.1071 - acc: 0.960 - ETA: 0s - loss: 0.1064 - acc: 0.962 - ETA: 0s - loss: 0.1189 - acc: 0.957 - ETA: 0s - loss: 0.1136 - acc: 0.960 - ETA: 0s - loss: 0.1157 - acc: 0.957 - ETA: 0s - loss: 0.1136 - acc: 0.957 - ETA: 0s - loss: 0.1106 - acc: 0.959 - ETA: 0s - loss: 0.1068 - acc: 0.961 - ETA: 0s - loss: 0.1067 - acc: 0.960 - ETA: 0s - loss: 0.1046 - acc: 0.962 - 2s 1ms/step - loss: 0.1048 - acc: 0.9626 - val_loss: 0.2583 - val_acc: 0.9203\n",
      "Epoch 35/50\n",
      "1843/1843 [==============================] - ETA: 1s - loss: 0.0572 - acc: 0.990 - ETA: 1s - loss: 0.0660 - acc: 0.985 - ETA: 1s - loss: 0.0903 - acc: 0.970 - ETA: 1s - loss: 0.0860 - acc: 0.970 - ETA: 1s - loss: 0.0862 - acc: 0.972 - ETA: 1s - loss: 0.0826 - acc: 0.973 - ETA: 1s - loss: 0.0938 - acc: 0.971 - ETA: 1s - loss: 0.0954 - acc: 0.968 - ETA: 1s - loss: 0.0915 - acc: 0.967 - ETA: 0s - loss: 0.0926 - acc: 0.968 - ETA: 0s - loss: 0.0922 - acc: 0.969 - ETA: 0s - loss: 0.0891 - acc: 0.970 - ETA: 0s - loss: 0.0952 - acc: 0.967 - ETA: 0s - loss: 0.0910 - acc: 0.968 - ETA: 0s - loss: 0.0902 - acc: 0.968 - ETA: 0s - loss: 0.0963 - acc: 0.966 - ETA: 0s - loss: 0.0976 - acc: 0.966 - ETA: 0s - loss: 0.0962 - acc: 0.967 - 2s 1ms/step - loss: 0.0957 - acc: 0.9680 - val_loss: 0.2363 - val_acc: 0.9236\n",
      "Epoch 36/50\n",
      "1843/1843 [==============================] - ETA: 1s - loss: 0.1372 - acc: 0.960 - ETA: 1s - loss: 0.0857 - acc: 0.975 - ETA: 1s - loss: 0.0851 - acc: 0.973 - ETA: 1s - loss: 0.0766 - acc: 0.977 - ETA: 1s - loss: 0.0740 - acc: 0.976 - ETA: 1s - loss: 0.0781 - acc: 0.973 - ETA: 1s - loss: 0.0809 - acc: 0.972 - ETA: 1s - loss: 0.0885 - acc: 0.968 - ETA: 0s - loss: 0.0850 - acc: 0.971 - ETA: 0s - loss: 0.0806 - acc: 0.973 - ETA: 0s - loss: 0.0845 - acc: 0.972 - ETA: 0s - loss: 0.0838 - acc: 0.971 - ETA: 0s - loss: 0.0823 - acc: 0.972 - ETA: 0s - loss: 0.0816 - acc: 0.972 - ETA: 0s - loss: 0.0824 - acc: 0.972 - ETA: 0s - loss: 0.0839 - acc: 0.971 - ETA: 0s - loss: 0.0866 - acc: 0.970 - ETA: 0s - loss: 0.0899 - acc: 0.968 - 2s 1ms/step - loss: 0.0899 - acc: 0.9680 - val_loss: 0.2846 - val_acc: 0.9163\n",
      "Epoch 37/50\n",
      "1843/1843 [==============================] - ETA: 1s - loss: 0.0827 - acc: 0.970 - ETA: 1s - loss: 0.0759 - acc: 0.970 - ETA: 1s - loss: 0.0989 - acc: 0.966 - ETA: 1s - loss: 0.1032 - acc: 0.962 - ETA: 1s - loss: 0.0911 - acc: 0.966 - ETA: 1s - loss: 0.0860 - acc: 0.968 - ETA: 1s - loss: 0.0918 - acc: 0.965 - ETA: 1s - loss: 0.0901 - acc: 0.967 - ETA: 1s - loss: 0.0894 - acc: 0.967 - ETA: 0s - loss: 0.0862 - acc: 0.969 - ETA: 0s - loss: 0.0900 - acc: 0.967 - ETA: 0s - loss: 0.0855 - acc: 0.968 - ETA: 0s - loss: 0.0817 - acc: 0.970 - ETA: 0s - loss: 0.0787 - acc: 0.970 - ETA: 0s - loss: 0.0757 - acc: 0.972 - ETA: 0s - loss: 0.0773 - acc: 0.971 - ETA: 0s - loss: 0.0757 - acc: 0.971 - ETA: 0s - loss: 0.0808 - acc: 0.970 - 2s 1ms/step - loss: 0.0818 - acc: 0.9696 - val_loss: 0.3080 - val_acc: 0.9146\n",
      "Epoch 38/50\n",
      "1843/1843 [==============================] - ETA: 1s - loss: 0.0814 - acc: 0.980 - ETA: 1s - loss: 0.0960 - acc: 0.975 - ETA: 1s - loss: 0.0900 - acc: 0.980 - ETA: 1s - loss: 0.1191 - acc: 0.965 - ETA: 1s - loss: 0.1078 - acc: 0.968 - ETA: 1s - loss: 0.0991 - acc: 0.970 - ETA: 1s - loss: 0.0958 - acc: 0.970 - ETA: 1s - loss: 0.0974 - acc: 0.965 - ETA: 0s - loss: 0.0924 - acc: 0.965 - ETA: 0s - loss: 0.0897 - acc: 0.966 - ETA: 0s - loss: 0.0963 - acc: 0.965 - ETA: 0s - loss: 0.1015 - acc: 0.963 - ETA: 0s - loss: 0.0990 - acc: 0.963 - ETA: 0s - loss: 0.1006 - acc: 0.964 - ETA: 0s - loss: 0.0991 - acc: 0.964 - ETA: 0s - loss: 0.1016 - acc: 0.963 - ETA: 0s - loss: 0.1037 - acc: 0.962 - ETA: 0s - loss: 0.0994 - acc: 0.965 - 2s 1ms/step - loss: 0.0981 - acc: 0.9653 - val_loss: 0.2513 - val_acc: 0.9154\n",
      "Epoch 39/50\n",
      "1843/1843 [==============================] - ETA: 1s - loss: 0.1585 - acc: 0.950 - ETA: 1s - loss: 0.1293 - acc: 0.950 - ETA: 1s - loss: 0.1127 - acc: 0.956 - ETA: 1s - loss: 0.1118 - acc: 0.957 - ETA: 1s - loss: 0.1327 - acc: 0.954 - ETA: 1s - loss: 0.1178 - acc: 0.960 - ETA: 1s - loss: 0.1169 - acc: 0.960 - ETA: 1s - loss: 0.1078 - acc: 0.963 - ETA: 1s - loss: 0.1091 - acc: 0.963 - ETA: 0s - loss: 0.1075 - acc: 0.964 - ETA: 0s - loss: 0.1033 - acc: 0.965 - ETA: 0s - loss: 0.0992 - acc: 0.967 - ETA: 0s - loss: 0.0985 - acc: 0.967 - ETA: 0s - loss: 0.1018 - acc: 0.965 - ETA: 0s - loss: 0.0997 - acc: 0.966 - ETA: 0s - loss: 0.0958 - acc: 0.967 - ETA: 0s - loss: 0.0950 - acc: 0.967 - ETA: 0s - loss: 0.0973 - acc: 0.967 - 2s 1ms/step - loss: 0.0987 - acc: 0.9674 - val_loss: 0.2946 - val_acc: 0.9163\n",
      "Epoch 40/50\n",
      "1843/1843 [==============================] - ETA: 1s - loss: 0.1077 - acc: 0.960 - ETA: 1s - loss: 0.0705 - acc: 0.975 - ETA: 1s - loss: 0.0593 - acc: 0.983 - ETA: 1s - loss: 0.0619 - acc: 0.977 - ETA: 1s - loss: 0.0704 - acc: 0.974 - ETA: 1s - loss: 0.0723 - acc: 0.973 - ETA: 1s - loss: 0.0709 - acc: 0.975 - ETA: 1s - loss: 0.0687 - acc: 0.977 - ETA: 1s - loss: 0.0692 - acc: 0.975 - ETA: 0s - loss: 0.0745 - acc: 0.971 - ETA: 0s - loss: 0.0778 - acc: 0.970 - ETA: 0s - loss: 0.0766 - acc: 0.970 - ETA: 0s - loss: 0.0836 - acc: 0.969 - ETA: 0s - loss: 0.0809 - acc: 0.970 - ETA: 0s - loss: 0.0792 - acc: 0.972 - ETA: 0s - loss: 0.0792 - acc: 0.971 - ETA: 0s - loss: 0.0797 - acc: 0.972 - ETA: 0s - loss: 0.0788 - acc: 0.972 - 2s 1ms/step - loss: 0.0780 - acc: 0.9723 - val_loss: 0.2879 - val_acc: 0.9187\n"
     ]
    },
    {
     "name": "stdout",
     "output_type": "stream",
     "text": [
      "Epoch 41/50\n",
      "1843/1843 [==============================] - ETA: 1s - loss: 0.1260 - acc: 0.970 - ETA: 1s - loss: 0.0822 - acc: 0.980 - ETA: 1s - loss: 0.0733 - acc: 0.980 - ETA: 1s - loss: 0.0810 - acc: 0.977 - ETA: 1s - loss: 0.0708 - acc: 0.982 - ETA: 1s - loss: 0.0666 - acc: 0.983 - ETA: 1s - loss: 0.0745 - acc: 0.980 - ETA: 1s - loss: 0.0758 - acc: 0.978 - ETA: 1s - loss: 0.0773 - acc: 0.977 - ETA: 0s - loss: 0.0720 - acc: 0.979 - ETA: 0s - loss: 0.0696 - acc: 0.979 - ETA: 0s - loss: 0.0725 - acc: 0.978 - ETA: 0s - loss: 0.0780 - acc: 0.976 - ETA: 0s - loss: 0.0774 - acc: 0.977 - ETA: 0s - loss: 0.0774 - acc: 0.976 - ETA: 0s - loss: 0.0791 - acc: 0.975 - ETA: 0s - loss: 0.0805 - acc: 0.975 - ETA: 0s - loss: 0.0796 - acc: 0.976 - 2s 1ms/step - loss: 0.0794 - acc: 0.9761 - val_loss: 0.3077 - val_acc: 0.9016\n",
      "Epoch 42/50\n",
      "1843/1843 [==============================] - ETA: 1s - loss: 0.0549 - acc: 0.970 - ETA: 1s - loss: 0.0522 - acc: 0.980 - ETA: 1s - loss: 0.0659 - acc: 0.976 - ETA: 1s - loss: 0.0708 - acc: 0.977 - ETA: 1s - loss: 0.0690 - acc: 0.980 - ETA: 1s - loss: 0.0610 - acc: 0.983 - ETA: 1s - loss: 0.0653 - acc: 0.980 - ETA: 1s - loss: 0.0668 - acc: 0.978 - ETA: 0s - loss: 0.0660 - acc: 0.978 - ETA: 0s - loss: 0.0640 - acc: 0.981 - ETA: 0s - loss: 0.0631 - acc: 0.980 - ETA: 0s - loss: 0.0608 - acc: 0.980 - ETA: 0s - loss: 0.0636 - acc: 0.980 - ETA: 0s - loss: 0.0629 - acc: 0.980 - ETA: 0s - loss: 0.0678 - acc: 0.978 - ETA: 0s - loss: 0.0708 - acc: 0.976 - ETA: 0s - loss: 0.0697 - acc: 0.977 - ETA: 0s - loss: 0.0704 - acc: 0.976 - 2s 1ms/step - loss: 0.0693 - acc: 0.9772 - val_loss: 0.2739 - val_acc: 0.9220\n",
      "Epoch 43/50\n",
      "1843/1843 [==============================] - ETA: 1s - loss: 0.0994 - acc: 0.970 - ETA: 1s - loss: 0.0757 - acc: 0.975 - ETA: 1s - loss: 0.0760 - acc: 0.973 - ETA: 1s - loss: 0.0705 - acc: 0.970 - ETA: 1s - loss: 0.0676 - acc: 0.972 - ETA: 1s - loss: 0.0766 - acc: 0.966 - ETA: 1s - loss: 0.0779 - acc: 0.968 - ETA: 1s - loss: 0.0790 - acc: 0.968 - ETA: 1s - loss: 0.0758 - acc: 0.971 - ETA: 0s - loss: 0.0747 - acc: 0.971 - ETA: 0s - loss: 0.0786 - acc: 0.970 - ETA: 0s - loss: 0.0784 - acc: 0.970 - ETA: 0s - loss: 0.0795 - acc: 0.969 - ETA: 0s - loss: 0.0763 - acc: 0.970 - ETA: 0s - loss: 0.0728 - acc: 0.971 - ETA: 0s - loss: 0.0714 - acc: 0.972 - ETA: 0s - loss: 0.0690 - acc: 0.973 - ETA: 0s - loss: 0.0702 - acc: 0.973 - 2s 1ms/step - loss: 0.0705 - acc: 0.9734 - val_loss: 0.2496 - val_acc: 0.9276\n",
      "Epoch 44/50\n",
      "1843/1843 [==============================] - ETA: 1s - loss: 0.1098 - acc: 0.950 - ETA: 1s - loss: 0.1258 - acc: 0.960 - ETA: 1s - loss: 0.0914 - acc: 0.970 - ETA: 1s - loss: 0.0808 - acc: 0.970 - ETA: 1s - loss: 0.0840 - acc: 0.972 - ETA: 1s - loss: 0.1054 - acc: 0.968 - ETA: 1s - loss: 0.1007 - acc: 0.970 - ETA: 1s - loss: 0.0999 - acc: 0.966 - ETA: 1s - loss: 0.1001 - acc: 0.965 - ETA: 0s - loss: 0.1052 - acc: 0.965 - ETA: 0s - loss: 0.1037 - acc: 0.966 - ETA: 0s - loss: 0.1134 - acc: 0.962 - ETA: 0s - loss: 0.1061 - acc: 0.965 - ETA: 0s - loss: 0.1038 - acc: 0.965 - ETA: 0s - loss: 0.1005 - acc: 0.967 - ETA: 0s - loss: 0.0983 - acc: 0.968 - ETA: 0s - loss: 0.0958 - acc: 0.969 - ETA: 0s - loss: 0.0959 - acc: 0.969 - 2s 1ms/step - loss: 0.0969 - acc: 0.9696 - val_loss: 0.2569 - val_acc: 0.9228\n",
      "Epoch 45/50\n",
      "1843/1843 [==============================] - ETA: 1s - loss: 0.0654 - acc: 0.980 - ETA: 1s - loss: 0.0471 - acc: 0.980 - ETA: 1s - loss: 0.0533 - acc: 0.980 - ETA: 1s - loss: 0.0586 - acc: 0.982 - ETA: 1s - loss: 0.0558 - acc: 0.984 - ETA: 1s - loss: 0.0607 - acc: 0.980 - ETA: 1s - loss: 0.0677 - acc: 0.975 - ETA: 1s - loss: 0.0763 - acc: 0.972 - ETA: 0s - loss: 0.0759 - acc: 0.972 - ETA: 0s - loss: 0.0729 - acc: 0.974 - ETA: 0s - loss: 0.0698 - acc: 0.974 - ETA: 0s - loss: 0.0665 - acc: 0.976 - ETA: 0s - loss: 0.0658 - acc: 0.977 - ETA: 0s - loss: 0.0676 - acc: 0.977 - ETA: 0s - loss: 0.0678 - acc: 0.976 - ETA: 0s - loss: 0.0687 - acc: 0.976 - ETA: 0s - loss: 0.0711 - acc: 0.974 - ETA: 0s - loss: 0.0706 - acc: 0.975 - 2s 1ms/step - loss: 0.0691 - acc: 0.9756 - val_loss: 0.2864 - val_acc: 0.9220\n",
      "Epoch 46/50\n",
      "1843/1843 [==============================] - ETA: 1s - loss: 0.0953 - acc: 0.970 - ETA: 1s - loss: 0.0520 - acc: 0.985 - ETA: 1s - loss: 0.0660 - acc: 0.976 - ETA: 1s - loss: 0.0550 - acc: 0.982 - ETA: 1s - loss: 0.0471 - acc: 0.986 - ETA: 1s - loss: 0.0687 - acc: 0.983 - ETA: 1s - loss: 0.0743 - acc: 0.980 - ETA: 1s - loss: 0.0696 - acc: 0.980 - ETA: 0s - loss: 0.0662 - acc: 0.980 - ETA: 0s - loss: 0.0658 - acc: 0.980 - ETA: 0s - loss: 0.0640 - acc: 0.980 - ETA: 0s - loss: 0.0666 - acc: 0.979 - ETA: 0s - loss: 0.0674 - acc: 0.979 - ETA: 0s - loss: 0.0651 - acc: 0.979 - ETA: 0s - loss: 0.0627 - acc: 0.980 - ETA: 0s - loss: 0.0628 - acc: 0.980 - ETA: 0s - loss: 0.0662 - acc: 0.980 - ETA: 0s - loss: 0.0663 - acc: 0.980 - 2s 1ms/step - loss: 0.0652 - acc: 0.9805 - val_loss: 0.2740 - val_acc: 0.9203\n",
      "Epoch 47/50\n",
      "1843/1843 [==============================] - ETA: 1s - loss: 0.0628 - acc: 0.970 - ETA: 1s - loss: 0.0407 - acc: 0.980 - ETA: 1s - loss: 0.0314 - acc: 0.986 - ETA: 1s - loss: 0.0419 - acc: 0.982 - ETA: 1s - loss: 0.0444 - acc: 0.982 - ETA: 1s - loss: 0.0391 - acc: 0.985 - ETA: 1s - loss: 0.0454 - acc: 0.982 - ETA: 1s - loss: 0.0555 - acc: 0.980 - ETA: 1s - loss: 0.0522 - acc: 0.982 - ETA: 0s - loss: 0.0517 - acc: 0.981 - ETA: 0s - loss: 0.0502 - acc: 0.981 - ETA: 0s - loss: 0.0487 - acc: 0.982 - ETA: 0s - loss: 0.0582 - acc: 0.979 - ETA: 0s - loss: 0.0649 - acc: 0.976 - ETA: 0s - loss: 0.0630 - acc: 0.977 - ETA: 0s - loss: 0.0607 - acc: 0.978 - ETA: 0s - loss: 0.0623 - acc: 0.977 - ETA: 0s - loss: 0.0630 - acc: 0.976 - 2s 1ms/step - loss: 0.0617 - acc: 0.9772 - val_loss: 0.2896 - val_acc: 0.9187\n",
      "Epoch 48/50\n",
      "1843/1843 [==============================] - ETA: 1s - loss: 0.0563 - acc: 0.980 - ETA: 1s - loss: 0.0640 - acc: 0.980 - ETA: 1s - loss: 0.0703 - acc: 0.976 - ETA: 1s - loss: 0.0653 - acc: 0.975 - ETA: 1s - loss: 0.0625 - acc: 0.978 - ETA: 1s - loss: 0.0614 - acc: 0.975 - ETA: 1s - loss: 0.0608 - acc: 0.975 - ETA: 1s - loss: 0.0538 - acc: 0.978 - ETA: 1s - loss: 0.0570 - acc: 0.977 - ETA: 0s - loss: 0.0624 - acc: 0.977 - ETA: 0s - loss: 0.0576 - acc: 0.979 - ETA: 0s - loss: 0.0552 - acc: 0.980 - ETA: 0s - loss: 0.0550 - acc: 0.980 - ETA: 0s - loss: 0.0547 - acc: 0.980 - ETA: 0s - loss: 0.0527 - acc: 0.981 - ETA: 0s - loss: 0.0524 - acc: 0.981 - ETA: 0s - loss: 0.0534 - acc: 0.982 - ETA: 0s - loss: 0.0557 - acc: 0.981 - 2s 1ms/step - loss: 0.0547 - acc: 0.9816 - val_loss: 0.3215 - val_acc: 0.9163\n",
      "Epoch 49/50\n",
      "1843/1843 [==============================] - ETA: 1s - loss: 0.0544 - acc: 0.970 - ETA: 1s - loss: 0.0793 - acc: 0.965 - ETA: 1s - loss: 0.0841 - acc: 0.973 - ETA: 1s - loss: 0.0683 - acc: 0.980 - ETA: 1s - loss: 0.0673 - acc: 0.978 - ETA: 1s - loss: 0.0624 - acc: 0.981 - ETA: 1s - loss: 0.0633 - acc: 0.980 - ETA: 1s - loss: 0.0600 - acc: 0.981 - ETA: 1s - loss: 0.0609 - acc: 0.982 - ETA: 0s - loss: 0.0641 - acc: 0.982 - ETA: 0s - loss: 0.0629 - acc: 0.980 - ETA: 0s - loss: 0.0682 - acc: 0.978 - ETA: 0s - loss: 0.0673 - acc: 0.978 - ETA: 0s - loss: 0.0678 - acc: 0.978 - ETA: 0s - loss: 0.0681 - acc: 0.978 - ETA: 0s - loss: 0.0667 - acc: 0.978 - ETA: 0s - loss: 0.0670 - acc: 0.978 - ETA: 0s - loss: 0.0656 - acc: 0.979 - 2s 1ms/step - loss: 0.0655 - acc: 0.9788 - val_loss: 0.3550 - val_acc: 0.9122\n",
      "Epoch 50/50\n",
      "1843/1843 [==============================] - ETA: 1s - loss: 0.0400 - acc: 0.980 - ETA: 1s - loss: 0.0297 - acc: 0.990 - ETA: 1s - loss: 0.0319 - acc: 0.986 - ETA: 1s - loss: 0.0303 - acc: 0.987 - ETA: 1s - loss: 0.0365 - acc: 0.982 - ETA: 1s - loss: 0.0323 - acc: 0.985 - ETA: 1s - loss: 0.0364 - acc: 0.984 - ETA: 1s - loss: 0.0393 - acc: 0.983 - ETA: 1s - loss: 0.0399 - acc: 0.982 - ETA: 0s - loss: 0.0393 - acc: 0.982 - ETA: 0s - loss: 0.0359 - acc: 0.983 - ETA: 0s - loss: 0.0364 - acc: 0.984 - ETA: 0s - loss: 0.0360 - acc: 0.984 - ETA: 0s - loss: 0.0340 - acc: 0.985 - ETA: 0s - loss: 0.0394 - acc: 0.984 - ETA: 0s - loss: 0.0406 - acc: 0.983 - ETA: 0s - loss: 0.0408 - acc: 0.982 - ETA: 0s - loss: 0.0402 - acc: 0.983 - 2s 1ms/step - loss: 0.0424 - acc: 0.9832 - val_loss: 0.2792 - val_acc: 0.9285\n"
     ]
    }
   ],
   "source": [
    "model = get_model()\n",
    "history = model.fit(X_train, y_train_hot, batch_size=batch_size, epochs=epochs, verbose=verbose, validation_data=(X_test, y_test_hot))"
   ]
  },
  {
   "cell_type": "markdown",
   "metadata": {},
   "source": [
    "## Export current model:"
   ]
  },
  {
   "cell_type": "code",
   "execution_count": 14,
   "metadata": {},
   "outputs": [
    {
     "name": "stdout",
     "output_type": "stream",
     "text": [
      "Exported to folder ./models/20181212_21-50-26\n"
     ]
    }
   ],
   "source": [
    "#export_model(model)\n",
    "\n",
    "y_predicted = model.predict_classes(X_test, batch_size=batch_size)\n",
    "y_true_val = np.argmax(y_test_hot,axis=1)\n",
    "\n",
    "class_rep = classification_report(y_true_val,y_predicted,digits=5)\n",
    "\n",
    "settings = {\n",
    "    \"feature_dim_1\": feature_dim_1,\n",
    "    \"feature_dim_2\": feature_dim_2,\n",
    "    \"channel\": channel,\n",
    "    \"epochs\": epochs,\n",
    "    \"batch_size\": batch_size,\n",
    "    \"train_accuracy\": str(history.history.get('acc')[-1]),\n",
    "    \"test_accuracy\": str(history.history.get('val_acc')[-1]),\n",
    "    \"train_loss\": str(history.history.get('loss')[-1]),\n",
    "    \"test_loss\": str(history.history.get('val_loss')[-1]),\n",
    "    \"classification_report\": class_rep,\n",
    "}\n",
    "\n",
    "print(export_model(model, settings))"
   ]
  },
  {
   "cell_type": "markdown",
   "metadata": {},
   "source": [
    "## Import a model:"
   ]
  },
  {
   "cell_type": "code",
   "execution_count": null,
   "metadata": {},
   "outputs": [],
   "source": [
    "# import_model(PATH)\n",
    "imported_model = import_model(\"./models/xxx\")"
   ]
  },
  {
   "cell_type": "markdown",
   "metadata": {},
   "source": [
    "## Predict on a new file:"
   ]
  },
  {
   "cell_type": "code",
   "execution_count": null,
   "metadata": {
    "scrolled": false
   },
   "outputs": [],
   "source": [
    "print(predict('./test_audio/12.wav', model=model))"
   ]
  },
  {
   "cell_type": "markdown",
   "metadata": {},
   "source": [
    "## Predict on a folder:"
   ]
  },
  {
   "cell_type": "code",
   "execution_count": 13,
   "metadata": {},
   "outputs": [
    {
     "name": "stdout",
     "output_type": "stream",
     "text": [
      "1.wav was predicted as: 11\n",
      "10.wav was predicted as: 10\n",
      "11.wav was predicted as: 11\n",
      "12.wav was predicted as: 2\n",
      "2.wav was predicted as: 2\n",
      "3.wav was predicted as: 3\n",
      "4.wav was predicted as: 4\n",
      "5.wav was predicted as: 5\n",
      "6.wav was predicted as: 12\n",
      "7.wav was predicted as: 12\n",
      "8.wav was predicted as: 8\n",
      "9.wav was predicted as: 9\n"
     ]
    }
   ],
   "source": [
    "FOLDER_PATH = './test_audio/'\n",
    "\n",
    "for filename in os.listdir(FOLDER_PATH):\n",
    "    pred = predict(FOLDER_PATH + filename, model=model)\n",
    "    print(filename + \" was predicted as: \" + pred)"
   ]
  },
  {
   "cell_type": "markdown",
   "metadata": {},
   "source": [
    "## Accuracy / Loss"
   ]
  },
  {
   "cell_type": "code",
   "execution_count": 6,
   "metadata": {
    "scrolled": false
   },
   "outputs": [
    {
     "data": {
      "image/png": "[encoded data removed]",
      "text/plain": [
       "<Figure size 432x288 with 1 Axes>"
      ]
     },
     "metadata": {
      "needs_background": "light"
     },
     "output_type": "display_data"
    },
    {
     "data": {
      "image/png": "[encoded data removed]",
      "text/plain": [
       "<Figure size 432x288 with 1 Axes>"
      ]
     },
     "metadata": {
      "needs_background": "light"
     },
     "output_type": "display_data"
    }
   ],
   "source": [
    "#Accuracy plot\n",
    "plt.plot(history.history['acc'])\n",
    "plt.plot(history.history['val_acc'])\n",
    "plt.title('model accuracy')\n",
    "plt.ylabel('accuracy')\n",
    "plt.xlabel('epoch')\n",
    "plt.legend(['train', 'test'], loc='upper left')\n",
    "plt.show()\n",
    "\n",
    "#Loss plot\n",
    "plt.plot(history.history['loss'])\n",
    "plt.plot(history.history['val_loss'])\n",
    "plt.title('model loss')\n",
    "plt.ylabel('loss')\n",
    "plt.xlabel('epoch')\n",
    "plt.legend(['train', 'test'], loc='upper left')\n",
    "plt.show()"
   ]
  },
  {
   "cell_type": "markdown",
   "metadata": {},
   "source": [
    "## Full report with confusion matrix:"
   ]
  },
  {
   "cell_type": "code",
   "execution_count": 14,
   "metadata": {
    "scrolled": false
   },
   "outputs": [
    {
     "name": "stdout",
     "output_type": "stream",
     "text": [
      "Accuracy : 0.9284552845528455\n",
      "\n",
      "Classification Report\n",
      "              precision    recall  f1-score   support\n",
      "\n",
      "           0    0.89167   0.88430   0.88797       121\n",
      "           1    0.97895   0.92079   0.94898       101\n",
      "           2    0.96154   0.97087   0.96618       103\n",
      "           3    0.87500   0.92308   0.89840        91\n",
      "           4    0.88496   0.80000   0.84034       125\n",
      "           5    0.84868   0.93478   0.88966       138\n",
      "           6    0.94737   0.98182   0.96429       110\n",
      "           7    0.94565   0.96667   0.95604        90\n",
      "           8    0.91250   0.93590   0.92405        78\n",
      "           9    1.00000   0.92593   0.96154        81\n",
      "          10    0.98980   0.97980   0.98477        99\n",
      "          11    0.97802   0.95699   0.96739        93\n",
      "\n",
      "   micro avg    0.92846   0.92846   0.92846      1230\n",
      "   macro avg    0.93451   0.93174   0.93247      1230\n",
      "weighted avg    0.92976   0.92846   0.92838      1230\n",
      "\n",
      "[[107   1   1   0   4   7   0   0   0   0   1   0]\n",
      " [  0  93   1   2   0   0   1   1   2   0   0   1]\n",
      " [  1   0 100   0   0   0   1   0   1   0   0   0]\n",
      " [  0   1   0  84   3   0   1   0   2   0   0   0]\n",
      " [  5   0   0   5 100  15   0   0   0   0   0   0]\n",
      " [  6   0   0   0   2 129   0   1   0   0   0   0]\n",
      " [  1   0   0   0   1   0 108   0   0   0   0   0]\n",
      " [  0   0   0   0   0   0   2  87   1   0   0   0]\n",
      " [  0   0   0   1   1   0   0   2  73   0   0   1]\n",
      " [  0   0   1   4   1   0   0   0   0  75   0   0]\n",
      " [  0   0   0   0   0   0   0   1   1   0  97   0]\n",
      " [  0   0   1   0   1   1   1   0   0   0   0  89]]\n"
     ]
    },
    {
     "data": {
      "image/png": "[encoded data removed]",
      "text/plain": [
       "<Figure size 432x288 with 2 Axes>"
      ]
     },
     "metadata": {
      "needs_background": "light"
     },
     "output_type": "display_data"
    }
   ],
   "source": [
    "#should import labels directly from folder:\n",
    "labels, _, _= get_labels(\"./audio\")\n",
    "labArray = []\n",
    "for label in labels:\n",
    "    labArray.append(label)\n",
    "\n",
    "le = LabelEncoder()\n",
    "\n",
    "le.fit_transform(labArray)\n",
    "\n",
    "full_multiclass_report(model, X_test, y_test_hot, classes=le.inverse_transform(np.arange(12)))"
   ]
  },
  {
   "cell_type": "markdown",
   "metadata": {},
   "source": [
    "# Functions for all the metrics and results"
   ]
  },
  {
   "cell_type": "code",
   "execution_count": 7,
   "metadata": {},
   "outputs": [],
   "source": [
    "def plot_confusion_matrix(cm, classes,\n",
    "                          normalize=False,\n",
    "                          cmap=plt.cm.Blues):\n",
    "    \"\"\"\n",
    "    This function prints and plots the confusion matrix.\n",
    "    Normalization can be applied by setting `normalize=True`.\n",
    "    \"\"\"\n",
    "    if normalize:\n",
    "        cm = cm.astype('float') / cm.sum(axis=1)[:, np.newaxis]\n",
    "        title='Normalized confusion matrix'\n",
    "    else:\n",
    "        title='Confusion matrix'\n",
    "\n",
    "    plt.imshow(cm, interpolation='nearest', cmap=cmap)\n",
    "    plt.title(title)\n",
    "    plt.colorbar()\n",
    "    tick_marks = np.arange(len(classes))\n",
    "    plt.xticks(tick_marks, classes, rotation=45)\n",
    "    plt.yticks(tick_marks, classes)\n",
    "\n",
    "    fmt = '.2f' if normalize else 'd'\n",
    "    thresh = cm.max() / 2.\n",
    "    for i, j in itertools.product(range(cm.shape[0]), range(cm.shape[1])):\n",
    "        plt.text(j, i, format(cm[i, j], fmt),\n",
    "                 horizontalalignment=\"center\",\n",
    "                 color=\"white\" if cm[i, j] > thresh else \"black\")\n",
    "\n",
    "    plt.tight_layout()\n",
    "    plt.ylabel('True label')\n",
    "    plt.xlabel('Predicted label')\n",
    "    plt.show()\n",
    "    \n",
    "def full_multiclass_report(model,\n",
    "                           x,\n",
    "                           y_true,\n",
    "                           classes,\n",
    "                           batch_size=32,\n",
    "                           binary=False):\n",
    "\n",
    "    # 1. Transform one-hot encoded y_true into their class number\n",
    "    if not binary:\n",
    "        y_true = np.argmax(y_true,axis=1)\n",
    "    \n",
    "    # 2. Predict classes and stores in y_pred\n",
    "    y_pred = model.predict_classes(x, batch_size=batch_size)\n",
    "    \n",
    "    # 3. Print accuracy score\n",
    "    print(\"Accuracy : \"+ str(accuracy_score(y_true,y_pred)))\n",
    "    \n",
    "    print(\"\")\n",
    "    \n",
    "    # 4. Print classification report\n",
    "    print(\"Classification Report\")\n",
    "    print(classification_report(y_true,y_pred,digits=5))    \n",
    "    \n",
    "    # 5. Plot confusion matrix\n",
    "    cnf_matrix = confusion_matrix(y_true,y_pred)\n",
    "    print(cnf_matrix)\n",
    "    plot_confusion_matrix(cnf_matrix,classes=classes)"
   ]
  },
  {
   "cell_type": "code",
   "execution_count": 8,
   "metadata": {},
   "outputs": [],
   "source": [
    "def plot_history(history):\n",
    "    loss_list = [s for s in history.history.keys() if 'loss' in s and 'val' not in s]\n",
    "    val_loss_list = [s for s in history.history.keys() if 'loss' in s and 'val' in s]\n",
    "    acc_list = [s for s in history.history.keys() if 'acc' in s and 'val' not in s]\n",
    "    val_acc_list = [s for s in history.history.keys() if 'acc' in s and 'val' in s]\n",
    "    \n",
    "    if len(loss_list) == 0:\n",
    "        print('Loss is missing in history')\n",
    "        return \n",
    "    \n",
    "    ## As loss always exists\n",
    "    epochs = range(1,len(history.history[loss_list[0]]) + 1)\n",
    "    \n",
    "    ## Loss\n",
    "    plt.figure(1)\n",
    "    for l in loss_list:\n",
    "        plt.plot(epochs, history.history[l], 'b', label='Training loss (' + str(str(format(history.history[l][-1],'.5f'))+')'))\n",
    "    for l in val_loss_list:\n",
    "        plt.plot(epochs, history.history[l], 'g', label='Validation loss (' + str(str(format(history.history[l][-1],'.5f'))+')'))\n",
    "    \n",
    "    plt.title('Loss')\n",
    "    plt.xlabel('Epochs')\n",
    "    plt.ylabel('Loss')\n",
    "    plt.legend()\n",
    "    \n",
    "    ## Accuracy\n",
    "    plt.figure(2)\n",
    "    for l in acc_list:\n",
    "        plt.plot(epochs, history.history[l], 'b', label='Training accuracy (' + str(format(history.history[l][-1],'.5f'))+')')\n",
    "    for l in val_acc_list:    \n",
    "        plt.plot(epochs, history.history[l], 'g', label='Validation accuracy (' + str(format(history.history[l][-1],'.5f'))+')')\n",
    "\n",
    "    plt.title('Accuracy')\n",
    "    plt.xlabel('Epochs')\n",
    "    plt.ylabel('Accuracy')\n",
    "    plt.legend()\n",
    "    plt.show()"
   ]
  }
 ],
 "metadata": {
  "kernelspec": {
   "display_name": "Python 3",
   "language": "python",
   "name": "python3"
  },
  "language_info": {
   "codemirror_mode": {
    "name": "ipython",
    "version": 3
   },
   "file_extension": ".py",
   "mimetype": "text/x-python",
   "name": "python",
   "nbconvert_exporter": "python",
   "pygments_lexer": "ipython3",
   "version": "3.6.7"
  }
 },
 "nbformat": 4,
 "nbformat_minor": 2
}
