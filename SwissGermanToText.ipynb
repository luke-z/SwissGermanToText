{
 "cells": [
  {
   "cell_type": "markdown",
   "metadata": {},
   "source": [
    "# Experiments"
   ]
  },
  {
   "cell_type": "code",
   "execution_count": 67,
   "metadata": {},
   "outputs": [],
   "source": [
    "import os\n",
    "import IPython.display as ipd\n",
    "\n",
    "for filename in os.listdir('./test_audio'):\n",
    "    ipd.Audio('./test_audio/' + filename)"
   ]
  },
  {
   "cell_type": "code",
   "execution_count": null,
   "metadata": {
    "scrolled": false
   },
   "outputs": [],
   "source": [
    "import os\n",
    "import pandas as pd\n",
    "import librosa.display\n",
    "import matplotlib.pyplot as plt\n",
    "import tensorflow as tf\n",
    "\n",
    "for filename in os.listdir('./test'):\n",
    "    data, sampling_rate = librosa.load('./test/' + filename)\n",
    "\n",
    "    plt.figure(figsize=(12, 4))\n",
    "    librosa.display.waveplot(data, sr=sampling_rate)"
   ]
  },
  {
   "cell_type": "code",
   "execution_count": null,
   "metadata": {},
   "outputs": [],
   "source": [
    "import speech_recognition as sr"
   ]
  },
  {
   "cell_type": "code",
   "execution_count": null,
   "metadata": {},
   "outputs": [],
   "source": [
    "r = sr.Recognizer()"
   ]
  },
  {
   "cell_type": "code",
   "execution_count": null,
   "metadata": {},
   "outputs": [],
   "source": [
    "zero = sr.AudioFile('0_jackson_2.wav')"
   ]
  },
  {
   "cell_type": "code",
   "execution_count": null,
   "metadata": {},
   "outputs": [],
   "source": [
    "with zero as source:\n",
    "    audio = r.record(source)"
   ]
  },
  {
   "cell_type": "code",
   "execution_count": null,
   "metadata": {},
   "outputs": [],
   "source": [
    "print(r.recognize_google(audio))"
   ]
  },
  {
   "cell_type": "markdown",
   "metadata": {},
   "source": [
    "# This is the main training part:"
   ]
  },
  {
   "cell_type": "markdown",
   "metadata": {},
   "source": [
    "## training with audio files:"
   ]
  },
  {
   "cell_type": "code",
   "execution_count": 1,
   "metadata": {},
   "outputs": [
    {
     "name": "stderr",
     "output_type": "stream",
     "text": [
      "Using TensorFlow backend.\n"
     ]
    }
   ],
   "source": [
    "#imports:\n",
    "\n",
    "from export_model import *\n",
    "from preprocess import *\n",
    "import numpy as np\n",
    "import os\n",
    "import keras\n",
    "from keras.models import Sequential, load_model\n",
    "from keras.layers import Dense, Dropout, Flatten, Conv2D, MaxPooling2D\n",
    "from keras.utils import to_categorical\n",
    "from sklearn.metrics import confusion_matrix, classification_report, accuracy_score\n",
    "from sklearn.preprocessing import LabelEncoder\n",
    "import itertools\n",
    "import matplotlib.pyplot as plt"
   ]
  },
  {
   "cell_type": "code",
   "execution_count": 24,
   "metadata": {
    "scrolled": true
   },
   "outputs": [
    {
     "name": "stdout",
     "output_type": "stream",
     "text": [
      "The autoreload extension is already loaded. To reload it, use:\n",
      "  %reload_ext autoreload\n"
     ]
    },
    {
     "name": "stderr",
     "output_type": "stream",
     "text": [
      "Saving vectors of label - '1': 100%|█████████████████████████████████████████████████| 403/403 [00:06<00:00, 59.14it/s]\n",
      "Saving vectors of label - '10': 100%|████████████████████████████████████████████████| 258/258 [00:04<00:00, 60.66it/s]\n",
      "Saving vectors of label - '11': 100%|████████████████████████████████████████████████| 245/245 [00:04<00:00, 59.16it/s]\n",
      "Saving vectors of label - '12': 100%|████████████████████████████████████████████████| 222/222 [00:03<00:00, 56.29it/s]\n",
      "Saving vectors of label - '2': 100%|█████████████████████████████████████████████████| 327/327 [00:03<00:00, 83.44it/s]\n",
      "Saving vectors of label - '3': 100%|█████████████████████████████████████████████████| 346/346 [00:05<00:00, 58.87it/s]\n",
      "Saving vectors of label - '4': 100%|█████████████████████████████████████████████████| 288/288 [00:03<00:00, 82.90it/s]\n",
      "Saving vectors of label - '5': 100%|█████████████████████████████████████████████████| 245/245 [00:04<00:00, 53.99it/s]\n",
      "Saving vectors of label - '6': 100%|█████████████████████████████████████████████████| 219/219 [00:03<00:00, 56.65it/s]\n",
      "Saving vectors of label - '7': 100%|█████████████████████████████████████████████████| 255/255 [00:04<00:00, 54.97it/s]\n",
      "Saving vectors of label - '8': 100%|█████████████████████████████████████████████████| 250/250 [00:04<00:00, 56.33it/s]\n",
      "Saving vectors of label - '9': 100%|█████████████████████████████████████████████████| 245/245 [00:04<00:00, 56.64it/s]\n"
     ]
    }
   ],
   "source": [
    "%load_ext autoreload\n",
    "%autoreload 2\n",
    "\n",
    "#from preprocess import *\n",
    "#import keras\n",
    "#from keras.models import Sequential\n",
    "#from keras.layers import Dense, Dropout, Flatten, Conv2D, MaxPooling2D\n",
    "#from keras.utils import to_categorical\n",
    "#from sklearn.metrics import confusion_matrix, classification_report, accuracy_score\n",
    "#from sklearn.preprocessing import LabelEncoder\n",
    "#import itertools\n",
    "\n",
    "# Second dimension of the feature is dim2\n",
    "feature_dim_2 = 11\n",
    "\n",
    "# Save data to array file first\n",
    "save_data_to_array(max_len=feature_dim_2)\n",
    "\n",
    "# # Loading train set and test set\n",
    "X_train, X_test, y_train, y_test = get_train_test()\n",
    "\n",
    "# # Feature dimension\n",
    "#defaults at the end\n",
    "feature_dim_1 = 20   #20\n",
    "channel = 1          #1\n",
    "epochs = 50         #50\n",
    "batch_size = 100     #100\n",
    "verbose = 1          #1\n",
    "# change num_classes depending on the amount of labels\n",
    "num_classes = 12\n",
    "\n",
    "# Reshaping to perform 2D convolution\n",
    "X_train = X_train.reshape(X_train.shape[0], feature_dim_1, feature_dim_2, channel)\n",
    "X_test = X_test.reshape(X_test.shape[0], feature_dim_1, feature_dim_2, channel)\n",
    "\n",
    "y_train_hot = to_categorical(y_train)\n",
    "y_test_hot = to_categorical(y_test)"
   ]
  },
  {
   "cell_type": "markdown",
   "metadata": {},
   "source": [
    "## model & prediction"
   ]
  },
  {
   "cell_type": "code",
   "execution_count": 25,
   "metadata": {},
   "outputs": [],
   "source": [
    "def get_model():\n",
    "    model = Sequential()\n",
    "    model.add(Conv2D(32, kernel_size=(2, 2), activation='relu', input_shape=(feature_dim_1, feature_dim_2, channel)))\n",
    "    model.add(Conv2D(48, kernel_size=(2, 2), activation='relu'))\n",
    "    model.add(Conv2D(120, kernel_size=(2, 2), activation='relu'))\n",
    "    model.add(MaxPooling2D(pool_size=(2, 2)))\n",
    "    model.add(Dropout(0.25))\n",
    "    model.add(Flatten())\n",
    "    model.add(Dense(128, activation='relu'))\n",
    "    model.add(Dropout(0.25))\n",
    "    model.add(Dense(64, activation='relu'))\n",
    "    model.add(Dropout(0.4))\n",
    "    model.add(Dense(num_classes, activation='softmax'))\n",
    "    model.compile(loss=keras.losses.categorical_crossentropy,\n",
    "                  optimizer=keras.optimizers.Adadelta(),\n",
    "                  metrics=['accuracy'])\n",
    "    return model\n",
    "\n",
    "# Predicts one sample\n",
    "def predict(filepath, model):\n",
    "    sample = wav2mfcc(filepath)\n",
    "    sample_reshaped = sample.reshape(1, feature_dim_1, feature_dim_2, channel)\n",
    "    return get_labels()[0][\n",
    "            np.argmax(model.predict(sample_reshaped))\n",
    "    ]"
   ]
  },
  {
   "cell_type": "markdown",
   "metadata": {},
   "source": [
    "## Train model:"
   ]
  },
  {
   "cell_type": "code",
   "execution_count": 26,
   "metadata": {
    "scrolled": true
   },
   "outputs": [
    {
     "name": "stdout",
     "output_type": "stream",
     "text": [
      "Train on 1981 samples, validate on 1322 samples\n",
      "Epoch 1/50\n",
      "1981/1981 [==============================] - ETA: 17s - loss: 5.6614 - acc: 0.05 - ETA: 9s - loss: 5.3350 - acc: 0.0550 - ETA: 6s - loss: 4.8451 - acc: 0.080 - ETA: 4s - loss: 4.4860 - acc: 0.097 - ETA: 3s - loss: 4.1322 - acc: 0.090 - ETA: 3s - loss: 3.8573 - acc: 0.096 - ETA: 2s - loss: 3.6851 - acc: 0.097 - ETA: 2s - loss: 3.5457 - acc: 0.096 - ETA: 2s - loss: 3.4376 - acc: 0.098 - ETA: 1s - loss: 3.3369 - acc: 0.105 - ETA: 1s - loss: 3.2479 - acc: 0.116 - ETA: 1s - loss: 3.1797 - acc: 0.118 - ETA: 1s - loss: 3.1088 - acc: 0.125 - ETA: 0s - loss: 3.0474 - acc: 0.131 - ETA: 0s - loss: 2.9992 - acc: 0.136 - ETA: 0s - loss: 2.9508 - acc: 0.140 - ETA: 0s - loss: 2.9073 - acc: 0.148 - ETA: 0s - loss: 2.8630 - acc: 0.152 - ETA: 0s - loss: 2.8291 - acc: 0.156 - 3s 2ms/step - loss: 2.7970 - acc: 0.1651 - val_loss: 1.8834 - val_acc: 0.3926\n",
      "Epoch 2/50\n",
      "1981/1981 [==============================] - ETA: 1s - loss: 2.2179 - acc: 0.250 - ETA: 1s - loss: 2.1724 - acc: 0.265 - ETA: 1s - loss: 2.1261 - acc: 0.266 - ETA: 1s - loss: 2.0728 - acc: 0.290 - ETA: 1s - loss: 2.0354 - acc: 0.310 - ETA: 1s - loss: 2.0148 - acc: 0.308 - ETA: 1s - loss: 2.0071 - acc: 0.308 - ETA: 1s - loss: 2.0194 - acc: 0.310 - ETA: 1s - loss: 2.0023 - acc: 0.321 - ETA: 0s - loss: 1.9619 - acc: 0.337 - ETA: 0s - loss: 1.9642 - acc: 0.335 - ETA: 0s - loss: 1.9386 - acc: 0.341 - ETA: 0s - loss: 1.9075 - acc: 0.352 - ETA: 0s - loss: 1.8804 - acc: 0.360 - ETA: 0s - loss: 1.8662 - acc: 0.368 - ETA: 0s - loss: 1.8510 - acc: 0.373 - ETA: 0s - loss: 1.8328 - acc: 0.378 - ETA: 0s - loss: 1.8209 - acc: 0.383 - ETA: 0s - loss: 1.8123 - acc: 0.385 - 2s 1ms/step - loss: 1.8068 - acc: 0.3867 - val_loss: 1.0711 - val_acc: 0.7693\n",
      "Epoch 3/50\n",
      "1981/1981 [==============================] - ETA: 1s - loss: 1.4898 - acc: 0.480 - ETA: 1s - loss: 1.4651 - acc: 0.495 - ETA: 1s - loss: 1.4349 - acc: 0.543 - ETA: 1s - loss: 1.4184 - acc: 0.545 - ETA: 1s - loss: 1.3879 - acc: 0.550 - ETA: 1s - loss: 1.3906 - acc: 0.551 - ETA: 1s - loss: 1.3641 - acc: 0.562 - ETA: 1s - loss: 1.3533 - acc: 0.556 - ETA: 1s - loss: 1.3726 - acc: 0.552 - ETA: 1s - loss: 1.3701 - acc: 0.551 - ETA: 0s - loss: 1.3494 - acc: 0.557 - ETA: 0s - loss: 1.3556 - acc: 0.557 - ETA: 0s - loss: 1.3530 - acc: 0.559 - ETA: 0s - loss: 1.3463 - acc: 0.560 - ETA: 0s - loss: 1.3326 - acc: 0.566 - ETA: 0s - loss: 1.3166 - acc: 0.571 - ETA: 0s - loss: 1.3009 - acc: 0.577 - ETA: 0s - loss: 1.3022 - acc: 0.574 - ETA: 0s - loss: 1.2906 - acc: 0.577 - 2s 1ms/step - loss: 1.2849 - acc: 0.5795 - val_loss: 0.6053 - val_acc: 0.8449\n",
      "Epoch 4/50\n",
      "1981/1981 [==============================] - ETA: 1s - loss: 1.0883 - acc: 0.630 - ETA: 1s - loss: 0.9577 - acc: 0.680 - ETA: 1s - loss: 0.9743 - acc: 0.673 - ETA: 1s - loss: 0.9862 - acc: 0.665 - ETA: 1s - loss: 0.9977 - acc: 0.670 - ETA: 1s - loss: 0.9611 - acc: 0.686 - ETA: 1s - loss: 0.9465 - acc: 0.688 - ETA: 1s - loss: 0.9115 - acc: 0.702 - ETA: 1s - loss: 0.9345 - acc: 0.700 - ETA: 1s - loss: 0.9269 - acc: 0.702 - ETA: 0s - loss: 0.9241 - acc: 0.701 - ETA: 0s - loss: 0.9169 - acc: 0.701 - ETA: 0s - loss: 0.9081 - acc: 0.703 - ETA: 0s - loss: 0.8978 - acc: 0.707 - ETA: 0s - loss: 0.9032 - acc: 0.707 - ETA: 0s - loss: 0.8994 - acc: 0.712 - ETA: 0s - loss: 0.8972 - acc: 0.713 - ETA: 0s - loss: 0.9113 - acc: 0.706 - ETA: 0s - loss: 0.9000 - acc: 0.711 - 2s 1ms/step - loss: 0.8987 - acc: 0.7118 - val_loss: 0.4657 - val_acc: 0.8593\n",
      "Epoch 5/50\n",
      "1981/1981 [==============================] - ETA: 1s - loss: 0.8019 - acc: 0.720 - ETA: 1s - loss: 0.7537 - acc: 0.760 - ETA: 1s - loss: 0.7657 - acc: 0.746 - ETA: 1s - loss: 0.8119 - acc: 0.735 - ETA: 1s - loss: 0.8070 - acc: 0.732 - ETA: 1s - loss: 0.7904 - acc: 0.733 - ETA: 1s - loss: 0.7993 - acc: 0.734 - ETA: 1s - loss: 0.7939 - acc: 0.732 - ETA: 1s - loss: 0.7591 - acc: 0.745 - ETA: 1s - loss: 0.7392 - acc: 0.751 - ETA: 0s - loss: 0.7332 - acc: 0.750 - ETA: 0s - loss: 0.7283 - acc: 0.751 - ETA: 0s - loss: 0.7294 - acc: 0.750 - ETA: 0s - loss: 0.7323 - acc: 0.749 - ETA: 0s - loss: 0.7301 - acc: 0.747 - ETA: 0s - loss: 0.7225 - acc: 0.751 - ETA: 0s - loss: 0.7163 - acc: 0.754 - ETA: 0s - loss: 0.7121 - acc: 0.755 - ETA: 0s - loss: 0.7107 - acc: 0.757 - 3s 1ms/step - loss: 0.7090 - acc: 0.7602 - val_loss: 0.4345 - val_acc: 0.8487\n",
      "Epoch 6/50\n",
      "1981/1981 [==============================] - ETA: 1s - loss: 0.6389 - acc: 0.790 - ETA: 1s - loss: 0.5552 - acc: 0.835 - ETA: 1s - loss: 0.5279 - acc: 0.836 - ETA: 1s - loss: 0.5394 - acc: 0.832 - ETA: 1s - loss: 0.5550 - acc: 0.822 - ETA: 1s - loss: 0.5833 - acc: 0.821 - ETA: 1s - loss: 0.6356 - acc: 0.801 - ETA: 1s - loss: 0.6433 - acc: 0.800 - ETA: 1s - loss: 0.6407 - acc: 0.794 - ETA: 1s - loss: 0.6400 - acc: 0.794 - ETA: 0s - loss: 0.6194 - acc: 0.802 - ETA: 0s - loss: 0.6069 - acc: 0.806 - ETA: 0s - loss: 0.6151 - acc: 0.802 - ETA: 0s - loss: 0.6051 - acc: 0.807 - ETA: 0s - loss: 0.6016 - acc: 0.808 - ETA: 0s - loss: 0.6051 - acc: 0.805 - ETA: 0s - loss: 0.6000 - acc: 0.807 - ETA: 0s - loss: 0.5956 - acc: 0.809 - ETA: 0s - loss: 0.5952 - acc: 0.809 - 3s 1ms/step - loss: 0.5900 - acc: 0.8122 - val_loss: 0.3338 - val_acc: 0.8858\n",
      "Epoch 7/50\n",
      "1981/1981 [==============================] - ETA: 1s - loss: 0.4167 - acc: 0.840 - ETA: 1s - loss: 0.3867 - acc: 0.860 - ETA: 1s - loss: 0.4664 - acc: 0.833 - ETA: 1s - loss: 0.5051 - acc: 0.820 - ETA: 1s - loss: 0.5692 - acc: 0.806 - ETA: 1s - loss: 0.5637 - acc: 0.813 - ETA: 1s - loss: 0.5942 - acc: 0.807 - ETA: 1s - loss: 0.6234 - acc: 0.795 - ETA: 1s - loss: 0.6070 - acc: 0.801 - ETA: 1s - loss: 0.5963 - acc: 0.804 - ETA: 1s - loss: 0.5783 - acc: 0.807 - ETA: 0s - loss: 0.5521 - acc: 0.816 - ETA: 0s - loss: 0.5392 - acc: 0.823 - ETA: 0s - loss: 0.5377 - acc: 0.821 - ETA: 0s - loss: 0.5235 - acc: 0.826 - ETA: 0s - loss: 0.5320 - acc: 0.822 - ETA: 0s - loss: 0.5221 - acc: 0.823 - ETA: 0s - loss: 0.5238 - acc: 0.822 - ETA: 0s - loss: 0.5194 - acc: 0.823 - 3s 1ms/step - loss: 0.5128 - acc: 0.8264 - val_loss: 0.3246 - val_acc: 0.8812\n",
      "Epoch 8/50\n",
      "1981/1981 [==============================] - ETA: 1s - loss: 0.4791 - acc: 0.820 - ETA: 1s - loss: 0.4835 - acc: 0.810 - ETA: 1s - loss: 0.4372 - acc: 0.836 - ETA: 1s - loss: 0.4332 - acc: 0.845 - ETA: 1s - loss: 0.4504 - acc: 0.844 - ETA: 1s - loss: 0.4347 - acc: 0.855 - ETA: 1s - loss: 0.4248 - acc: 0.854 - ETA: 1s - loss: 0.4085 - acc: 0.862 - ETA: 1s - loss: 0.4220 - acc: 0.858 - ETA: 1s - loss: 0.4368 - acc: 0.855 - ETA: 0s - loss: 0.4422 - acc: 0.852 - ETA: 0s - loss: 0.4497 - acc: 0.853 - ETA: 0s - loss: 0.4523 - acc: 0.853 - ETA: 0s - loss: 0.4395 - acc: 0.857 - ETA: 0s - loss: 0.4369 - acc: 0.856 - ETA: 0s - loss: 0.4327 - acc: 0.857 - ETA: 0s - loss: 0.4296 - acc: 0.857 - ETA: 0s - loss: 0.4290 - acc: 0.857 - ETA: 0s - loss: 0.4229 - acc: 0.860 - 2s 1ms/step - loss: 0.4262 - acc: 0.8592 - val_loss: 0.3207 - val_acc: 0.8896\n",
      "Epoch 9/50\n",
      "1981/1981 [==============================] - ETA: 1s - loss: 0.4237 - acc: 0.860 - ETA: 1s - loss: 0.4151 - acc: 0.840 - ETA: 1s - loss: 0.4073 - acc: 0.850 - ETA: 1s - loss: 0.4383 - acc: 0.840 - ETA: 1s - loss: 0.4088 - acc: 0.856 - ETA: 1s - loss: 0.4261 - acc: 0.845 - ETA: 1s - loss: 0.4176 - acc: 0.844 - ETA: 1s - loss: 0.4051 - acc: 0.848 - ETA: 1s - loss: 0.4157 - acc: 0.846 - ETA: 1s - loss: 0.4065 - acc: 0.848 - ETA: 0s - loss: 0.4122 - acc: 0.850 - ETA: 0s - loss: 0.4153 - acc: 0.848 - ETA: 0s - loss: 0.4194 - acc: 0.849 - ETA: 0s - loss: 0.4230 - acc: 0.848 - ETA: 0s - loss: 0.4173 - acc: 0.848 - ETA: 0s - loss: 0.4078 - acc: 0.853 - ETA: 0s - loss: 0.4047 - acc: 0.854 - ETA: 0s - loss: 0.3963 - acc: 0.858 - ETA: 0s - loss: 0.3975 - acc: 0.857 - 2s 1ms/step - loss: 0.4008 - acc: 0.8576 - val_loss: 0.2980 - val_acc: 0.8926\n",
      "Epoch 10/50\n"
     ]
    },
    {
     "name": "stdout",
     "output_type": "stream",
     "text": [
      "1981/1981 [==============================] - ETA: 1s - loss: 0.5264 - acc: 0.820 - ETA: 1s - loss: 0.3542 - acc: 0.875 - ETA: 1s - loss: 0.3722 - acc: 0.870 - ETA: 1s - loss: 0.3288 - acc: 0.887 - ETA: 1s - loss: 0.3572 - acc: 0.876 - ETA: 1s - loss: 0.3602 - acc: 0.875 - ETA: 1s - loss: 0.3437 - acc: 0.880 - ETA: 1s - loss: 0.3343 - acc: 0.881 - ETA: 1s - loss: 0.3436 - acc: 0.877 - ETA: 0s - loss: 0.3441 - acc: 0.880 - ETA: 0s - loss: 0.3475 - acc: 0.878 - ETA: 0s - loss: 0.3532 - acc: 0.875 - ETA: 0s - loss: 0.3543 - acc: 0.875 - ETA: 0s - loss: 0.3539 - acc: 0.875 - ETA: 0s - loss: 0.3491 - acc: 0.875 - ETA: 0s - loss: 0.3511 - acc: 0.875 - ETA: 0s - loss: 0.3549 - acc: 0.875 - ETA: 0s - loss: 0.3520 - acc: 0.878 - ETA: 0s - loss: 0.3536 - acc: 0.877 - 2s 1ms/step - loss: 0.3521 - acc: 0.8773 - val_loss: 0.2947 - val_acc: 0.8926\n",
      "Epoch 11/50\n",
      "1981/1981 [==============================] - ETA: 1s - loss: 0.3352 - acc: 0.880 - ETA: 1s - loss: 0.3564 - acc: 0.870 - ETA: 1s - loss: 0.3823 - acc: 0.860 - ETA: 1s - loss: 0.3503 - acc: 0.870 - ETA: 1s - loss: 0.3398 - acc: 0.878 - ETA: 1s - loss: 0.3233 - acc: 0.883 - ETA: 1s - loss: 0.3338 - acc: 0.881 - ETA: 1s - loss: 0.3373 - acc: 0.880 - ETA: 1s - loss: 0.3360 - acc: 0.884 - ETA: 0s - loss: 0.3172 - acc: 0.892 - ETA: 0s - loss: 0.3106 - acc: 0.893 - ETA: 0s - loss: 0.3116 - acc: 0.893 - ETA: 0s - loss: 0.3016 - acc: 0.897 - ETA: 0s - loss: 0.2993 - acc: 0.898 - ETA: 0s - loss: 0.2963 - acc: 0.899 - ETA: 0s - loss: 0.3130 - acc: 0.894 - ETA: 0s - loss: 0.3110 - acc: 0.895 - ETA: 0s - loss: 0.3123 - acc: 0.895 - ETA: 0s - loss: 0.3147 - acc: 0.895 - 2s 1ms/step - loss: 0.3142 - acc: 0.8950 - val_loss: 0.2865 - val_acc: 0.8979\n",
      "Epoch 12/50\n",
      "1981/1981 [==============================] - ETA: 1s - loss: 0.2757 - acc: 0.860 - ETA: 1s - loss: 0.3071 - acc: 0.865 - ETA: 1s - loss: 0.3147 - acc: 0.876 - ETA: 1s - loss: 0.2873 - acc: 0.887 - ETA: 1s - loss: 0.2976 - acc: 0.890 - ETA: 1s - loss: 0.2874 - acc: 0.893 - ETA: 1s - loss: 0.2859 - acc: 0.895 - ETA: 1s - loss: 0.3053 - acc: 0.888 - ETA: 1s - loss: 0.3151 - acc: 0.887 - ETA: 0s - loss: 0.3228 - acc: 0.885 - ETA: 0s - loss: 0.3258 - acc: 0.885 - ETA: 0s - loss: 0.3184 - acc: 0.887 - ETA: 0s - loss: 0.3265 - acc: 0.881 - ETA: 0s - loss: 0.3242 - acc: 0.884 - ETA: 0s - loss: 0.3274 - acc: 0.882 - ETA: 0s - loss: 0.3235 - acc: 0.884 - ETA: 0s - loss: 0.3281 - acc: 0.881 - ETA: 0s - loss: 0.3260 - acc: 0.882 - ETA: 0s - loss: 0.3239 - acc: 0.883 - 2s 1ms/step - loss: 0.3240 - acc: 0.8829 - val_loss: 0.2781 - val_acc: 0.8941\n",
      "Epoch 13/50\n",
      "1981/1981 [==============================] - ETA: 1s - loss: 0.2689 - acc: 0.910 - ETA: 1s - loss: 0.2569 - acc: 0.905 - ETA: 1s - loss: 0.2317 - acc: 0.913 - ETA: 1s - loss: 0.2516 - acc: 0.907 - ETA: 1s - loss: 0.2859 - acc: 0.898 - ETA: 1s - loss: 0.2838 - acc: 0.895 - ETA: 1s - loss: 0.2969 - acc: 0.891 - ETA: 1s - loss: 0.3056 - acc: 0.887 - ETA: 1s - loss: 0.3025 - acc: 0.888 - ETA: 0s - loss: 0.3023 - acc: 0.889 - ETA: 0s - loss: 0.3021 - acc: 0.890 - ETA: 0s - loss: 0.3048 - acc: 0.890 - ETA: 0s - loss: 0.3008 - acc: 0.893 - ETA: 0s - loss: 0.3027 - acc: 0.893 - ETA: 0s - loss: 0.3025 - acc: 0.893 - ETA: 0s - loss: 0.3067 - acc: 0.891 - ETA: 0s - loss: 0.3053 - acc: 0.892 - ETA: 0s - loss: 0.3036 - acc: 0.893 - ETA: 0s - loss: 0.3045 - acc: 0.893 - 2s 1ms/step - loss: 0.3055 - acc: 0.8930 - val_loss: 0.2755 - val_acc: 0.9054\n",
      "Epoch 14/50\n",
      "1981/1981 [==============================] - ETA: 1s - loss: 0.2920 - acc: 0.910 - ETA: 1s - loss: 0.3035 - acc: 0.920 - ETA: 1s - loss: 0.2835 - acc: 0.913 - ETA: 1s - loss: 0.2904 - acc: 0.910 - ETA: 1s - loss: 0.2955 - acc: 0.906 - ETA: 1s - loss: 0.2964 - acc: 0.901 - ETA: 1s - loss: 0.2944 - acc: 0.902 - ETA: 1s - loss: 0.2915 - acc: 0.903 - ETA: 1s - loss: 0.2934 - acc: 0.904 - ETA: 0s - loss: 0.2986 - acc: 0.904 - ETA: 0s - loss: 0.2938 - acc: 0.906 - ETA: 0s - loss: 0.2957 - acc: 0.904 - ETA: 0s - loss: 0.2912 - acc: 0.904 - ETA: 0s - loss: 0.2753 - acc: 0.910 - ETA: 0s - loss: 0.2712 - acc: 0.913 - ETA: 0s - loss: 0.2666 - acc: 0.915 - ETA: 0s - loss: 0.2629 - acc: 0.915 - ETA: 0s - loss: 0.2708 - acc: 0.912 - ETA: 0s - loss: 0.2677 - acc: 0.914 - 2s 1ms/step - loss: 0.2735 - acc: 0.9117 - val_loss: 0.2657 - val_acc: 0.9032\n",
      "Epoch 15/50\n",
      "1981/1981 [==============================] - ETA: 1s - loss: 0.3171 - acc: 0.880 - ETA: 1s - loss: 0.3078 - acc: 0.890 - ETA: 1s - loss: 0.2961 - acc: 0.900 - ETA: 1s - loss: 0.2761 - acc: 0.915 - ETA: 1s - loss: 0.2672 - acc: 0.914 - ETA: 1s - loss: 0.2553 - acc: 0.915 - ETA: 1s - loss: 0.2783 - acc: 0.911 - ETA: 1s - loss: 0.2966 - acc: 0.902 - ETA: 1s - loss: 0.3061 - acc: 0.901 - ETA: 0s - loss: 0.2965 - acc: 0.903 - ETA: 0s - loss: 0.2820 - acc: 0.905 - ETA: 0s - loss: 0.2798 - acc: 0.906 - ETA: 0s - loss: 0.2748 - acc: 0.907 - ETA: 0s - loss: 0.2795 - acc: 0.907 - ETA: 0s - loss: 0.2893 - acc: 0.904 - ETA: 0s - loss: 0.2891 - acc: 0.905 - ETA: 0s - loss: 0.2847 - acc: 0.907 - ETA: 0s - loss: 0.2747 - acc: 0.911 - ETA: 0s - loss: 0.2770 - acc: 0.911 - 2s 1ms/step - loss: 0.2788 - acc: 0.9112 - val_loss: 0.2821 - val_acc: 0.8971\n",
      "Epoch 16/50\n",
      "1981/1981 [==============================] - ETA: 1s - loss: 0.1675 - acc: 0.950 - ETA: 1s - loss: 0.2447 - acc: 0.920 - ETA: 1s - loss: 0.2606 - acc: 0.913 - ETA: 1s - loss: 0.2500 - acc: 0.917 - ETA: 1s - loss: 0.2442 - acc: 0.922 - ETA: 1s - loss: 0.2495 - acc: 0.915 - ETA: 1s - loss: 0.2538 - acc: 0.915 - ETA: 1s - loss: 0.2491 - acc: 0.916 - ETA: 1s - loss: 0.2445 - acc: 0.918 - ETA: 1s - loss: 0.2424 - acc: 0.921 - ETA: 1s - loss: 0.2366 - acc: 0.922 - ETA: 0s - loss: 0.2382 - acc: 0.921 - ETA: 0s - loss: 0.2511 - acc: 0.920 - ETA: 0s - loss: 0.2539 - acc: 0.917 - ETA: 0s - loss: 0.2496 - acc: 0.920 - ETA: 0s - loss: 0.2424 - acc: 0.922 - ETA: 0s - loss: 0.2462 - acc: 0.920 - ETA: 0s - loss: 0.2482 - acc: 0.918 - ETA: 0s - loss: 0.2487 - acc: 0.917 - 3s 2ms/step - loss: 0.2465 - acc: 0.9192 - val_loss: 0.2675 - val_acc: 0.9070\n",
      "Epoch 17/50\n",
      "1981/1981 [==============================] - ETA: 2s - loss: 0.3026 - acc: 0.900 - ETA: 2s - loss: 0.2182 - acc: 0.920 - ETA: 2s - loss: 0.2273 - acc: 0.916 - ETA: 1s - loss: 0.2391 - acc: 0.912 - ETA: 1s - loss: 0.2306 - acc: 0.916 - ETA: 1s - loss: 0.2229 - acc: 0.916 - ETA: 1s - loss: 0.2182 - acc: 0.918 - ETA: 1s - loss: 0.2127 - acc: 0.920 - ETA: 1s - loss: 0.2200 - acc: 0.915 - ETA: 1s - loss: 0.2275 - acc: 0.913 - ETA: 1s - loss: 0.2200 - acc: 0.919 - ETA: 0s - loss: 0.2298 - acc: 0.919 - ETA: 0s - loss: 0.2288 - acc: 0.920 - ETA: 0s - loss: 0.2275 - acc: 0.920 - ETA: 0s - loss: 0.2324 - acc: 0.918 - ETA: 0s - loss: 0.2393 - acc: 0.915 - ETA: 0s - loss: 0.2387 - acc: 0.915 - ETA: 0s - loss: 0.2367 - acc: 0.916 - ETA: 0s - loss: 0.2335 - acc: 0.916 - 3s 1ms/step - loss: 0.2410 - acc: 0.9157 - val_loss: 0.2629 - val_acc: 0.9039\n",
      "Epoch 18/50\n",
      "1981/1981 [==============================] - ETA: 2s - loss: 0.1572 - acc: 0.940 - ETA: 1s - loss: 0.1844 - acc: 0.935 - ETA: 1s - loss: 0.2231 - acc: 0.913 - ETA: 1s - loss: 0.2173 - acc: 0.925 - ETA: 1s - loss: 0.2196 - acc: 0.922 - ETA: 1s - loss: 0.2088 - acc: 0.926 - ETA: 1s - loss: 0.2201 - acc: 0.918 - ETA: 1s - loss: 0.2127 - acc: 0.923 - ETA: 1s - loss: 0.2050 - acc: 0.925 - ETA: 1s - loss: 0.2136 - acc: 0.920 - ETA: 0s - loss: 0.2102 - acc: 0.920 - ETA: 0s - loss: 0.2200 - acc: 0.915 - ETA: 0s - loss: 0.2246 - acc: 0.913 - ETA: 0s - loss: 0.2277 - acc: 0.913 - ETA: 0s - loss: 0.2291 - acc: 0.914 - ETA: 0s - loss: 0.2224 - acc: 0.916 - ETA: 0s - loss: 0.2208 - acc: 0.915 - ETA: 0s - loss: 0.2201 - acc: 0.914 - ETA: 0s - loss: 0.2174 - acc: 0.915 - 2s 1ms/step - loss: 0.2200 - acc: 0.9152 - val_loss: 0.2648 - val_acc: 0.9107\n",
      "Epoch 19/50\n"
     ]
    },
    {
     "name": "stdout",
     "output_type": "stream",
     "text": [
      "1981/1981 [==============================] - ETA: 1s - loss: 0.2413 - acc: 0.910 - ETA: 1s - loss: 0.2628 - acc: 0.910 - ETA: 1s - loss: 0.2923 - acc: 0.906 - ETA: 1s - loss: 0.2615 - acc: 0.915 - ETA: 1s - loss: 0.2493 - acc: 0.920 - ETA: 1s - loss: 0.2560 - acc: 0.916 - ETA: 1s - loss: 0.2441 - acc: 0.920 - ETA: 1s - loss: 0.2331 - acc: 0.923 - ETA: 1s - loss: 0.2234 - acc: 0.928 - ETA: 1s - loss: 0.2064 - acc: 0.934 - ETA: 0s - loss: 0.1981 - acc: 0.935 - ETA: 0s - loss: 0.1933 - acc: 0.937 - ETA: 0s - loss: 0.1940 - acc: 0.937 - ETA: 0s - loss: 0.1862 - acc: 0.940 - ETA: 0s - loss: 0.1870 - acc: 0.940 - ETA: 0s - loss: 0.1843 - acc: 0.940 - ETA: 0s - loss: 0.1957 - acc: 0.936 - ETA: 0s - loss: 0.2028 - acc: 0.933 - ETA: 0s - loss: 0.2053 - acc: 0.933 - 2s 1ms/step - loss: 0.2076 - acc: 0.9313 - val_loss: 0.2929 - val_acc: 0.9024\n",
      "Epoch 20/50\n",
      "1981/1981 [==============================] - ETA: 1s - loss: 0.2700 - acc: 0.900 - ETA: 1s - loss: 0.2307 - acc: 0.905 - ETA: 1s - loss: 0.2557 - acc: 0.900 - ETA: 1s - loss: 0.2672 - acc: 0.900 - ETA: 1s - loss: 0.2620 - acc: 0.902 - ETA: 1s - loss: 0.2419 - acc: 0.908 - ETA: 1s - loss: 0.2276 - acc: 0.914 - ETA: 1s - loss: 0.2188 - acc: 0.917 - ETA: 1s - loss: 0.2111 - acc: 0.920 - ETA: 0s - loss: 0.1998 - acc: 0.924 - ETA: 0s - loss: 0.1964 - acc: 0.925 - ETA: 0s - loss: 0.1892 - acc: 0.928 - ETA: 0s - loss: 0.1852 - acc: 0.930 - ETA: 0s - loss: 0.1856 - acc: 0.929 - ETA: 0s - loss: 0.1835 - acc: 0.931 - ETA: 0s - loss: 0.1842 - acc: 0.931 - ETA: 0s - loss: 0.1857 - acc: 0.931 - ETA: 0s - loss: 0.1820 - acc: 0.933 - ETA: 0s - loss: 0.1849 - acc: 0.933 - 3s 1ms/step - loss: 0.1851 - acc: 0.9324 - val_loss: 0.2745 - val_acc: 0.9062\n",
      "Epoch 21/50\n",
      "1981/1981 [==============================] - ETA: 1s - loss: 0.0998 - acc: 0.970 - ETA: 1s - loss: 0.1829 - acc: 0.930 - ETA: 1s - loss: 0.1706 - acc: 0.930 - ETA: 1s - loss: 0.1557 - acc: 0.940 - ETA: 1s - loss: 0.1733 - acc: 0.932 - ETA: 1s - loss: 0.1663 - acc: 0.938 - ETA: 1s - loss: 0.1679 - acc: 0.937 - ETA: 1s - loss: 0.1642 - acc: 0.937 - ETA: 1s - loss: 0.1684 - acc: 0.933 - ETA: 1s - loss: 0.1642 - acc: 0.936 - ETA: 0s - loss: 0.1702 - acc: 0.931 - ETA: 0s - loss: 0.1710 - acc: 0.931 - ETA: 0s - loss: 0.1709 - acc: 0.930 - ETA: 0s - loss: 0.1739 - acc: 0.930 - ETA: 0s - loss: 0.1686 - acc: 0.933 - ETA: 0s - loss: 0.1719 - acc: 0.933 - ETA: 0s - loss: 0.1741 - acc: 0.931 - ETA: 0s - loss: 0.1748 - acc: 0.932 - ETA: 0s - loss: 0.1769 - acc: 0.933 - 2s 1ms/step - loss: 0.1789 - acc: 0.9339 - val_loss: 0.2613 - val_acc: 0.9123\n",
      "Epoch 22/50\n",
      "1981/1981 [==============================] - ETA: 2s - loss: 0.1557 - acc: 0.950 - ETA: 1s - loss: 0.1839 - acc: 0.940 - ETA: 1s - loss: 0.1528 - acc: 0.943 - ETA: 1s - loss: 0.1634 - acc: 0.940 - ETA: 1s - loss: 0.1682 - acc: 0.938 - ETA: 1s - loss: 0.1711 - acc: 0.936 - ETA: 1s - loss: 0.1684 - acc: 0.937 - ETA: 1s - loss: 0.1748 - acc: 0.937 - ETA: 1s - loss: 0.1846 - acc: 0.935 - ETA: 1s - loss: 0.1851 - acc: 0.936 - ETA: 0s - loss: 0.1860 - acc: 0.934 - ETA: 0s - loss: 0.1891 - acc: 0.932 - ETA: 0s - loss: 0.1831 - acc: 0.933 - ETA: 0s - loss: 0.1822 - acc: 0.935 - ETA: 0s - loss: 0.1831 - acc: 0.935 - ETA: 0s - loss: 0.1832 - acc: 0.936 - ETA: 0s - loss: 0.1849 - acc: 0.934 - ETA: 0s - loss: 0.1844 - acc: 0.933 - ETA: 0s - loss: 0.1837 - acc: 0.933 - 3s 1ms/step - loss: 0.1801 - acc: 0.9344 - val_loss: 0.2823 - val_acc: 0.9130\n",
      "Epoch 23/50\n",
      "1981/1981 [==============================] - ETA: 2s - loss: 0.1521 - acc: 0.940 - ETA: 2s - loss: 0.1332 - acc: 0.950 - ETA: 1s - loss: 0.1397 - acc: 0.953 - ETA: 1s - loss: 0.1313 - acc: 0.955 - ETA: 1s - loss: 0.1333 - acc: 0.958 - ETA: 1s - loss: 0.1371 - acc: 0.955 - ETA: 1s - loss: 0.1434 - acc: 0.950 - ETA: 1s - loss: 0.1452 - acc: 0.951 - ETA: 1s - loss: 0.1385 - acc: 0.954 - ETA: 1s - loss: 0.1383 - acc: 0.954 - ETA: 1s - loss: 0.1553 - acc: 0.952 - ETA: 1s - loss: 0.1520 - acc: 0.952 - ETA: 0s - loss: 0.1531 - acc: 0.950 - ETA: 0s - loss: 0.1477 - acc: 0.951 - ETA: 0s - loss: 0.1486 - acc: 0.949 - ETA: 0s - loss: 0.1438 - acc: 0.950 - ETA: 0s - loss: 0.1475 - acc: 0.948 - ETA: 0s - loss: 0.1494 - acc: 0.949 - ETA: 0s - loss: 0.1470 - acc: 0.951 - 3s 1ms/step - loss: 0.1484 - acc: 0.9500 - val_loss: 0.2738 - val_acc: 0.9085\n",
      "Epoch 24/50\n",
      "1981/1981 [==============================] - ETA: 2s - loss: 0.0931 - acc: 0.960 - ETA: 1s - loss: 0.1901 - acc: 0.935 - ETA: 1s - loss: 0.2276 - acc: 0.923 - ETA: 1s - loss: 0.2499 - acc: 0.925 - ETA: 1s - loss: 0.2361 - acc: 0.924 - ETA: 1s - loss: 0.2311 - acc: 0.925 - ETA: 1s - loss: 0.2119 - acc: 0.930 - ETA: 1s - loss: 0.1944 - acc: 0.936 - ETA: 1s - loss: 0.1826 - acc: 0.942 - ETA: 1s - loss: 0.1871 - acc: 0.939 - ETA: 1s - loss: 0.1830 - acc: 0.938 - ETA: 0s - loss: 0.1763 - acc: 0.940 - ETA: 0s - loss: 0.1786 - acc: 0.939 - ETA: 0s - loss: 0.1739 - acc: 0.941 - ETA: 0s - loss: 0.1720 - acc: 0.942 - ETA: 0s - loss: 0.1707 - acc: 0.941 - ETA: 0s - loss: 0.1668 - acc: 0.943 - ETA: 0s - loss: 0.1627 - acc: 0.945 - ETA: 0s - loss: 0.1625 - acc: 0.945 - 3s 1ms/step - loss: 0.1616 - acc: 0.9455 - val_loss: 0.2896 - val_acc: 0.9054\n",
      "Epoch 25/50\n",
      "1981/1981 [==============================] - ETA: 1s - loss: 0.1901 - acc: 0.950 - ETA: 1s - loss: 0.1469 - acc: 0.955 - ETA: 1s - loss: 0.1220 - acc: 0.966 - ETA: 1s - loss: 0.1157 - acc: 0.967 - ETA: 1s - loss: 0.1092 - acc: 0.966 - ETA: 1s - loss: 0.1069 - acc: 0.966 - ETA: 1s - loss: 0.1011 - acc: 0.967 - ETA: 1s - loss: 0.1114 - acc: 0.960 - ETA: 1s - loss: 0.1209 - acc: 0.955 - ETA: 1s - loss: 0.1262 - acc: 0.951 - ETA: 1s - loss: 0.1254 - acc: 0.951 - ETA: 0s - loss: 0.1260 - acc: 0.951 - ETA: 0s - loss: 0.1296 - acc: 0.949 - ETA: 0s - loss: 0.1249 - acc: 0.952 - ETA: 0s - loss: 0.1277 - acc: 0.951 - ETA: 0s - loss: 0.1286 - acc: 0.951 - ETA: 0s - loss: 0.1381 - acc: 0.947 - ETA: 0s - loss: 0.1398 - acc: 0.947 - ETA: 0s - loss: 0.1403 - acc: 0.946 - 3s 1ms/step - loss: 0.1371 - acc: 0.9480 - val_loss: 0.2674 - val_acc: 0.9100\n",
      "Epoch 26/50\n",
      "1981/1981 [==============================] - ETA: 2s - loss: 0.1430 - acc: 0.970 - ETA: 2s - loss: 0.1964 - acc: 0.940 - ETA: 1s - loss: 0.1953 - acc: 0.940 - ETA: 1s - loss: 0.1911 - acc: 0.940 - ETA: 1s - loss: 0.1879 - acc: 0.938 - ETA: 1s - loss: 0.1995 - acc: 0.936 - ETA: 1s - loss: 0.1855 - acc: 0.942 - ETA: 1s - loss: 0.1773 - acc: 0.945 - ETA: 1s - loss: 0.1735 - acc: 0.947 - ETA: 1s - loss: 0.1689 - acc: 0.948 - ETA: 1s - loss: 0.1675 - acc: 0.949 - ETA: 0s - loss: 0.1584 - acc: 0.952 - ETA: 0s - loss: 0.1518 - acc: 0.954 - ETA: 0s - loss: 0.1472 - acc: 0.955 - ETA: 0s - loss: 0.1452 - acc: 0.956 - ETA: 0s - loss: 0.1432 - acc: 0.956 - ETA: 0s - loss: 0.1417 - acc: 0.956 - ETA: 0s - loss: 0.1410 - acc: 0.957 - ETA: 0s - loss: 0.1395 - acc: 0.957 - 3s 1ms/step - loss: 0.1366 - acc: 0.9586 - val_loss: 0.3132 - val_acc: 0.8994\n",
      "Epoch 27/50\n",
      "1981/1981 [==============================] - ETA: 2s - loss: 0.1209 - acc: 0.960 - ETA: 2s - loss: 0.1261 - acc: 0.950 - ETA: 2s - loss: 0.1698 - acc: 0.946 - ETA: 1s - loss: 0.1584 - acc: 0.947 - ETA: 1s - loss: 0.1391 - acc: 0.954 - ETA: 1s - loss: 0.1299 - acc: 0.955 - ETA: 1s - loss: 0.1343 - acc: 0.952 - ETA: 1s - loss: 0.1338 - acc: 0.955 - ETA: 1s - loss: 0.1303 - acc: 0.956 - ETA: 1s - loss: 0.1265 - acc: 0.958 - ETA: 1s - loss: 0.1233 - acc: 0.960 - ETA: 0s - loss: 0.1199 - acc: 0.961 - ETA: 0s - loss: 0.1225 - acc: 0.959 - ETA: 0s - loss: 0.1203 - acc: 0.957 - ETA: 0s - loss: 0.1229 - acc: 0.955 - ETA: 0s - loss: 0.1276 - acc: 0.953 - ETA: 0s - loss: 0.1269 - acc: 0.954 - ETA: 0s - loss: 0.1257 - acc: 0.955 - ETA: 0s - loss: 0.1263 - acc: 0.955 - 3s 2ms/step - loss: 0.1281 - acc: 0.9551 - val_loss: 0.2968 - val_acc: 0.9115\n",
      "Epoch 28/50\n"
     ]
    },
    {
     "name": "stdout",
     "output_type": "stream",
     "text": [
      "1981/1981 [==============================] - ETA: 2s - loss: 0.0640 - acc: 0.990 - ETA: 2s - loss: 0.0995 - acc: 0.970 - ETA: 2s - loss: 0.1261 - acc: 0.953 - ETA: 1s - loss: 0.1193 - acc: 0.957 - ETA: 1s - loss: 0.1263 - acc: 0.962 - ETA: 1s - loss: 0.1392 - acc: 0.960 - ETA: 1s - loss: 0.1437 - acc: 0.954 - ETA: 1s - loss: 0.1439 - acc: 0.950 - ETA: 1s - loss: 0.1436 - acc: 0.948 - ETA: 1s - loss: 0.1400 - acc: 0.949 - ETA: 1s - loss: 0.1355 - acc: 0.952 - ETA: 0s - loss: 0.1327 - acc: 0.953 - ETA: 0s - loss: 0.1325 - acc: 0.953 - ETA: 0s - loss: 0.1286 - acc: 0.954 - ETA: 0s - loss: 0.1316 - acc: 0.952 - ETA: 0s - loss: 0.1306 - acc: 0.951 - ETA: 0s - loss: 0.1293 - acc: 0.952 - ETA: 0s - loss: 0.1308 - acc: 0.952 - ETA: 0s - loss: 0.1309 - acc: 0.952 - 3s 1ms/step - loss: 0.1299 - acc: 0.9520 - val_loss: 0.2938 - val_acc: 0.9085\n",
      "Epoch 29/50\n",
      "1981/1981 [==============================] - ETA: 2s - loss: 0.1128 - acc: 0.960 - ETA: 2s - loss: 0.1244 - acc: 0.960 - ETA: 1s - loss: 0.1210 - acc: 0.963 - ETA: 1s - loss: 0.1171 - acc: 0.967 - ETA: 1s - loss: 0.1053 - acc: 0.972 - ETA: 1s - loss: 0.1047 - acc: 0.968 - ETA: 1s - loss: 0.1115 - acc: 0.967 - ETA: 1s - loss: 0.1102 - acc: 0.968 - ETA: 1s - loss: 0.1185 - acc: 0.966 - ETA: 1s - loss: 0.1364 - acc: 0.962 - ETA: 1s - loss: 0.1381 - acc: 0.961 - ETA: 0s - loss: 0.1413 - acc: 0.963 - ETA: 0s - loss: 0.1344 - acc: 0.964 - ETA: 0s - loss: 0.1274 - acc: 0.966 - ETA: 0s - loss: 0.1281 - acc: 0.964 - ETA: 0s - loss: 0.1277 - acc: 0.963 - ETA: 0s - loss: 0.1254 - acc: 0.964 - ETA: 0s - loss: 0.1289 - acc: 0.963 - ETA: 0s - loss: 0.1301 - acc: 0.962 - 3s 1ms/step - loss: 0.1261 - acc: 0.9637 - val_loss: 0.2999 - val_acc: 0.9123\n",
      "Epoch 30/50\n",
      "1981/1981 [==============================] - ETA: 1s - loss: 0.1019 - acc: 0.970 - ETA: 1s - loss: 0.0970 - acc: 0.975 - ETA: 1s - loss: 0.0724 - acc: 0.983 - ETA: 1s - loss: 0.0747 - acc: 0.975 - ETA: 1s - loss: 0.0734 - acc: 0.976 - ETA: 1s - loss: 0.0746 - acc: 0.975 - ETA: 1s - loss: 0.0800 - acc: 0.971 - ETA: 1s - loss: 0.0878 - acc: 0.970 - ETA: 1s - loss: 0.0880 - acc: 0.970 - ETA: 0s - loss: 0.0879 - acc: 0.969 - ETA: 0s - loss: 0.0957 - acc: 0.966 - ETA: 0s - loss: 0.0979 - acc: 0.965 - ETA: 0s - loss: 0.1002 - acc: 0.963 - ETA: 0s - loss: 0.0994 - acc: 0.962 - ETA: 0s - loss: 0.0995 - acc: 0.963 - ETA: 0s - loss: 0.1004 - acc: 0.962 - ETA: 0s - loss: 0.1062 - acc: 0.960 - ETA: 0s - loss: 0.1050 - acc: 0.960 - ETA: 0s - loss: 0.1047 - acc: 0.961 - 2s 1ms/step - loss: 0.1075 - acc: 0.9611 - val_loss: 0.2939 - val_acc: 0.9107\n",
      "Epoch 31/50\n",
      "1981/1981 [==============================] - ETA: 1s - loss: 0.0538 - acc: 0.990 - ETA: 1s - loss: 0.0707 - acc: 0.980 - ETA: 1s - loss: 0.0793 - acc: 0.973 - ETA: 1s - loss: 0.0874 - acc: 0.972 - ETA: 1s - loss: 0.0810 - acc: 0.976 - ETA: 1s - loss: 0.1100 - acc: 0.970 - ETA: 1s - loss: 0.1061 - acc: 0.967 - ETA: 1s - loss: 0.1109 - acc: 0.963 - ETA: 1s - loss: 0.1063 - acc: 0.964 - ETA: 1s - loss: 0.1092 - acc: 0.964 - ETA: 0s - loss: 0.1124 - acc: 0.963 - ETA: 0s - loss: 0.1109 - acc: 0.965 - ETA: 0s - loss: 0.1131 - acc: 0.965 - ETA: 0s - loss: 0.1117 - acc: 0.966 - ETA: 0s - loss: 0.1059 - acc: 0.968 - ETA: 0s - loss: 0.1011 - acc: 0.969 - ETA: 0s - loss: 0.1016 - acc: 0.969 - ETA: 0s - loss: 0.1015 - acc: 0.968 - ETA: 0s - loss: 0.1026 - acc: 0.966 - 2s 1ms/step - loss: 0.1049 - acc: 0.9657 - val_loss: 0.2974 - val_acc: 0.9085\n",
      "Epoch 32/50\n",
      "1981/1981 [==============================] - ETA: 1s - loss: 0.0797 - acc: 0.970 - ETA: 1s - loss: 0.1181 - acc: 0.960 - ETA: 1s - loss: 0.1094 - acc: 0.963 - ETA: 1s - loss: 0.1067 - acc: 0.965 - ETA: 1s - loss: 0.1004 - acc: 0.968 - ETA: 1s - loss: 0.0995 - acc: 0.965 - ETA: 1s - loss: 0.0959 - acc: 0.967 - ETA: 1s - loss: 0.0973 - acc: 0.967 - ETA: 1s - loss: 0.0932 - acc: 0.968 - ETA: 0s - loss: 0.1021 - acc: 0.967 - ETA: 0s - loss: 0.1036 - acc: 0.967 - ETA: 0s - loss: 0.1052 - acc: 0.965 - ETA: 0s - loss: 0.1030 - acc: 0.964 - ETA: 0s - loss: 0.1044 - acc: 0.965 - ETA: 0s - loss: 0.1073 - acc: 0.964 - ETA: 0s - loss: 0.1059 - acc: 0.965 - ETA: 0s - loss: 0.1072 - acc: 0.964 - ETA: 0s - loss: 0.1026 - acc: 0.966 - ETA: 0s - loss: 0.1055 - acc: 0.964 - 2s 1ms/step - loss: 0.1055 - acc: 0.9637 - val_loss: 0.3221 - val_acc: 0.9115\n",
      "Epoch 33/50\n",
      "1981/1981 [==============================] - ETA: 1s - loss: 0.1501 - acc: 0.950 - ETA: 1s - loss: 0.1199 - acc: 0.965 - ETA: 1s - loss: 0.0955 - acc: 0.970 - ETA: 1s - loss: 0.0808 - acc: 0.972 - ETA: 1s - loss: 0.0836 - acc: 0.972 - ETA: 1s - loss: 0.0897 - acc: 0.968 - ETA: 1s - loss: 0.0900 - acc: 0.967 - ETA: 1s - loss: 0.0909 - acc: 0.965 - ETA: 1s - loss: 0.0891 - acc: 0.965 - ETA: 1s - loss: 0.0908 - acc: 0.966 - ETA: 1s - loss: 0.0941 - acc: 0.964 - ETA: 1s - loss: 0.0939 - acc: 0.965 - ETA: 0s - loss: 0.0942 - acc: 0.966 - ETA: 0s - loss: 0.0975 - acc: 0.965 - ETA: 0s - loss: 0.0966 - acc: 0.965 - ETA: 0s - loss: 0.0965 - acc: 0.965 - ETA: 0s - loss: 0.0969 - acc: 0.965 - ETA: 0s - loss: 0.0981 - acc: 0.965 - ETA: 0s - loss: 0.0972 - acc: 0.965 - 3s 2ms/step - loss: 0.0961 - acc: 0.9662 - val_loss: 0.3337 - val_acc: 0.9115\n",
      "Epoch 34/50\n",
      "1981/1981 [==============================] - ETA: 2s - loss: 0.0578 - acc: 0.990 - ETA: 2s - loss: 0.0836 - acc: 0.980 - ETA: 2s - loss: 0.0880 - acc: 0.976 - ETA: 2s - loss: 0.0857 - acc: 0.975 - ETA: 2s - loss: 0.0838 - acc: 0.974 - ETA: 1s - loss: 0.0925 - acc: 0.973 - ETA: 1s - loss: 0.1007 - acc: 0.968 - ETA: 1s - loss: 0.0942 - acc: 0.970 - ETA: 1s - loss: 0.0930 - acc: 0.968 - ETA: 1s - loss: 0.0995 - acc: 0.966 - ETA: 1s - loss: 0.1000 - acc: 0.965 - ETA: 1s - loss: 0.0961 - acc: 0.967 - ETA: 0s - loss: 0.0934 - acc: 0.969 - ETA: 0s - loss: 0.0905 - acc: 0.970 - ETA: 0s - loss: 0.0936 - acc: 0.968 - ETA: 0s - loss: 0.0927 - acc: 0.970 - ETA: 0s - loss: 0.0940 - acc: 0.969 - ETA: 0s - loss: 0.0970 - acc: 0.968 - ETA: 0s - loss: 0.0955 - acc: 0.968 - 3s 1ms/step - loss: 0.0932 - acc: 0.9697 - val_loss: 0.3407 - val_acc: 0.9047\n",
      "Epoch 35/50\n",
      "1981/1981 [==============================] - ETA: 1s - loss: 0.0815 - acc: 0.980 - ETA: 1s - loss: 0.0892 - acc: 0.980 - ETA: 1s - loss: 0.0693 - acc: 0.986 - ETA: 1s - loss: 0.0605 - acc: 0.990 - ETA: 1s - loss: 0.0585 - acc: 0.990 - ETA: 1s - loss: 0.0595 - acc: 0.988 - ETA: 1s - loss: 0.0685 - acc: 0.985 - ETA: 1s - loss: 0.0715 - acc: 0.982 - ETA: 1s - loss: 0.0758 - acc: 0.978 - ETA: 1s - loss: 0.0761 - acc: 0.976 - ETA: 0s - loss: 0.0745 - acc: 0.975 - ETA: 0s - loss: 0.0711 - acc: 0.977 - ETA: 0s - loss: 0.0758 - acc: 0.975 - ETA: 0s - loss: 0.0718 - acc: 0.977 - ETA: 0s - loss: 0.0689 - acc: 0.978 - ETA: 0s - loss: 0.0711 - acc: 0.978 - ETA: 0s - loss: 0.0730 - acc: 0.976 - ETA: 0s - loss: 0.0738 - acc: 0.975 - ETA: 0s - loss: 0.0757 - acc: 0.974 - 2s 1ms/step - loss: 0.0753 - acc: 0.9748 - val_loss: 0.3267 - val_acc: 0.9092\n",
      "Epoch 36/50\n",
      "1981/1981 [==============================] - ETA: 1s - loss: 0.0813 - acc: 0.990 - ETA: 1s - loss: 0.1010 - acc: 0.985 - ETA: 1s - loss: 0.0811 - acc: 0.986 - ETA: 1s - loss: 0.0739 - acc: 0.985 - ETA: 1s - loss: 0.0803 - acc: 0.982 - ETA: 1s - loss: 0.0760 - acc: 0.985 - ETA: 1s - loss: 0.0689 - acc: 0.985 - ETA: 1s - loss: 0.0645 - acc: 0.986 - ETA: 1s - loss: 0.0635 - acc: 0.985 - ETA: 1s - loss: 0.0708 - acc: 0.984 - ETA: 0s - loss: 0.0800 - acc: 0.977 - ETA: 0s - loss: 0.0841 - acc: 0.975 - ETA: 0s - loss: 0.0829 - acc: 0.974 - ETA: 0s - loss: 0.0861 - acc: 0.973 - ETA: 0s - loss: 0.0832 - acc: 0.974 - ETA: 0s - loss: 0.0808 - acc: 0.975 - ETA: 0s - loss: 0.0819 - acc: 0.974 - ETA: 0s - loss: 0.0846 - acc: 0.973 - ETA: 0s - loss: 0.0823 - acc: 0.974 - 3s 1ms/step - loss: 0.0838 - acc: 0.9743 - val_loss: 0.3107 - val_acc: 0.9130\n",
      "Epoch 37/50\n"
     ]
    },
    {
     "name": "stdout",
     "output_type": "stream",
     "text": [
      "1981/1981 [==============================] - ETA: 2s - loss: 0.0315 - acc: 0.990 - ETA: 1s - loss: 0.0338 - acc: 0.990 - ETA: 1s - loss: 0.0242 - acc: 0.993 - ETA: 1s - loss: 0.0449 - acc: 0.985 - ETA: 1s - loss: 0.0409 - acc: 0.988 - ETA: 1s - loss: 0.0471 - acc: 0.986 - ETA: 1s - loss: 0.0510 - acc: 0.985 - ETA: 1s - loss: 0.0658 - acc: 0.980 - ETA: 1s - loss: 0.0701 - acc: 0.976 - ETA: 1s - loss: 0.0739 - acc: 0.975 - ETA: 1s - loss: 0.0719 - acc: 0.976 - ETA: 0s - loss: 0.0751 - acc: 0.975 - ETA: 0s - loss: 0.0757 - acc: 0.974 - ETA: 0s - loss: 0.0775 - acc: 0.972 - ETA: 0s - loss: 0.0799 - acc: 0.972 - ETA: 0s - loss: 0.0778 - acc: 0.973 - ETA: 0s - loss: 0.0755 - acc: 0.974 - ETA: 0s - loss: 0.0730 - acc: 0.975 - ETA: 0s - loss: 0.0710 - acc: 0.975 - 3s 1ms/step - loss: 0.0694 - acc: 0.9758 - val_loss: 0.3243 - val_acc: 0.9123\n",
      "Epoch 38/50\n",
      "1981/1981 [==============================] - ETA: 2s - loss: 0.0760 - acc: 0.980 - ETA: 2s - loss: 0.0947 - acc: 0.970 - ETA: 1s - loss: 0.0776 - acc: 0.976 - ETA: 1s - loss: 0.0696 - acc: 0.980 - ETA: 1s - loss: 0.0684 - acc: 0.982 - ETA: 1s - loss: 0.0750 - acc: 0.978 - ETA: 1s - loss: 0.0680 - acc: 0.980 - ETA: 1s - loss: 0.0703 - acc: 0.976 - ETA: 1s - loss: 0.0688 - acc: 0.976 - ETA: 1s - loss: 0.0692 - acc: 0.976 - ETA: 0s - loss: 0.0665 - acc: 0.977 - ETA: 0s - loss: 0.0682 - acc: 0.975 - ETA: 0s - loss: 0.0713 - acc: 0.974 - ETA: 0s - loss: 0.0690 - acc: 0.975 - ETA: 0s - loss: 0.0672 - acc: 0.976 - ETA: 0s - loss: 0.0698 - acc: 0.975 - ETA: 0s - loss: 0.0701 - acc: 0.974 - ETA: 0s - loss: 0.0701 - acc: 0.973 - ETA: 0s - loss: 0.0708 - acc: 0.973 - 2s 1ms/step - loss: 0.0696 - acc: 0.9743 - val_loss: 0.3565 - val_acc: 0.9123\n",
      "Epoch 39/50\n",
      "1981/1981 [==============================] - ETA: 1s - loss: 0.0963 - acc: 0.960 - ETA: 1s - loss: 0.0602 - acc: 0.975 - ETA: 1s - loss: 0.0572 - acc: 0.976 - ETA: 1s - loss: 0.0710 - acc: 0.972 - ETA: 1s - loss: 0.0721 - acc: 0.970 - ETA: 1s - loss: 0.0663 - acc: 0.971 - ETA: 1s - loss: 0.0615 - acc: 0.972 - ETA: 1s - loss: 0.0600 - acc: 0.973 - ETA: 1s - loss: 0.0616 - acc: 0.973 - ETA: 0s - loss: 0.0612 - acc: 0.975 - ETA: 0s - loss: 0.0605 - acc: 0.975 - ETA: 0s - loss: 0.0627 - acc: 0.975 - ETA: 0s - loss: 0.0646 - acc: 0.974 - ETA: 0s - loss: 0.0617 - acc: 0.976 - ETA: 0s - loss: 0.0610 - acc: 0.976 - ETA: 0s - loss: 0.0610 - acc: 0.976 - ETA: 0s - loss: 0.0582 - acc: 0.978 - ETA: 0s - loss: 0.0600 - acc: 0.977 - ETA: 0s - loss: 0.0582 - acc: 0.978 - 2s 1ms/step - loss: 0.0590 - acc: 0.9793 - val_loss: 0.3709 - val_acc: 0.9107\n",
      "Epoch 40/50\n",
      "1981/1981 [==============================] - ETA: 1s - loss: 0.0621 - acc: 0.960 - ETA: 1s - loss: 0.0454 - acc: 0.975 - ETA: 1s - loss: 0.0651 - acc: 0.976 - ETA: 1s - loss: 0.0568 - acc: 0.980 - ETA: 1s - loss: 0.0494 - acc: 0.984 - ETA: 1s - loss: 0.0558 - acc: 0.980 - ETA: 1s - loss: 0.0544 - acc: 0.980 - ETA: 1s - loss: 0.0592 - acc: 0.977 - ETA: 1s - loss: 0.0624 - acc: 0.975 - ETA: 0s - loss: 0.0599 - acc: 0.977 - ETA: 0s - loss: 0.0764 - acc: 0.972 - ETA: 0s - loss: 0.0723 - acc: 0.975 - ETA: 0s - loss: 0.0700 - acc: 0.976 - ETA: 0s - loss: 0.0747 - acc: 0.974 - ETA: 0s - loss: 0.0712 - acc: 0.976 - ETA: 0s - loss: 0.0690 - acc: 0.976 - ETA: 0s - loss: 0.0669 - acc: 0.977 - ETA: 0s - loss: 0.0665 - acc: 0.977 - ETA: 0s - loss: 0.0662 - acc: 0.977 - 2s 1ms/step - loss: 0.0667 - acc: 0.9778 - val_loss: 0.3618 - val_acc: 0.9077\n",
      "Epoch 41/50\n",
      "1981/1981 [==============================] - ETA: 2s - loss: 0.0827 - acc: 0.990 - ETA: 1s - loss: 0.0723 - acc: 0.990 - ETA: 1s - loss: 0.0625 - acc: 0.990 - ETA: 1s - loss: 0.0547 - acc: 0.990 - ETA: 1s - loss: 0.0662 - acc: 0.984 - ETA: 1s - loss: 0.0629 - acc: 0.985 - ETA: 1s - loss: 0.0697 - acc: 0.982 - ETA: 1s - loss: 0.0760 - acc: 0.980 - ETA: 1s - loss: 0.0685 - acc: 0.982 - ETA: 1s - loss: 0.0663 - acc: 0.983 - ETA: 1s - loss: 0.0674 - acc: 0.982 - ETA: 0s - loss: 0.0660 - acc: 0.982 - ETA: 0s - loss: 0.0629 - acc: 0.983 - ETA: 0s - loss: 0.0598 - acc: 0.984 - ETA: 0s - loss: 0.0585 - acc: 0.984 - ETA: 0s - loss: 0.0571 - acc: 0.984 - ETA: 0s - loss: 0.0595 - acc: 0.984 - ETA: 0s - loss: 0.0584 - acc: 0.983 - ETA: 0s - loss: 0.0575 - acc: 0.984 - 3s 1ms/step - loss: 0.0566 - acc: 0.9844 - val_loss: 0.3601 - val_acc: 0.9153\n",
      "Epoch 42/50\n",
      "1981/1981 [==============================] - ETA: 1s - loss: 0.0451 - acc: 0.990 - ETA: 1s - loss: 0.0357 - acc: 0.990 - ETA: 1s - loss: 0.0838 - acc: 0.970 - ETA: 1s - loss: 0.0937 - acc: 0.967 - ETA: 1s - loss: 0.0801 - acc: 0.972 - ETA: 1s - loss: 0.0755 - acc: 0.971 - ETA: 1s - loss: 0.0687 - acc: 0.974 - ETA: 1s - loss: 0.0684 - acc: 0.975 - ETA: 1s - loss: 0.0706 - acc: 0.975 - ETA: 1s - loss: 0.0752 - acc: 0.973 - ETA: 1s - loss: 0.0766 - acc: 0.970 - ETA: 0s - loss: 0.0719 - acc: 0.972 - ETA: 0s - loss: 0.0706 - acc: 0.973 - ETA: 0s - loss: 0.0686 - acc: 0.974 - ETA: 0s - loss: 0.0729 - acc: 0.973 - ETA: 0s - loss: 0.0706 - acc: 0.974 - ETA: 0s - loss: 0.0708 - acc: 0.974 - ETA: 0s - loss: 0.0682 - acc: 0.975 - ETA: 0s - loss: 0.0657 - acc: 0.976 - 3s 1ms/step - loss: 0.0649 - acc: 0.9768 - val_loss: 0.3701 - val_acc: 0.9092\n",
      "Epoch 43/50\n",
      "1981/1981 [==============================] - ETA: 2s - loss: 0.0408 - acc: 0.990 - ETA: 2s - loss: 0.0537 - acc: 0.985 - ETA: 1s - loss: 0.0603 - acc: 0.983 - ETA: 1s - loss: 0.0686 - acc: 0.980 - ETA: 1s - loss: 0.0801 - acc: 0.972 - ETA: 1s - loss: 0.0765 - acc: 0.973 - ETA: 1s - loss: 0.0720 - acc: 0.972 - ETA: 1s - loss: 0.0803 - acc: 0.973 - ETA: 1s - loss: 0.0842 - acc: 0.974 - ETA: 1s - loss: 0.0846 - acc: 0.974 - ETA: 0s - loss: 0.0842 - acc: 0.973 - ETA: 0s - loss: 0.0862 - acc: 0.973 - ETA: 0s - loss: 0.0849 - acc: 0.973 - ETA: 0s - loss: 0.0933 - acc: 0.970 - ETA: 0s - loss: 0.0907 - acc: 0.971 - ETA: 0s - loss: 0.0911 - acc: 0.971 - ETA: 0s - loss: 0.0896 - acc: 0.971 - ETA: 0s - loss: 0.0872 - acc: 0.971 - ETA: 0s - loss: 0.0830 - acc: 0.973 - 3s 1ms/step - loss: 0.0803 - acc: 0.9743 - val_loss: 0.3523 - val_acc: 0.9100\n",
      "Epoch 44/50\n",
      "1981/1981 [==============================] - ETA: 2s - loss: 0.0188 - acc: 0.990 - ETA: 1s - loss: 0.0580 - acc: 0.975 - ETA: 1s - loss: 0.0836 - acc: 0.966 - ETA: 1s - loss: 0.0667 - acc: 0.975 - ETA: 1s - loss: 0.0712 - acc: 0.972 - ETA: 1s - loss: 0.0631 - acc: 0.976 - ETA: 1s - loss: 0.0679 - acc: 0.975 - ETA: 1s - loss: 0.0647 - acc: 0.976 - ETA: 1s - loss: 0.0633 - acc: 0.976 - ETA: 1s - loss: 0.0624 - acc: 0.976 - ETA: 1s - loss: 0.0641 - acc: 0.975 - ETA: 0s - loss: 0.0624 - acc: 0.976 - ETA: 0s - loss: 0.0594 - acc: 0.978 - ETA: 0s - loss: 0.0564 - acc: 0.980 - ETA: 0s - loss: 0.0556 - acc: 0.980 - ETA: 0s - loss: 0.0563 - acc: 0.980 - ETA: 0s - loss: 0.0562 - acc: 0.980 - ETA: 0s - loss: 0.0564 - acc: 0.980 - ETA: 0s - loss: 0.0550 - acc: 0.980 - 3s 1ms/step - loss: 0.0535 - acc: 0.9808 - val_loss: 0.3705 - val_acc: 0.9130\n",
      "Epoch 45/50\n",
      "1981/1981 [==============================] - ETA: 1s - loss: 0.0129 - acc: 1.000 - ETA: 1s - loss: 0.0231 - acc: 0.990 - ETA: 1s - loss: 0.0344 - acc: 0.986 - ETA: 1s - loss: 0.0304 - acc: 0.990 - ETA: 1s - loss: 0.0273 - acc: 0.992 - ETA: 1s - loss: 0.0334 - acc: 0.990 - ETA: 1s - loss: 0.0394 - acc: 0.988 - ETA: 1s - loss: 0.0386 - acc: 0.988 - ETA: 1s - loss: 0.0382 - acc: 0.988 - ETA: 1s - loss: 0.0393 - acc: 0.988 - ETA: 0s - loss: 0.0375 - acc: 0.989 - ETA: 0s - loss: 0.0366 - acc: 0.990 - ETA: 0s - loss: 0.0373 - acc: 0.989 - ETA: 0s - loss: 0.0420 - acc: 0.987 - ETA: 0s - loss: 0.0418 - acc: 0.988 - ETA: 0s - loss: 0.0445 - acc: 0.986 - ETA: 0s - loss: 0.0450 - acc: 0.985 - ETA: 0s - loss: 0.0441 - acc: 0.985 - ETA: 0s - loss: 0.0431 - acc: 0.985 - 3s 1ms/step - loss: 0.0420 - acc: 0.9864 - val_loss: 0.3850 - val_acc: 0.9107\n",
      "Epoch 46/50\n"
     ]
    },
    {
     "name": "stdout",
     "output_type": "stream",
     "text": [
      "1981/1981 [==============================] - ETA: 1s - loss: 0.1072 - acc: 0.980 - ETA: 1s - loss: 0.0749 - acc: 0.980 - ETA: 1s - loss: 0.1023 - acc: 0.970 - ETA: 1s - loss: 0.1241 - acc: 0.965 - ETA: 1s - loss: 0.1080 - acc: 0.970 - ETA: 1s - loss: 0.1017 - acc: 0.971 - ETA: 1s - loss: 0.0919 - acc: 0.974 - ETA: 1s - loss: 0.0874 - acc: 0.975 - ETA: 1s - loss: 0.0816 - acc: 0.975 - ETA: 0s - loss: 0.0804 - acc: 0.976 - ETA: 0s - loss: 0.0783 - acc: 0.976 - ETA: 0s - loss: 0.0757 - acc: 0.977 - ETA: 0s - loss: 0.0765 - acc: 0.977 - ETA: 0s - loss: 0.0763 - acc: 0.977 - ETA: 0s - loss: 0.0724 - acc: 0.979 - ETA: 0s - loss: 0.0743 - acc: 0.979 - ETA: 0s - loss: 0.0765 - acc: 0.978 - ETA: 0s - loss: 0.0763 - acc: 0.978 - ETA: 0s - loss: 0.0750 - acc: 0.978 - 2s 1ms/step - loss: 0.0726 - acc: 0.9793 - val_loss: 0.3599 - val_acc: 0.9115\n",
      "Epoch 47/50\n",
      "1981/1981 [==============================] - ETA: 1s - loss: 0.1101 - acc: 0.970 - ETA: 1s - loss: 0.0665 - acc: 0.985 - ETA: 1s - loss: 0.0525 - acc: 0.986 - ETA: 1s - loss: 0.0447 - acc: 0.990 - ETA: 1s - loss: 0.0580 - acc: 0.984 - ETA: 1s - loss: 0.0509 - acc: 0.986 - ETA: 1s - loss: 0.0514 - acc: 0.985 - ETA: 1s - loss: 0.0500 - acc: 0.985 - ETA: 1s - loss: 0.0505 - acc: 0.984 - ETA: 0s - loss: 0.0474 - acc: 0.986 - ETA: 0s - loss: 0.0450 - acc: 0.987 - ETA: 0s - loss: 0.0485 - acc: 0.986 - ETA: 0s - loss: 0.0484 - acc: 0.986 - ETA: 0s - loss: 0.0498 - acc: 0.985 - ETA: 0s - loss: 0.0515 - acc: 0.985 - ETA: 0s - loss: 0.0521 - acc: 0.985 - ETA: 0s - loss: 0.0515 - acc: 0.985 - ETA: 0s - loss: 0.0535 - acc: 0.985 - ETA: 0s - loss: 0.0540 - acc: 0.984 - 2s 1ms/step - loss: 0.0530 - acc: 0.9854 - val_loss: 0.3580 - val_acc: 0.9077\n",
      "Epoch 48/50\n",
      "1981/1981 [==============================] - ETA: 1s - loss: 0.0413 - acc: 0.990 - ETA: 1s - loss: 0.0374 - acc: 0.990 - ETA: 1s - loss: 0.0390 - acc: 0.986 - ETA: 1s - loss: 0.0502 - acc: 0.980 - ETA: 1s - loss: 0.0465 - acc: 0.982 - ETA: 1s - loss: 0.0585 - acc: 0.978 - ETA: 1s - loss: 0.0612 - acc: 0.975 - ETA: 1s - loss: 0.0643 - acc: 0.973 - ETA: 1s - loss: 0.0616 - acc: 0.974 - ETA: 0s - loss: 0.0583 - acc: 0.976 - ETA: 0s - loss: 0.0596 - acc: 0.976 - ETA: 0s - loss: 0.0603 - acc: 0.976 - ETA: 0s - loss: 0.0569 - acc: 0.978 - ETA: 0s - loss: 0.0550 - acc: 0.980 - ETA: 0s - loss: 0.0548 - acc: 0.980 - ETA: 0s - loss: 0.0533 - acc: 0.980 - ETA: 0s - loss: 0.0519 - acc: 0.980 - ETA: 0s - loss: 0.0513 - acc: 0.980 - ETA: 0s - loss: 0.0502 - acc: 0.980 - 2s 1ms/step - loss: 0.0493 - acc: 0.9808 - val_loss: 0.3758 - val_acc: 0.9123\n",
      "Epoch 49/50\n",
      "1981/1981 [==============================] - ETA: 1s - loss: 0.0304 - acc: 0.980 - ETA: 1s - loss: 0.0213 - acc: 0.990 - ETA: 1s - loss: 0.0212 - acc: 0.990 - ETA: 1s - loss: 0.0227 - acc: 0.990 - ETA: 1s - loss: 0.0284 - acc: 0.990 - ETA: 1s - loss: 0.0271 - acc: 0.990 - ETA: 1s - loss: 0.0316 - acc: 0.988 - ETA: 1s - loss: 0.0329 - acc: 0.987 - ETA: 1s - loss: 0.0325 - acc: 0.988 - ETA: 0s - loss: 0.0317 - acc: 0.989 - ETA: 0s - loss: 0.0316 - acc: 0.989 - ETA: 0s - loss: 0.0342 - acc: 0.989 - ETA: 0s - loss: 0.0323 - acc: 0.990 - ETA: 0s - loss: 0.0368 - acc: 0.988 - ETA: 0s - loss: 0.0381 - acc: 0.986 - ETA: 0s - loss: 0.0372 - acc: 0.987 - ETA: 0s - loss: 0.0357 - acc: 0.987 - ETA: 0s - loss: 0.0360 - acc: 0.987 - ETA: 0s - loss: 0.0351 - acc: 0.987 - 2s 1ms/step - loss: 0.0345 - acc: 0.9879 - val_loss: 0.3813 - val_acc: 0.9107\n",
      "Epoch 50/50\n",
      "1981/1981 [==============================] - ETA: 1s - loss: 0.0508 - acc: 0.990 - ETA: 1s - loss: 0.0289 - acc: 0.995 - ETA: 1s - loss: 0.0455 - acc: 0.990 - ETA: 1s - loss: 0.0410 - acc: 0.990 - ETA: 1s - loss: 0.0376 - acc: 0.990 - ETA: 1s - loss: 0.0456 - acc: 0.986 - ETA: 1s - loss: 0.0458 - acc: 0.987 - ETA: 1s - loss: 0.0470 - acc: 0.985 - ETA: 1s - loss: 0.0434 - acc: 0.986 - ETA: 0s - loss: 0.0408 - acc: 0.988 - ETA: 0s - loss: 0.0444 - acc: 0.988 - ETA: 0s - loss: 0.0441 - acc: 0.989 - ETA: 0s - loss: 0.0421 - acc: 0.990 - ETA: 0s - loss: 0.0425 - acc: 0.989 - ETA: 0s - loss: 0.0438 - acc: 0.988 - ETA: 0s - loss: 0.0440 - acc: 0.988 - ETA: 0s - loss: 0.0419 - acc: 0.989 - ETA: 0s - loss: 0.0406 - acc: 0.990 - ETA: 0s - loss: 0.0416 - acc: 0.989 - 2s 1ms/step - loss: 0.0403 - acc: 0.9899 - val_loss: 0.3788 - val_acc: 0.9085\n"
     ]
    }
   ],
   "source": [
    "model = get_model()\n",
    "history = model.fit(X_train, y_train_hot, batch_size=batch_size, epochs=epochs, verbose=verbose, validation_data=(X_test, y_test_hot))"
   ]
  },
  {
   "cell_type": "markdown",
   "metadata": {},
   "source": [
    "## Export current model:"
   ]
  },
  {
   "cell_type": "code",
   "execution_count": 14,
   "metadata": {},
   "outputs": [
    {
     "name": "stdout",
     "output_type": "stream",
     "text": [
      "Exported to folder ./models/20181212_21-50-26\n"
     ]
    }
   ],
   "source": [
    "#export_model(model)\n",
    "\n",
    "y_predicted = model.predict_classes(X_test, batch_size=batch_size)\n",
    "y_true_val = np.argmax(y_test_hot,axis=1)\n",
    "\n",
    "class_rep = classification_report(y_true_val,y_predicted,digits=5)\n",
    "\n",
    "settings = {\n",
    "    \"feature_dim_1\": feature_dim_1,\n",
    "    \"feature_dim_2\": feature_dim_2,\n",
    "    \"channel\": channel,\n",
    "    \"epochs\": epochs,\n",
    "    \"batch_size\": batch_size,\n",
    "    \"train_accuracy\": str(history.history.get('acc')[-1]),\n",
    "    \"test_accuracy\": str(history.history.get('val_acc')[-1]),\n",
    "    \"train_loss\": str(history.history.get('loss')[-1]),\n",
    "    \"test_loss\": str(history.history.get('val_loss')[-1]),\n",
    "    \"classification_report\": class_rep,\n",
    "}\n",
    "\n",
    "print(export_model(model, settings))"
   ]
  },
  {
   "cell_type": "markdown",
   "metadata": {},
   "source": [
    "## Import a model:"
   ]
  },
  {
   "cell_type": "code",
   "execution_count": null,
   "metadata": {},
   "outputs": [],
   "source": [
    "# import_model(PATH)\n",
    "imported_model = import_model(\"./models/xxx\")"
   ]
  },
  {
   "cell_type": "markdown",
   "metadata": {},
   "source": [
    "## Predict on a new file:"
   ]
  },
  {
   "cell_type": "code",
   "execution_count": null,
   "metadata": {
    "scrolled": false
   },
   "outputs": [],
   "source": [
    "print(predict('./test_audio/12.wav', model=model))"
   ]
  },
  {
   "cell_type": "markdown",
   "metadata": {},
   "source": [
    "## Predict on a folder:"
   ]
  },
  {
   "cell_type": "code",
   "execution_count": 27,
   "metadata": {},
   "outputs": [
    {
     "name": "stdout",
     "output_type": "stream",
     "text": [
      "1.wav was predicted as: 11\n",
      "10.wav was predicted as: 10\n",
      "11.wav was predicted as: 11\n",
      "12.wav was predicted as: 3\n",
      "2.wav was predicted as: 2\n",
      "3.wav was predicted as: 3\n",
      "4.wav was predicted as: 4\n",
      "5.wav was predicted as: 5\n",
      "6.wav was predicted as: 2\n",
      "7.wav was predicted as: 7\n",
      "8.wav was predicted as: 8\n",
      "9.wav was predicted as: 9\n"
     ]
    }
   ],
   "source": [
    "FOLDER_PATH = './test_audio/'\n",
    "\n",
    "for filename in os.listdir(FOLDER_PATH):\n",
    "    pred = predict(FOLDER_PATH + filename, model=model)\n",
    "    print(filename + \" was predicted as: \" + pred)"
   ]
  },
  {
   "cell_type": "markdown",
   "metadata": {},
   "source": [
    "## Accuracy / Loss"
   ]
  },
  {
   "cell_type": "code",
   "execution_count": 23,
   "metadata": {
    "scrolled": false
   },
   "outputs": [
    {
     "data": {
      "image/png": "[encoded data removed]",
      "text/plain": [
       "<Figure size 432x288 with 1 Axes>"
      ]
     },
     "metadata": {
      "needs_background": "light"
     },
     "output_type": "display_data"
    },
    {
     "data": {
      "image/png": "[encoded data removed]",
      "text/plain": [
       "<Figure size 432x288 with 1 Axes>"
      ]
     },
     "metadata": {
      "needs_background": "light"
     },
     "output_type": "display_data"
    }
   ],
   "source": [
    "#Accuracy plot\n",
    "plt.plot(history.history['acc'])\n",
    "plt.plot(history.history['val_acc'])\n",
    "plt.title('model accuracy')\n",
    "plt.ylabel('accuracy')\n",
    "plt.xlabel('epoch')\n",
    "plt.legend(['train', 'test'], loc='upper left')\n",
    "plt.show()\n",
    "\n",
    "#Loss plot\n",
    "plt.plot(history.history['loss'])\n",
    "plt.plot(history.history['val_loss'])\n",
    "plt.title('model loss')\n",
    "plt.ylabel('loss')\n",
    "plt.xlabel('epoch')\n",
    "plt.legend(['train', 'test'], loc='upper left')\n",
    "plt.show()"
   ]
  },
  {
   "cell_type": "markdown",
   "metadata": {},
   "source": [
    "## Full report with confusion matrix:"
   ]
  },
  {
   "cell_type": "code",
   "execution_count": 22,
   "metadata": {
    "scrolled": false
   },
   "outputs": [
    {
     "name": "stdout",
     "output_type": "stream",
     "text": [
      "Accuracy : 0.903250773993808\n",
      "\n",
      "Classification Report\n",
      "              precision    recall  f1-score   support\n",
      "\n",
      "           0    0.90123   0.89571   0.89846       163\n",
      "           1    0.97222   0.88235   0.92511       119\n",
      "           2    0.95604   0.93548   0.94565        93\n",
      "           3    0.81132   0.91489   0.86000        94\n",
      "           4    0.90991   0.75373   0.82449       134\n",
      "           5    0.82517   0.89394   0.85818       132\n",
      "           6    0.88506   0.91667   0.90058        84\n",
      "           7    0.91667   0.94624   0.93122        93\n",
      "           8    0.86139   0.98864   0.92063        88\n",
      "           9    0.95745   0.90000   0.92784       100\n",
      "          10    0.95192   0.97059   0.96117       102\n",
      "          11    0.93258   0.92222   0.92737        90\n",
      "\n",
      "   micro avg    0.90325   0.90325   0.90325      1292\n",
      "   macro avg    0.90675   0.91004   0.90673      1292\n",
      "weighted avg    0.90619   0.90325   0.90297      1292\n",
      "\n",
      "[[146   1   0   0   5   9   0   1   0   0   1   0]\n",
      " [  0 105   0   3   0   0   4   1   4   1   1   0]\n",
      " [  0   0  87   4   0   1   0   0   0   0   0   1]\n",
      " [  0   1   1  86   0   1   1   1   1   1   0   1]\n",
      " [  5   0   0  10 101  11   0   0   4   2   0   1]\n",
      " [  9   0   0   0   5 118   0   0   0   0   0   0]\n",
      " [  1   0   0   1   0   1  77   4   0   0   0   0]\n",
      " [  0   0   1   1   0   0   2  88   0   0   1   0]\n",
      " [  0   0   1   0   0   0   0   0  87   0   0   0]\n",
      " [  0   1   0   1   0   1   0   0   4  90   1   2]\n",
      " [  1   0   0   0   0   0   0   0   1   0  99   1]\n",
      " [  0   0   1   0   0   1   3   1   0   0   1  83]]\n"
     ]
    },
    {
     "data": {
      "image/png": "[encoded data removed]",
      "text/plain": [
       "<Figure size 432x288 with 2 Axes>"
      ]
     },
     "metadata": {
      "needs_background": "light"
     },
     "output_type": "display_data"
    }
   ],
   "source": [
    "#should import labels directly from folder:\n",
    "labels, _, _= get_labels(\"./audio\")\n",
    "labArray = []\n",
    "for label in labels:\n",
    "    labArray.append(label)\n",
    "\n",
    "le = LabelEncoder()\n",
    "\n",
    "le.fit_transform(labArray)\n",
    "\n",
    "full_multiclass_report(model, X_test, y_test_hot, classes=le.inverse_transform(np.arange(12)))"
   ]
  },
  {
   "cell_type": "markdown",
   "metadata": {},
   "source": [
    "# Functions for all the metrics and results"
   ]
  },
  {
   "cell_type": "code",
   "execution_count": 6,
   "metadata": {},
   "outputs": [],
   "source": [
    "def plot_confusion_matrix(cm, classes,\n",
    "                          normalize=False,\n",
    "                          cmap=plt.cm.Blues):\n",
    "    \"\"\"\n",
    "    This function prints and plots the confusion matrix.\n",
    "    Normalization can be applied by setting `normalize=True`.\n",
    "    \"\"\"\n",
    "    if normalize:\n",
    "        cm = cm.astype('float') / cm.sum(axis=1)[:, np.newaxis]\n",
    "        title='Normalized confusion matrix'\n",
    "    else:\n",
    "        title='Confusion matrix'\n",
    "\n",
    "    plt.imshow(cm, interpolation='nearest', cmap=cmap)\n",
    "    plt.title(title)\n",
    "    plt.colorbar()\n",
    "    tick_marks = np.arange(len(classes))\n",
    "    plt.xticks(tick_marks, classes, rotation=45)\n",
    "    plt.yticks(tick_marks, classes)\n",
    "\n",
    "    fmt = '.2f' if normalize else 'd'\n",
    "    thresh = cm.max() / 2.\n",
    "    for i, j in itertools.product(range(cm.shape[0]), range(cm.shape[1])):\n",
    "        plt.text(j, i, format(cm[i, j], fmt),\n",
    "                 horizontalalignment=\"center\",\n",
    "                 color=\"white\" if cm[i, j] > thresh else \"black\")\n",
    "\n",
    "    plt.tight_layout()\n",
    "    plt.ylabel('True label')\n",
    "    plt.xlabel('Predicted label')\n",
    "    plt.show()\n",
    "    \n",
    "def full_multiclass_report(model,\n",
    "                           x,\n",
    "                           y_true,\n",
    "                           classes,\n",
    "                           batch_size=32,\n",
    "                           binary=False):\n",
    "\n",
    "    # 1. Transform one-hot encoded y_true into their class number\n",
    "    if not binary:\n",
    "        y_true = np.argmax(y_true,axis=1)\n",
    "    \n",
    "    # 2. Predict classes and stores in y_pred\n",
    "    y_pred = model.predict_classes(x, batch_size=batch_size)\n",
    "    \n",
    "    # 3. Print accuracy score\n",
    "    print(\"Accuracy : \"+ str(accuracy_score(y_true,y_pred)))\n",
    "    \n",
    "    print(\"\")\n",
    "    \n",
    "    # 4. Print classification report\n",
    "    print(\"Classification Report\")\n",
    "    print(classification_report(y_true,y_pred,digits=5))    \n",
    "    \n",
    "    # 5. Plot confusion matrix\n",
    "    cnf_matrix = confusion_matrix(y_true,y_pred)\n",
    "    print(cnf_matrix)\n",
    "    plot_confusion_matrix(cnf_matrix,classes=classes)"
   ]
  },
  {
   "cell_type": "code",
   "execution_count": 7,
   "metadata": {},
   "outputs": [],
   "source": [
    "def plot_history(history):\n",
    "    loss_list = [s for s in history.history.keys() if 'loss' in s and 'val' not in s]\n",
    "    val_loss_list = [s for s in history.history.keys() if 'loss' in s and 'val' in s]\n",
    "    acc_list = [s for s in history.history.keys() if 'acc' in s and 'val' not in s]\n",
    "    val_acc_list = [s for s in history.history.keys() if 'acc' in s and 'val' in s]\n",
    "    \n",
    "    if len(loss_list) == 0:\n",
    "        print('Loss is missing in history')\n",
    "        return \n",
    "    \n",
    "    ## As loss always exists\n",
    "    epochs = range(1,len(history.history[loss_list[0]]) + 1)\n",
    "    \n",
    "    ## Loss\n",
    "    plt.figure(1)\n",
    "    for l in loss_list:\n",
    "        plt.plot(epochs, history.history[l], 'b', label='Training loss (' + str(str(format(history.history[l][-1],'.5f'))+')'))\n",
    "    for l in val_loss_list:\n",
    "        plt.plot(epochs, history.history[l], 'g', label='Validation loss (' + str(str(format(history.history[l][-1],'.5f'))+')'))\n",
    "    \n",
    "    plt.title('Loss')\n",
    "    plt.xlabel('Epochs')\n",
    "    plt.ylabel('Loss')\n",
    "    plt.legend()\n",
    "    \n",
    "    ## Accuracy\n",
    "    plt.figure(2)\n",
    "    for l in acc_list:\n",
    "        plt.plot(epochs, history.history[l], 'b', label='Training accuracy (' + str(format(history.history[l][-1],'.5f'))+')')\n",
    "    for l in val_acc_list:    \n",
    "        plt.plot(epochs, history.history[l], 'g', label='Validation accuracy (' + str(format(history.history[l][-1],'.5f'))+')')\n",
    "\n",
    "    plt.title('Accuracy')\n",
    "    plt.xlabel('Epochs')\n",
    "    plt.ylabel('Accuracy')\n",
    "    plt.legend()\n",
    "    plt.show()"
   ]
  }
 ],
 "metadata": {
  "kernelspec": {
   "display_name": "Python 3",
   "language": "python",
   "name": "python3"
  },
  "language_info": {
   "codemirror_mode": {
    "name": "ipython",
    "version": 3
   },
   "file_extension": ".py",
   "mimetype": "text/x-python",
   "name": "python",
   "nbconvert_exporter": "python",
   "pygments_lexer": "ipython3",
   "version": "3.6.7"
  }
 },
 "nbformat": 4,
 "nbformat_minor": 2
}
