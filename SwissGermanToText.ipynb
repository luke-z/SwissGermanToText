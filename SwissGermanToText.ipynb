{
 "cells": [
  {
   "cell_type": "markdown",
   "metadata": {},
   "source": [
    "# Experiments"
   ]
  },
  {
   "cell_type": "code",
   "execution_count": null,
   "metadata": {},
   "outputs": [],
   "source": [
    "import os\n",
    "import IPython.display as ipd\n",
    "\n",
    "for filename in os.listdir('./test'):\n",
    "    ipd.Audio('./test/' + filename)"
   ]
  },
  {
   "cell_type": "code",
   "execution_count": null,
   "metadata": {
    "scrolled": true
   },
   "outputs": [],
   "source": [
    "import os\n",
    "import pandas as pd\n",
    "import librosa.display\n",
    "import matplotlib.pyplot as plt\n",
    "import tensorflow as tf\n",
    "\n",
    "for filename in os.listdir('./test'):\n",
    "    data, sampling_rate = librosa.load('./test/' + filename)\n",
    "\n",
    "    plt.figure(figsize=(12, 4))\n",
    "    librosa.display.waveplot(data, sr=sampling_rate)"
   ]
  },
  {
   "cell_type": "code",
   "execution_count": null,
   "metadata": {},
   "outputs": [],
   "source": [
    "import speech_recognition as sr"
   ]
  },
  {
   "cell_type": "code",
   "execution_count": null,
   "metadata": {},
   "outputs": [],
   "source": [
    "r = sr.Recognizer()"
   ]
  },
  {
   "cell_type": "code",
   "execution_count": null,
   "metadata": {},
   "outputs": [],
   "source": [
    "zero = sr.AudioFile('0_jackson_2.wav')"
   ]
  },
  {
   "cell_type": "code",
   "execution_count": null,
   "metadata": {},
   "outputs": [],
   "source": [
    "with zero as source:\n",
    "    audio = r.record(source)"
   ]
  },
  {
   "cell_type": "code",
   "execution_count": null,
   "metadata": {},
   "outputs": [],
   "source": [
    "print(r.recognize_google(audio))"
   ]
  },
  {
   "cell_type": "markdown",
   "metadata": {},
   "source": [
    "# This is the main training part:"
   ]
  },
  {
   "cell_type": "markdown",
   "metadata": {},
   "source": [
    "## training with audio files"
   ]
  },
  {
   "cell_type": "code",
   "execution_count": 14,
   "metadata": {},
   "outputs": [],
   "source": [
    "#imports:\n",
    "\n",
    "from export_model import *\n",
    "from preprocess import *\n",
    "import keras\n",
    "from keras.models import Sequential, load_model\n",
    "from keras.layers import Dense, Dropout, Flatten, Conv2D, MaxPooling2D\n",
    "from keras.utils import to_categorical\n",
    "from sklearn.metrics import confusion_matrix, classification_report, accuracy_score\n",
    "from sklearn.preprocessing import LabelEncoder\n",
    "import itertools\n",
    "import matplotlib.pyplot as plt"
   ]
  },
  {
   "cell_type": "code",
   "execution_count": 2,
   "metadata": {
    "scrolled": true
   },
   "outputs": [
    {
     "name": "stderr",
     "output_type": "stream",
     "text": [
      "Saving vectors of label - '1': 100%|█████████████████████████████████████████████████| 312/312 [00:05<00:00, 58.49it/s]\n",
      "Saving vectors of label - '10': 100%|████████████████████████████████████████████████| 143/143 [00:02<00:00, 55.53it/s]\n",
      "Saving vectors of label - '11': 100%|████████████████████████████████████████████████| 137/137 [00:02<00:00, 58.85it/s]\n",
      "Saving vectors of label - '12': 100%|████████████████████████████████████████████████| 132/132 [00:02<00:00, 50.87it/s]\n",
      "Saving vectors of label - '2': 100%|█████████████████████████████████████████████████| 272/272 [00:04<00:00, 58.95it/s]\n",
      "Saving vectors of label - '3': 100%|█████████████████████████████████████████████████| 250/250 [00:04<00:00, 61.20it/s]\n",
      "Saving vectors of label - '4': 100%|█████████████████████████████████████████████████| 139/139 [00:02<00:00, 48.11it/s]\n",
      "Saving vectors of label - '5': 100%|█████████████████████████████████████████████████| 166/166 [00:02<00:00, 61.19it/s]\n",
      "Saving vectors of label - '6': 100%|█████████████████████████████████████████████████| 145/145 [00:02<00:00, 58.92it/s]\n",
      "Saving vectors of label - '7': 100%|█████████████████████████████████████████████████| 150/150 [00:02<00:00, 57.58it/s]\n",
      "Saving vectors of label - '8': 100%|█████████████████████████████████████████████████| 154/154 [00:02<00:00, 90.84it/s]\n",
      "Saving vectors of label - '9': 100%|█████████████████████████████████████████████████| 139/139 [00:01<00:00, 94.49it/s]\n"
     ]
    }
   ],
   "source": [
    "%load_ext autoreload\n",
    "%autoreload 2\n",
    "\n",
    "#from preprocess import *\n",
    "#import keras\n",
    "#from keras.models import Sequential\n",
    "#from keras.layers import Dense, Dropout, Flatten, Conv2D, MaxPooling2D\n",
    "#from keras.utils import to_categorical\n",
    "#from sklearn.metrics import confusion_matrix, classification_report, accuracy_score\n",
    "#from sklearn.preprocessing import LabelEncoder\n",
    "#import itertools\n",
    "\n",
    "# Second dimension of the feature is dim2\n",
    "feature_dim_2 = 11\n",
    "\n",
    "# Save data to array file first\n",
    "save_data_to_array(max_len=feature_dim_2)\n",
    "\n",
    "# # Loading train set and test set\n",
    "X_train, X_test, y_train, y_test = get_train_test()\n",
    "\n",
    "# # Feature dimension\n",
    "feature_dim_1 = 20\n",
    "channel = 1\n",
    "epochs = 50\n",
    "batch_size = 100\n",
    "verbose = 1\n",
    "# change num_classes depending on the amount of labels\n",
    "num_classes = 12\n",
    "\n",
    "# Reshaping to perform 2D convolution\n",
    "X_train = X_train.reshape(X_train.shape[0], feature_dim_1, feature_dim_2, channel)\n",
    "X_test = X_test.reshape(X_test.shape[0], feature_dim_1, feature_dim_2, channel)\n",
    "\n",
    "y_train_hot = to_categorical(y_train)\n",
    "y_test_hot = to_categorical(y_test)"
   ]
  },
  {
   "cell_type": "markdown",
   "metadata": {},
   "source": [
    "## model & prediction"
   ]
  },
  {
   "cell_type": "code",
   "execution_count": 3,
   "metadata": {},
   "outputs": [],
   "source": [
    "def get_model():\n",
    "    model = Sequential()\n",
    "    model.add(Conv2D(32, kernel_size=(2, 2), activation='relu', input_shape=(feature_dim_1, feature_dim_2, channel)))\n",
    "    model.add(Conv2D(48, kernel_size=(2, 2), activation='relu'))\n",
    "    model.add(Conv2D(120, kernel_size=(2, 2), activation='relu'))\n",
    "    model.add(MaxPooling2D(pool_size=(2, 2)))\n",
    "    model.add(Dropout(0.25))\n",
    "    model.add(Flatten())\n",
    "    model.add(Dense(128, activation='relu'))\n",
    "    model.add(Dropout(0.25))\n",
    "    model.add(Dense(64, activation='relu'))\n",
    "    model.add(Dropout(0.4))\n",
    "    model.add(Dense(num_classes, activation='softmax'))\n",
    "    model.compile(loss=keras.losses.categorical_crossentropy,\n",
    "                  optimizer=keras.optimizers.Adadelta(),\n",
    "                  metrics=['accuracy'])\n",
    "    return model\n",
    "\n",
    "# Predicts one sample\n",
    "def predict(filepath, model):\n",
    "    sample = wav2mfcc(filepath)\n",
    "    sample_reshaped = sample.reshape(1, feature_dim_1, feature_dim_2, channel)\n",
    "    return get_labels()[0][\n",
    "            np.argmax(model.predict(sample_reshaped))\n",
    "    ]"
   ]
  },
  {
   "cell_type": "code",
   "execution_count": 4,
   "metadata": {
    "scrolled": true
   },
   "outputs": [
    {
     "name": "stdout",
     "output_type": "stream",
     "text": [
      "Train on 1283 samples, validate on 856 samples\n",
      "Epoch 1/50\n",
      "1283/1283 [==============================] - ETA: 8s - loss: 8.5576 - acc: 0.090 - ETA: 4s - loss: 6.6115 - acc: 0.090 - ETA: 3s - loss: 5.6049 - acc: 0.093 - ETA: 2s - loss: 5.0109 - acc: 0.097 - ETA: 2s - loss: 4.5852 - acc: 0.098 - ETA: 1s - loss: 4.2731 - acc: 0.095 - ETA: 1s - loss: 4.0265 - acc: 0.100 - ETA: 1s - loss: 3.8076 - acc: 0.116 - ETA: 0s - loss: 3.6631 - acc: 0.121 - ETA: 0s - loss: 3.5479 - acc: 0.124 - ETA: 0s - loss: 3.4449 - acc: 0.134 - ETA: 0s - loss: 3.3287 - acc: 0.153 - 3s 3ms/step - loss: 3.2480 - acc: 0.1645 - val_loss: 1.7515 - val_acc: 0.5280\n",
      "Epoch 2/50\n",
      "1283/1283 [==============================] - ETA: 1s - loss: 2.0688 - acc: 0.270 - ETA: 1s - loss: 1.9023 - acc: 0.340 - ETA: 1s - loss: 1.9121 - acc: 0.343 - ETA: 1s - loss: 1.8953 - acc: 0.352 - ETA: 1s - loss: 1.8814 - acc: 0.362 - ETA: 1s - loss: 1.8561 - acc: 0.373 - ETA: 1s - loss: 1.8445 - acc: 0.375 - ETA: 0s - loss: 1.8725 - acc: 0.361 - ETA: 0s - loss: 1.9136 - acc: 0.346 - ETA: 0s - loss: 1.8896 - acc: 0.358 - ETA: 0s - loss: 1.8758 - acc: 0.364 - ETA: 0s - loss: 1.8589 - acc: 0.370 - 3s 2ms/step - loss: 1.8378 - acc: 0.3765 - val_loss: 1.1448 - val_acc: 0.6589\n",
      "Epoch 3/50\n",
      "1283/1283 [==============================] - ETA: 1s - loss: 1.5972 - acc: 0.440 - ETA: 1s - loss: 1.4733 - acc: 0.505 - ETA: 1s - loss: 1.4819 - acc: 0.526 - ETA: 1s - loss: 1.4574 - acc: 0.520 - ETA: 1s - loss: 1.4330 - acc: 0.524 - ETA: 1s - loss: 1.4272 - acc: 0.516 - ETA: 0s - loss: 1.4360 - acc: 0.515 - ETA: 0s - loss: 1.4532 - acc: 0.515 - ETA: 0s - loss: 1.4662 - acc: 0.505 - ETA: 0s - loss: 1.4560 - acc: 0.506 - ETA: 0s - loss: 1.4408 - acc: 0.513 - ETA: 0s - loss: 1.4216 - acc: 0.518 - 2s 2ms/step - loss: 1.4109 - acc: 0.5230 - val_loss: 0.6860 - val_acc: 0.8353\n",
      "Epoch 4/50\n",
      "1283/1283 [==============================] - ETA: 2s - loss: 1.0913 - acc: 0.620 - ETA: 1s - loss: 1.1221 - acc: 0.645 - ETA: 1s - loss: 1.1284 - acc: 0.630 - ETA: 1s - loss: 1.1074 - acc: 0.632 - ETA: 1s - loss: 1.0797 - acc: 0.646 - ETA: 1s - loss: 1.0536 - acc: 0.658 - ETA: 0s - loss: 1.0319 - acc: 0.667 - ETA: 0s - loss: 1.0538 - acc: 0.661 - ETA: 0s - loss: 1.0607 - acc: 0.650 - ETA: 0s - loss: 1.0706 - acc: 0.644 - ETA: 0s - loss: 1.0351 - acc: 0.654 - ETA: 0s - loss: 1.0231 - acc: 0.659 - 2s 2ms/step - loss: 1.0073 - acc: 0.6641 - val_loss: 0.4644 - val_acc: 0.8750\n",
      "Epoch 5/50\n",
      "1283/1283 [==============================] - ETA: 1s - loss: 0.9725 - acc: 0.650 - ETA: 1s - loss: 0.8603 - acc: 0.700 - ETA: 1s - loss: 0.7862 - acc: 0.720 - ETA: 1s - loss: 0.8304 - acc: 0.705 - ETA: 1s - loss: 0.8305 - acc: 0.708 - ETA: 1s - loss: 0.8180 - acc: 0.720 - ETA: 0s - loss: 0.8214 - acc: 0.721 - ETA: 0s - loss: 0.7946 - acc: 0.727 - ETA: 0s - loss: 0.7750 - acc: 0.731 - ETA: 0s - loss: 0.7705 - acc: 0.732 - ETA: 0s - loss: 0.7625 - acc: 0.737 - ETA: 0s - loss: 0.7517 - acc: 0.742 - 2s 2ms/step - loss: 0.7487 - acc: 0.7428 - val_loss: 0.3404 - val_acc: 0.8972\n",
      "Epoch 6/50\n",
      "1283/1283 [==============================] - ETA: 2s - loss: 0.3903 - acc: 0.890 - ETA: 1s - loss: 0.4846 - acc: 0.840 - ETA: 1s - loss: 0.5256 - acc: 0.823 - ETA: 1s - loss: 0.5362 - acc: 0.822 - ETA: 1s - loss: 0.5693 - acc: 0.808 - ETA: 1s - loss: 0.5803 - acc: 0.806 - ETA: 0s - loss: 0.5910 - acc: 0.802 - ETA: 0s - loss: 0.5839 - acc: 0.805 - ETA: 0s - loss: 0.5976 - acc: 0.798 - ETA: 0s - loss: 0.6078 - acc: 0.794 - ETA: 0s - loss: 0.6103 - acc: 0.794 - ETA: 0s - loss: 0.6121 - acc: 0.791 - 2s 2ms/step - loss: 0.6069 - acc: 0.7966 - val_loss: 0.3048 - val_acc: 0.8960\n",
      "Epoch 7/50\n",
      "1283/1283 [==============================] - ETA: 2s - loss: 0.6755 - acc: 0.810 - ETA: 1s - loss: 0.6570 - acc: 0.790 - ETA: 1s - loss: 0.6095 - acc: 0.810 - ETA: 1s - loss: 0.5940 - acc: 0.797 - ETA: 1s - loss: 0.6022 - acc: 0.792 - ETA: 1s - loss: 0.5860 - acc: 0.801 - ETA: 0s - loss: 0.5595 - acc: 0.811 - ETA: 0s - loss: 0.5728 - acc: 0.805 - ETA: 0s - loss: 0.5532 - acc: 0.806 - ETA: 0s - loss: 0.5417 - acc: 0.811 - ETA: 0s - loss: 0.5439 - acc: 0.813 - ETA: 0s - loss: 0.5469 - acc: 0.810 - 2s 2ms/step - loss: 0.5378 - acc: 0.8153 - val_loss: 0.2854 - val_acc: 0.9030\n",
      "Epoch 8/50\n",
      "1283/1283 [==============================] - ETA: 1s - loss: 0.3501 - acc: 0.870 - ETA: 1s - loss: 0.4088 - acc: 0.865 - ETA: 1s - loss: 0.3772 - acc: 0.873 - ETA: 1s - loss: 0.3878 - acc: 0.870 - ETA: 1s - loss: 0.3704 - acc: 0.876 - ETA: 1s - loss: 0.3665 - acc: 0.878 - ETA: 0s - loss: 0.3784 - acc: 0.874 - ETA: 0s - loss: 0.3955 - acc: 0.868 - ETA: 0s - loss: 0.3914 - acc: 0.872 - ETA: 0s - loss: 0.4101 - acc: 0.863 - ETA: 0s - loss: 0.4288 - acc: 0.854 - ETA: 0s - loss: 0.4295 - acc: 0.854 - 3s 2ms/step - loss: 0.4249 - acc: 0.8535 - val_loss: 0.2950 - val_acc: 0.8902\n",
      "Epoch 9/50\n",
      "1283/1283 [==============================] - ETA: 1s - loss: 0.5353 - acc: 0.800 - ETA: 1s - loss: 0.5322 - acc: 0.795 - ETA: 1s - loss: 0.4643 - acc: 0.830 - ETA: 1s - loss: 0.4299 - acc: 0.842 - ETA: 1s - loss: 0.4157 - acc: 0.854 - ETA: 1s - loss: 0.4353 - acc: 0.845 - ETA: 1s - loss: 0.4136 - acc: 0.852 - ETA: 0s - loss: 0.4176 - acc: 0.848 - ETA: 0s - loss: 0.4071 - acc: 0.853 - ETA: 0s - loss: 0.3834 - acc: 0.862 - ETA: 0s - loss: 0.3939 - acc: 0.858 - ETA: 0s - loss: 0.3997 - acc: 0.857 - 3s 2ms/step - loss: 0.4016 - acc: 0.8550 - val_loss: 0.2760 - val_acc: 0.9007\n",
      "Epoch 10/50\n",
      "1283/1283 [==============================] - ETA: 1s - loss: 0.3391 - acc: 0.890 - ETA: 2s - loss: 0.3394 - acc: 0.880 - ETA: 1s - loss: 0.3306 - acc: 0.883 - ETA: 1s - loss: 0.3282 - acc: 0.885 - ETA: 1s - loss: 0.3309 - acc: 0.888 - ETA: 1s - loss: 0.3436 - acc: 0.886 - ETA: 1s - loss: 0.3694 - acc: 0.874 - ETA: 0s - loss: 0.3621 - acc: 0.877 - ETA: 0s - loss: 0.3764 - acc: 0.870 - ETA: 0s - loss: 0.3718 - acc: 0.871 - ETA: 0s - loss: 0.3644 - acc: 0.871 - ETA: 0s - loss: 0.3600 - acc: 0.873 - 3s 2ms/step - loss: 0.3512 - acc: 0.8761 - val_loss: 0.2564 - val_acc: 0.9124\n",
      "Epoch 11/50\n",
      "1283/1283 [==============================] - ETA: 1s - loss: 0.2254 - acc: 0.950 - ETA: 1s - loss: 0.3182 - acc: 0.890 - ETA: 1s - loss: 0.3518 - acc: 0.880 - ETA: 1s - loss: 0.3577 - acc: 0.872 - ETA: 1s - loss: 0.3946 - acc: 0.856 - ETA: 1s - loss: 0.3728 - acc: 0.865 - ETA: 0s - loss: 0.3677 - acc: 0.868 - ETA: 0s - loss: 0.3583 - acc: 0.868 - ETA: 0s - loss: 0.3529 - acc: 0.873 - ETA: 0s - loss: 0.3608 - acc: 0.874 - ETA: 0s - loss: 0.3619 - acc: 0.872 - ETA: 0s - loss: 0.3658 - acc: 0.870 - 3s 2ms/step - loss: 0.3687 - acc: 0.8698 - val_loss: 0.2507 - val_acc: 0.9089\n",
      "Epoch 12/50\n",
      "1283/1283 [==============================] - ETA: 1s - loss: 0.2647 - acc: 0.890 - ETA: 1s - loss: 0.2694 - acc: 0.900 - ETA: 1s - loss: 0.2567 - acc: 0.900 - ETA: 1s - loss: 0.2850 - acc: 0.892 - ETA: 1s - loss: 0.3081 - acc: 0.882 - ETA: 1s - loss: 0.3106 - acc: 0.881 - ETA: 0s - loss: 0.2983 - acc: 0.885 - ETA: 0s - loss: 0.2910 - acc: 0.890 - ETA: 0s - loss: 0.3007 - acc: 0.888 - ETA: 0s - loss: 0.3008 - acc: 0.891 - ETA: 0s - loss: 0.3047 - acc: 0.889 - ETA: 0s - loss: 0.3092 - acc: 0.886 - 3s 2ms/step - loss: 0.3163 - acc: 0.8854 - val_loss: 0.2941 - val_acc: 0.8984\n",
      "Epoch 13/50\n",
      "1283/1283 [==============================] - ETA: 2s - loss: 0.3361 - acc: 0.860 - ETA: 1s - loss: 0.3171 - acc: 0.885 - ETA: 1s - loss: 0.3267 - acc: 0.893 - ETA: 1s - loss: 0.3072 - acc: 0.897 - ETA: 1s - loss: 0.3218 - acc: 0.886 - ETA: 1s - loss: 0.3252 - acc: 0.888 - ETA: 0s - loss: 0.3184 - acc: 0.890 - ETA: 0s - loss: 0.3122 - acc: 0.891 - ETA: 0s - loss: 0.3055 - acc: 0.891 - ETA: 0s - loss: 0.3078 - acc: 0.889 - ETA: 0s - loss: 0.3060 - acc: 0.889 - ETA: 0s - loss: 0.3057 - acc: 0.892 - 2s 2ms/step - loss: 0.2959 - acc: 0.8956 - val_loss: 0.2485 - val_acc: 0.9112\n",
      "Epoch 14/50\n"
     ]
    },
    {
     "name": "stdout",
     "output_type": "stream",
     "text": [
      "1283/1283 [==============================] - ETA: 1s - loss: 0.1731 - acc: 0.940 - ETA: 1s - loss: 0.1755 - acc: 0.935 - ETA: 1s - loss: 0.2330 - acc: 0.910 - ETA: 1s - loss: 0.2366 - acc: 0.920 - ETA: 1s - loss: 0.2514 - acc: 0.914 - ETA: 1s - loss: 0.2730 - acc: 0.906 - ETA: 1s - loss: 0.2833 - acc: 0.901 - ETA: 0s - loss: 0.2814 - acc: 0.901 - ETA: 0s - loss: 0.2960 - acc: 0.896 - ETA: 0s - loss: 0.3175 - acc: 0.892 - ETA: 0s - loss: 0.3206 - acc: 0.890 - ETA: 0s - loss: 0.3121 - acc: 0.893 - 3s 2ms/step - loss: 0.3136 - acc: 0.8893 - val_loss: 0.2588 - val_acc: 0.9054\n",
      "Epoch 15/50\n",
      "1283/1283 [==============================] - ETA: 1s - loss: 0.2036 - acc: 0.930 - ETA: 2s - loss: 0.2217 - acc: 0.935 - ETA: 1s - loss: 0.2417 - acc: 0.916 - ETA: 1s - loss: 0.2408 - acc: 0.910 - ETA: 1s - loss: 0.2409 - acc: 0.910 - ETA: 1s - loss: 0.2404 - acc: 0.911 - ETA: 1s - loss: 0.2315 - acc: 0.918 - ETA: 1s - loss: 0.2386 - acc: 0.915 - ETA: 0s - loss: 0.2334 - acc: 0.917 - ETA: 0s - loss: 0.2301 - acc: 0.919 - ETA: 0s - loss: 0.2379 - acc: 0.913 - ETA: 0s - loss: 0.2383 - acc: 0.915 - 3s 2ms/step - loss: 0.2361 - acc: 0.9158 - val_loss: 0.2505 - val_acc: 0.9089\n",
      "Epoch 16/50\n",
      "1283/1283 [==============================] - ETA: 1s - loss: 0.2163 - acc: 0.940 - ETA: 1s - loss: 0.2376 - acc: 0.935 - ETA: 1s - loss: 0.2440 - acc: 0.930 - ETA: 1s - loss: 0.2651 - acc: 0.925 - ETA: 1s - loss: 0.2480 - acc: 0.930 - ETA: 1s - loss: 0.2370 - acc: 0.930 - ETA: 0s - loss: 0.2417 - acc: 0.928 - ETA: 0s - loss: 0.2390 - acc: 0.928 - ETA: 0s - loss: 0.2281 - acc: 0.931 - ETA: 0s - loss: 0.2222 - acc: 0.931 - ETA: 0s - loss: 0.2261 - acc: 0.928 - ETA: 0s - loss: 0.2344 - acc: 0.923 - 2s 2ms/step - loss: 0.2301 - acc: 0.9236 - val_loss: 0.2426 - val_acc: 0.9077\n",
      "Epoch 17/50\n",
      "1283/1283 [==============================] - ETA: 1s - loss: 0.2481 - acc: 0.910 - ETA: 1s - loss: 0.2248 - acc: 0.910 - ETA: 1s - loss: 0.1900 - acc: 0.923 - ETA: 1s - loss: 0.2067 - acc: 0.922 - ETA: 1s - loss: 0.2136 - acc: 0.916 - ETA: 1s - loss: 0.2132 - acc: 0.920 - ETA: 1s - loss: 0.2175 - acc: 0.920 - ETA: 0s - loss: 0.2143 - acc: 0.921 - ETA: 0s - loss: 0.2208 - acc: 0.918 - ETA: 0s - loss: 0.2168 - acc: 0.923 - ETA: 0s - loss: 0.2106 - acc: 0.925 - ETA: 0s - loss: 0.2088 - acc: 0.925 - 3s 2ms/step - loss: 0.2107 - acc: 0.9244 - val_loss: 0.2685 - val_acc: 0.9054\n",
      "Epoch 18/50\n",
      "1283/1283 [==============================] - ETA: 1s - loss: 0.2489 - acc: 0.910 - ETA: 1s - loss: 0.2182 - acc: 0.915 - ETA: 1s - loss: 0.2271 - acc: 0.913 - ETA: 1s - loss: 0.1929 - acc: 0.925 - ETA: 1s - loss: 0.1977 - acc: 0.924 - ETA: 1s - loss: 0.1937 - acc: 0.930 - ETA: 1s - loss: 0.1955 - acc: 0.931 - ETA: 0s - loss: 0.1974 - acc: 0.931 - ETA: 0s - loss: 0.1935 - acc: 0.932 - ETA: 0s - loss: 0.1898 - acc: 0.933 - ETA: 0s - loss: 0.1910 - acc: 0.931 - ETA: 0s - loss: 0.1889 - acc: 0.934 - 3s 2ms/step - loss: 0.1928 - acc: 0.9314 - val_loss: 0.2673 - val_acc: 0.9030\n",
      "Epoch 19/50\n",
      "1283/1283 [==============================] - ETA: 1s - loss: 0.1333 - acc: 0.960 - ETA: 1s - loss: 0.1913 - acc: 0.930 - ETA: 1s - loss: 0.1950 - acc: 0.923 - ETA: 1s - loss: 0.2062 - acc: 0.920 - ETA: 1s - loss: 0.1918 - acc: 0.928 - ETA: 1s - loss: 0.1805 - acc: 0.930 - ETA: 0s - loss: 0.1925 - acc: 0.924 - ETA: 0s - loss: 0.1937 - acc: 0.925 - ETA: 0s - loss: 0.1853 - acc: 0.928 - ETA: 0s - loss: 0.1907 - acc: 0.928 - ETA: 0s - loss: 0.1908 - acc: 0.929 - ETA: 0s - loss: 0.1907 - acc: 0.930 - 2s 2ms/step - loss: 0.1911 - acc: 0.9299 - val_loss: 0.2570 - val_acc: 0.9054\n",
      "Epoch 20/50\n",
      "1283/1283 [==============================] - ETA: 1s - loss: 0.1737 - acc: 0.910 - ETA: 1s - loss: 0.1684 - acc: 0.940 - ETA: 1s - loss: 0.1577 - acc: 0.950 - ETA: 1s - loss: 0.1827 - acc: 0.940 - ETA: 1s - loss: 0.1736 - acc: 0.942 - ETA: 1s - loss: 0.1920 - acc: 0.936 - ETA: 0s - loss: 0.1830 - acc: 0.938 - ETA: 0s - loss: 0.1896 - acc: 0.937 - ETA: 0s - loss: 0.1889 - acc: 0.936 - ETA: 0s - loss: 0.1940 - acc: 0.935 - ETA: 0s - loss: 0.2053 - acc: 0.929 - ETA: 0s - loss: 0.2022 - acc: 0.930 - 2s 2ms/step - loss: 0.2025 - acc: 0.9322 - val_loss: 0.2738 - val_acc: 0.8995\n",
      "Epoch 21/50\n",
      "1283/1283 [==============================] - ETA: 1s - loss: 0.1869 - acc: 0.930 - ETA: 1s - loss: 0.1409 - acc: 0.950 - ETA: 1s - loss: 0.1459 - acc: 0.956 - ETA: 1s - loss: 0.1601 - acc: 0.947 - ETA: 1s - loss: 0.1779 - acc: 0.942 - ETA: 1s - loss: 0.1969 - acc: 0.935 - ETA: 0s - loss: 0.1906 - acc: 0.935 - ETA: 0s - loss: 0.1797 - acc: 0.937 - ETA: 0s - loss: 0.1846 - acc: 0.934 - ETA: 0s - loss: 0.1821 - acc: 0.934 - ETA: 0s - loss: 0.1858 - acc: 0.930 - ETA: 0s - loss: 0.1897 - acc: 0.930 - 3s 2ms/step - loss: 0.1902 - acc: 0.9291 - val_loss: 0.2733 - val_acc: 0.9100\n",
      "Epoch 22/50\n",
      "1283/1283 [==============================] - ETA: 1s - loss: 0.2122 - acc: 0.930 - ETA: 1s - loss: 0.1562 - acc: 0.950 - ETA: 1s - loss: 0.1646 - acc: 0.943 - ETA: 1s - loss: 0.1703 - acc: 0.945 - ETA: 1s - loss: 0.1654 - acc: 0.946 - ETA: 1s - loss: 0.1760 - acc: 0.943 - ETA: 0s - loss: 0.1745 - acc: 0.941 - ETA: 0s - loss: 0.1690 - acc: 0.942 - ETA: 0s - loss: 0.1728 - acc: 0.942 - ETA: 0s - loss: 0.1763 - acc: 0.940 - ETA: 0s - loss: 0.1806 - acc: 0.940 - ETA: 0s - loss: 0.1814 - acc: 0.939 - 2s 2ms/step - loss: 0.1768 - acc: 0.9384 - val_loss: 0.2578 - val_acc: 0.9100\n",
      "Epoch 23/50\n",
      "1283/1283 [==============================] - ETA: 1s - loss: 0.1944 - acc: 0.920 - ETA: 1s - loss: 0.1376 - acc: 0.950 - ETA: 1s - loss: 0.1520 - acc: 0.943 - ETA: 1s - loss: 0.1632 - acc: 0.940 - ETA: 1s - loss: 0.1497 - acc: 0.946 - ETA: 1s - loss: 0.1327 - acc: 0.951 - ETA: 0s - loss: 0.1295 - acc: 0.952 - ETA: 0s - loss: 0.1401 - acc: 0.948 - ETA: 0s - loss: 0.1388 - acc: 0.951 - ETA: 0s - loss: 0.1385 - acc: 0.953 - ETA: 0s - loss: 0.1366 - acc: 0.954 - ETA: 0s - loss: 0.1472 - acc: 0.953 - 3s 2ms/step - loss: 0.1548 - acc: 0.9509 - val_loss: 0.2832 - val_acc: 0.9019\n",
      "Epoch 24/50\n",
      "1283/1283 [==============================] - ETA: 2s - loss: 0.1107 - acc: 0.960 - ETA: 1s - loss: 0.0910 - acc: 0.975 - ETA: 1s - loss: 0.1125 - acc: 0.966 - ETA: 1s - loss: 0.1450 - acc: 0.955 - ETA: 1s - loss: 0.1318 - acc: 0.956 - ETA: 1s - loss: 0.1360 - acc: 0.951 - ETA: 0s - loss: 0.1376 - acc: 0.952 - ETA: 0s - loss: 0.1329 - acc: 0.953 - ETA: 0s - loss: 0.1340 - acc: 0.952 - ETA: 0s - loss: 0.1432 - acc: 0.949 - ETA: 0s - loss: 0.1383 - acc: 0.950 - ETA: 0s - loss: 0.1424 - acc: 0.950 - 3s 2ms/step - loss: 0.1420 - acc: 0.9509 - val_loss: 0.2711 - val_acc: 0.9077\n",
      "Epoch 25/50\n",
      "1283/1283 [==============================] - ETA: 2s - loss: 0.1070 - acc: 0.970 - ETA: 2s - loss: 0.1855 - acc: 0.925 - ETA: 2s - loss: 0.1850 - acc: 0.933 - ETA: 1s - loss: 0.1689 - acc: 0.940 - ETA: 1s - loss: 0.1733 - acc: 0.940 - ETA: 1s - loss: 0.1584 - acc: 0.945 - ETA: 1s - loss: 0.1590 - acc: 0.945 - ETA: 0s - loss: 0.1650 - acc: 0.941 - ETA: 0s - loss: 0.1722 - acc: 0.941 - ETA: 0s - loss: 0.1582 - acc: 0.947 - ETA: 0s - loss: 0.1500 - acc: 0.950 - ETA: 0s - loss: 0.1444 - acc: 0.951 - 3s 2ms/step - loss: 0.1436 - acc: 0.9525 - val_loss: 0.2727 - val_acc: 0.9089\n",
      "Epoch 26/50\n",
      "1283/1283 [==============================] - ETA: 2s - loss: 0.1376 - acc: 0.950 - ETA: 1s - loss: 0.1385 - acc: 0.950 - ETA: 1s - loss: 0.1345 - acc: 0.953 - ETA: 1s - loss: 0.1527 - acc: 0.947 - ETA: 1s - loss: 0.1498 - acc: 0.950 - ETA: 1s - loss: 0.1602 - acc: 0.943 - ETA: 1s - loss: 0.1505 - acc: 0.950 - ETA: 0s - loss: 0.1599 - acc: 0.948 - ETA: 0s - loss: 0.1535 - acc: 0.950 - ETA: 0s - loss: 0.1517 - acc: 0.950 - ETA: 0s - loss: 0.1494 - acc: 0.951 - ETA: 0s - loss: 0.1523 - acc: 0.952 - 3s 2ms/step - loss: 0.1536 - acc: 0.9525 - val_loss: 0.2768 - val_acc: 0.9042\n",
      "Epoch 27/50\n",
      "1283/1283 [==============================] - ETA: 2s - loss: 0.1564 - acc: 0.960 - ETA: 1s - loss: 0.1580 - acc: 0.955 - ETA: 1s - loss: 0.1403 - acc: 0.963 - ETA: 1s - loss: 0.1329 - acc: 0.962 - ETA: 1s - loss: 0.1137 - acc: 0.968 - ETA: 1s - loss: 0.0975 - acc: 0.973 - ETA: 0s - loss: 0.1021 - acc: 0.970 - ETA: 0s - loss: 0.1001 - acc: 0.970 - ETA: 0s - loss: 0.0989 - acc: 0.970 - ETA: 0s - loss: 0.1058 - acc: 0.967 - ETA: 0s - loss: 0.1034 - acc: 0.969 - ETA: 0s - loss: 0.1055 - acc: 0.969 - 3s 2ms/step - loss: 0.1062 - acc: 0.9680 - val_loss: 0.2877 - val_acc: 0.9007\n"
     ]
    },
    {
     "name": "stdout",
     "output_type": "stream",
     "text": [
      "Epoch 28/50\n",
      "1283/1283 [==============================] - ETA: 1s - loss: 0.1167 - acc: 0.960 - ETA: 1s - loss: 0.1262 - acc: 0.955 - ETA: 1s - loss: 0.1221 - acc: 0.956 - ETA: 1s - loss: 0.1047 - acc: 0.965 - ETA: 1s - loss: 0.0934 - acc: 0.968 - ETA: 1s - loss: 0.0917 - acc: 0.968 - ETA: 0s - loss: 0.0880 - acc: 0.970 - ETA: 0s - loss: 0.0890 - acc: 0.966 - ETA: 0s - loss: 0.0987 - acc: 0.963 - ETA: 0s - loss: 0.1120 - acc: 0.958 - ETA: 0s - loss: 0.1073 - acc: 0.960 - ETA: 0s - loss: 0.1091 - acc: 0.960 - 2s 2ms/step - loss: 0.1097 - acc: 0.9595 - val_loss: 0.2793 - val_acc: 0.9054\n",
      "Epoch 29/50\n",
      "1283/1283 [==============================] - ETA: 1s - loss: 0.1621 - acc: 0.960 - ETA: 1s - loss: 0.1212 - acc: 0.965 - ETA: 1s - loss: 0.1359 - acc: 0.960 - ETA: 1s - loss: 0.1350 - acc: 0.955 - ETA: 1s - loss: 0.1353 - acc: 0.954 - ETA: 1s - loss: 0.1260 - acc: 0.958 - ETA: 0s - loss: 0.1150 - acc: 0.962 - ETA: 0s - loss: 0.1061 - acc: 0.967 - ETA: 0s - loss: 0.0988 - acc: 0.970 - ETA: 0s - loss: 0.0931 - acc: 0.972 - ETA: 0s - loss: 0.0891 - acc: 0.973 - ETA: 0s - loss: 0.0884 - acc: 0.973 - 2s 2ms/step - loss: 0.0916 - acc: 0.9704 - val_loss: 0.3007 - val_acc: 0.9124\n",
      "Epoch 30/50\n",
      "1283/1283 [==============================] - ETA: 1s - loss: 0.1162 - acc: 0.950 - ETA: 1s - loss: 0.0886 - acc: 0.970 - ETA: 1s - loss: 0.0846 - acc: 0.970 - ETA: 1s - loss: 0.0909 - acc: 0.965 - ETA: 1s - loss: 0.0936 - acc: 0.966 - ETA: 1s - loss: 0.1204 - acc: 0.958 - ETA: 0s - loss: 0.1344 - acc: 0.952 - ETA: 0s - loss: 0.1256 - acc: 0.956 - ETA: 0s - loss: 0.1203 - acc: 0.958 - ETA: 0s - loss: 0.1187 - acc: 0.959 - ETA: 0s - loss: 0.1141 - acc: 0.961 - ETA: 0s - loss: 0.1134 - acc: 0.961 - 2s 2ms/step - loss: 0.1144 - acc: 0.9610 - val_loss: 0.3229 - val_acc: 0.9077\n",
      "Epoch 31/50\n",
      "1283/1283 [==============================] - ETA: 1s - loss: 0.0599 - acc: 0.980 - ETA: 1s - loss: 0.0766 - acc: 0.980 - ETA: 1s - loss: 0.0810 - acc: 0.973 - ETA: 1s - loss: 0.0794 - acc: 0.975 - ETA: 1s - loss: 0.0924 - acc: 0.968 - ETA: 1s - loss: 0.0968 - acc: 0.966 - ETA: 0s - loss: 0.0985 - acc: 0.965 - ETA: 0s - loss: 0.0971 - acc: 0.967 - ETA: 0s - loss: 0.0938 - acc: 0.968 - ETA: 0s - loss: 0.0906 - acc: 0.971 - ETA: 0s - loss: 0.0982 - acc: 0.969 - ETA: 0s - loss: 0.1002 - acc: 0.967 - 2s 2ms/step - loss: 0.1073 - acc: 0.9626 - val_loss: 0.3121 - val_acc: 0.9089\n",
      "Epoch 32/50\n",
      "1283/1283 [==============================] - ETA: 1s - loss: 0.0738 - acc: 0.980 - ETA: 1s - loss: 0.0821 - acc: 0.980 - ETA: 1s - loss: 0.0816 - acc: 0.973 - ETA: 1s - loss: 0.0763 - acc: 0.975 - ETA: 1s - loss: 0.0818 - acc: 0.972 - ETA: 1s - loss: 0.0882 - acc: 0.970 - ETA: 0s - loss: 0.0927 - acc: 0.968 - ETA: 0s - loss: 0.0866 - acc: 0.970 - ETA: 0s - loss: 0.0932 - acc: 0.966 - ETA: 0s - loss: 0.0889 - acc: 0.969 - ETA: 0s - loss: 0.0882 - acc: 0.970 - ETA: 0s - loss: 0.0849 - acc: 0.970 - 2s 2ms/step - loss: 0.0877 - acc: 0.9704 - val_loss: 0.3120 - val_acc: 0.9124\n",
      "Epoch 33/50\n",
      "1283/1283 [==============================] - ETA: 1s - loss: 0.0502 - acc: 0.980 - ETA: 1s - loss: 0.0363 - acc: 0.990 - ETA: 1s - loss: 0.0490 - acc: 0.980 - ETA: 1s - loss: 0.0427 - acc: 0.985 - ETA: 1s - loss: 0.0618 - acc: 0.980 - ETA: 1s - loss: 0.0652 - acc: 0.978 - ETA: 0s - loss: 0.0659 - acc: 0.978 - ETA: 0s - loss: 0.0705 - acc: 0.976 - ETA: 0s - loss: 0.0730 - acc: 0.976 - ETA: 0s - loss: 0.0816 - acc: 0.975 - ETA: 0s - loss: 0.0803 - acc: 0.975 - ETA: 0s - loss: 0.0887 - acc: 0.973 - 2s 2ms/step - loss: 0.0917 - acc: 0.9727 - val_loss: 0.3057 - val_acc: 0.9089\n",
      "Epoch 34/50\n",
      "1283/1283 [==============================] - ETA: 1s - loss: 0.0921 - acc: 0.970 - ETA: 1s - loss: 0.0756 - acc: 0.970 - ETA: 1s - loss: 0.0794 - acc: 0.973 - ETA: 1s - loss: 0.0870 - acc: 0.970 - ETA: 1s - loss: 0.0773 - acc: 0.972 - ETA: 1s - loss: 0.0828 - acc: 0.971 - ETA: 0s - loss: 0.0776 - acc: 0.972 - ETA: 0s - loss: 0.0727 - acc: 0.975 - ETA: 0s - loss: 0.0702 - acc: 0.976 - ETA: 0s - loss: 0.0764 - acc: 0.973 - ETA: 0s - loss: 0.0714 - acc: 0.975 - ETA: 0s - loss: 0.0694 - acc: 0.976 - 2s 2ms/step - loss: 0.0668 - acc: 0.9774 - val_loss: 0.3287 - val_acc: 0.9065\n",
      "Epoch 35/50\n",
      "1283/1283 [==============================] - ETA: 1s - loss: 0.0413 - acc: 0.990 - ETA: 1s - loss: 0.0629 - acc: 0.980 - ETA: 1s - loss: 0.0533 - acc: 0.980 - ETA: 1s - loss: 0.0618 - acc: 0.977 - ETA: 1s - loss: 0.0565 - acc: 0.982 - ETA: 1s - loss: 0.0705 - acc: 0.980 - ETA: 0s - loss: 0.0682 - acc: 0.980 - ETA: 0s - loss: 0.0699 - acc: 0.976 - ETA: 0s - loss: 0.0684 - acc: 0.976 - ETA: 0s - loss: 0.0643 - acc: 0.979 - ETA: 0s - loss: 0.0627 - acc: 0.980 - ETA: 0s - loss: 0.0600 - acc: 0.981 - 2s 2ms/step - loss: 0.0592 - acc: 0.9813 - val_loss: 0.3335 - val_acc: 0.9030\n",
      "Epoch 36/50\n",
      "1283/1283 [==============================] - ETA: 1s - loss: 0.0320 - acc: 0.990 - ETA: 1s - loss: 0.0297 - acc: 0.995 - ETA: 1s - loss: 0.0278 - acc: 0.993 - ETA: 1s - loss: 0.0335 - acc: 0.992 - ETA: 1s - loss: 0.0419 - acc: 0.990 - ETA: 1s - loss: 0.0485 - acc: 0.988 - ETA: 0s - loss: 0.0502 - acc: 0.985 - ETA: 0s - loss: 0.0469 - acc: 0.987 - ETA: 0s - loss: 0.0491 - acc: 0.985 - ETA: 0s - loss: 0.0490 - acc: 0.985 - ETA: 0s - loss: 0.0469 - acc: 0.985 - ETA: 0s - loss: 0.0503 - acc: 0.984 - 2s 2ms/step - loss: 0.0545 - acc: 0.9836 - val_loss: 0.3561 - val_acc: 0.9065\n",
      "Epoch 37/50\n",
      "1283/1283 [==============================] - ETA: 1s - loss: 0.1176 - acc: 0.940 - ETA: 1s - loss: 0.0781 - acc: 0.965 - ETA: 1s - loss: 0.0899 - acc: 0.963 - ETA: 1s - loss: 0.0747 - acc: 0.970 - ETA: 1s - loss: 0.0635 - acc: 0.976 - ETA: 1s - loss: 0.0805 - acc: 0.970 - ETA: 0s - loss: 0.0788 - acc: 0.971 - ETA: 0s - loss: 0.0825 - acc: 0.971 - ETA: 0s - loss: 0.0765 - acc: 0.974 - ETA: 0s - loss: 0.0712 - acc: 0.977 - ETA: 0s - loss: 0.0681 - acc: 0.978 - ETA: 0s - loss: 0.0667 - acc: 0.978 - 2s 2ms/step - loss: 0.0653 - acc: 0.9782 - val_loss: 0.3893 - val_acc: 0.9065\n",
      "Epoch 38/50\n",
      "1283/1283 [==============================] - ETA: 1s - loss: 0.1431 - acc: 0.960 - ETA: 1s - loss: 0.0996 - acc: 0.975 - ETA: 1s - loss: 0.0862 - acc: 0.980 - ETA: 1s - loss: 0.0840 - acc: 0.977 - ETA: 1s - loss: 0.0690 - acc: 0.982 - ETA: 1s - loss: 0.0629 - acc: 0.983 - ETA: 0s - loss: 0.0612 - acc: 0.982 - ETA: 0s - loss: 0.0627 - acc: 0.982 - ETA: 0s - loss: 0.0591 - acc: 0.982 - ETA: 0s - loss: 0.0583 - acc: 0.982 - ETA: 0s - loss: 0.0550 - acc: 0.982 - ETA: 0s - loss: 0.0528 - acc: 0.983 - 2s 2ms/step - loss: 0.0520 - acc: 0.9836 - val_loss: 0.4126 - val_acc: 0.9019\n",
      "Epoch 39/50\n",
      "1283/1283 [==============================] - ETA: 1s - loss: 0.1131 - acc: 0.970 - ETA: 1s - loss: 0.0801 - acc: 0.975 - ETA: 1s - loss: 0.0690 - acc: 0.973 - ETA: 1s - loss: 0.0606 - acc: 0.977 - ETA: 1s - loss: 0.0511 - acc: 0.982 - ETA: 1s - loss: 0.0540 - acc: 0.980 - ETA: 0s - loss: 0.0492 - acc: 0.981 - ETA: 0s - loss: 0.0454 - acc: 0.982 - ETA: 0s - loss: 0.0449 - acc: 0.984 - ETA: 0s - loss: 0.0429 - acc: 0.985 - ETA: 0s - loss: 0.0461 - acc: 0.982 - ETA: 0s - loss: 0.0473 - acc: 0.982 - 2s 2ms/step - loss: 0.0470 - acc: 0.9821 - val_loss: 0.3761 - val_acc: 0.9065\n",
      "Epoch 40/50\n",
      "1283/1283 [==============================] - ETA: 1s - loss: 0.0387 - acc: 0.980 - ETA: 1s - loss: 0.0672 - acc: 0.975 - ETA: 1s - loss: 0.0570 - acc: 0.980 - ETA: 1s - loss: 0.0511 - acc: 0.982 - ETA: 1s - loss: 0.0488 - acc: 0.982 - ETA: 1s - loss: 0.0593 - acc: 0.976 - ETA: 0s - loss: 0.0589 - acc: 0.977 - ETA: 0s - loss: 0.0596 - acc: 0.977 - ETA: 0s - loss: 0.0579 - acc: 0.978 - ETA: 0s - loss: 0.0587 - acc: 0.979 - ETA: 0s - loss: 0.0585 - acc: 0.979 - ETA: 0s - loss: 0.0652 - acc: 0.979 - 2s 2ms/step - loss: 0.0695 - acc: 0.9790 - val_loss: 0.3788 - val_acc: 0.9007\n",
      "Epoch 41/50\n"
     ]
    },
    {
     "name": "stdout",
     "output_type": "stream",
     "text": [
      "1283/1283 [==============================] - ETA: 1s - loss: 0.0763 - acc: 0.970 - ETA: 1s - loss: 0.0720 - acc: 0.975 - ETA: 1s - loss: 0.0587 - acc: 0.980 - ETA: 1s - loss: 0.0551 - acc: 0.982 - ETA: 1s - loss: 0.0488 - acc: 0.986 - ETA: 1s - loss: 0.0477 - acc: 0.985 - ETA: 0s - loss: 0.0440 - acc: 0.987 - ETA: 0s - loss: 0.0501 - acc: 0.986 - ETA: 0s - loss: 0.0527 - acc: 0.986 - ETA: 0s - loss: 0.0509 - acc: 0.987 - ETA: 0s - loss: 0.0485 - acc: 0.987 - ETA: 0s - loss: 0.0513 - acc: 0.985 - 2s 2ms/step - loss: 0.0563 - acc: 0.9844 - val_loss: 0.4217 - val_acc: 0.8995\n",
      "Epoch 42/50\n",
      "1283/1283 [==============================] - ETA: 1s - loss: 0.0360 - acc: 1.000 - ETA: 1s - loss: 0.0292 - acc: 1.000 - ETA: 1s - loss: 0.0325 - acc: 0.993 - ETA: 1s - loss: 0.0654 - acc: 0.980 - ETA: 1s - loss: 0.0613 - acc: 0.980 - ETA: 1s - loss: 0.0535 - acc: 0.983 - ETA: 0s - loss: 0.0520 - acc: 0.984 - ETA: 0s - loss: 0.0517 - acc: 0.985 - ETA: 0s - loss: 0.0541 - acc: 0.982 - ETA: 0s - loss: 0.0517 - acc: 0.984 - ETA: 0s - loss: 0.0503 - acc: 0.984 - ETA: 0s - loss: 0.0466 - acc: 0.985 - 2s 2ms/step - loss: 0.0458 - acc: 0.9867 - val_loss: 0.4257 - val_acc: 0.9042\n",
      "Epoch 43/50\n",
      "1283/1283 [==============================] - ETA: 1s - loss: 0.0622 - acc: 0.980 - ETA: 1s - loss: 0.0502 - acc: 0.980 - ETA: 1s - loss: 0.0385 - acc: 0.986 - ETA: 1s - loss: 0.0377 - acc: 0.985 - ETA: 1s - loss: 0.0372 - acc: 0.986 - ETA: 1s - loss: 0.0354 - acc: 0.988 - ETA: 0s - loss: 0.0357 - acc: 0.987 - ETA: 0s - loss: 0.0349 - acc: 0.988 - ETA: 0s - loss: 0.0326 - acc: 0.990 - ETA: 0s - loss: 0.0334 - acc: 0.989 - ETA: 0s - loss: 0.0334 - acc: 0.988 - ETA: 0s - loss: 0.0327 - acc: 0.989 - 3s 2ms/step - loss: 0.0321 - acc: 0.9899 - val_loss: 0.3922 - val_acc: 0.9042\n",
      "Epoch 44/50\n",
      "1283/1283 [==============================] - ETA: 1s - loss: 0.0271 - acc: 0.990 - ETA: 1s - loss: 0.0356 - acc: 0.990 - ETA: 1s - loss: 0.0324 - acc: 0.993 - ETA: 1s - loss: 0.0295 - acc: 0.995 - ETA: 1s - loss: 0.0266 - acc: 0.994 - ETA: 1s - loss: 0.0281 - acc: 0.993 - ETA: 1s - loss: 0.0281 - acc: 0.994 - ETA: 0s - loss: 0.0290 - acc: 0.993 - ETA: 0s - loss: 0.0313 - acc: 0.992 - ETA: 0s - loss: 0.0290 - acc: 0.993 - ETA: 0s - loss: 0.0292 - acc: 0.992 - ETA: 0s - loss: 0.0279 - acc: 0.993 - 3s 2ms/step - loss: 0.0283 - acc: 0.9922 - val_loss: 0.3897 - val_acc: 0.9100\n",
      "Epoch 45/50\n",
      "1283/1283 [==============================] - ETA: 1s - loss: 0.0196 - acc: 0.990 - ETA: 1s - loss: 0.0169 - acc: 0.995 - ETA: 1s - loss: 0.0170 - acc: 0.993 - ETA: 1s - loss: 0.0286 - acc: 0.990 - ETA: 1s - loss: 0.0322 - acc: 0.990 - ETA: 1s - loss: 0.0290 - acc: 0.991 - ETA: 0s - loss: 0.0260 - acc: 0.992 - ETA: 0s - loss: 0.0299 - acc: 0.991 - ETA: 0s - loss: 0.0306 - acc: 0.991 - ETA: 0s - loss: 0.0288 - acc: 0.992 - ETA: 0s - loss: 0.0279 - acc: 0.992 - ETA: 0s - loss: 0.0281 - acc: 0.992 - 2s 2ms/step - loss: 0.0284 - acc: 0.9914 - val_loss: 0.4387 - val_acc: 0.9042\n",
      "Epoch 46/50\n",
      "1283/1283 [==============================] - ETA: 1s - loss: 0.0665 - acc: 0.970 - ETA: 1s - loss: 0.0557 - acc: 0.980 - ETA: 1s - loss: 0.0768 - acc: 0.973 - ETA: 1s - loss: 0.0638 - acc: 0.977 - ETA: 1s - loss: 0.0534 - acc: 0.982 - ETA: 1s - loss: 0.0449 - acc: 0.985 - ETA: 1s - loss: 0.0405 - acc: 0.987 - ETA: 0s - loss: 0.0385 - acc: 0.987 - ETA: 0s - loss: 0.0356 - acc: 0.988 - ETA: 0s - loss: 0.0337 - acc: 0.989 - ETA: 0s - loss: 0.0318 - acc: 0.990 - ETA: 0s - loss: 0.0313 - acc: 0.989 - 3s 2ms/step - loss: 0.0299 - acc: 0.9899 - val_loss: 0.4449 - val_acc: 0.9054\n",
      "Epoch 47/50\n",
      "1283/1283 [==============================] - ETA: 2s - loss: 0.0663 - acc: 0.970 - ETA: 1s - loss: 0.0403 - acc: 0.985 - ETA: 1s - loss: 0.0533 - acc: 0.983 - ETA: 1s - loss: 0.0481 - acc: 0.982 - ETA: 1s - loss: 0.0505 - acc: 0.984 - ETA: 1s - loss: 0.0544 - acc: 0.980 - ETA: 1s - loss: 0.0503 - acc: 0.981 - ETA: 0s - loss: 0.0580 - acc: 0.980 - ETA: 0s - loss: 0.0726 - acc: 0.978 - ETA: 0s - loss: 0.0670 - acc: 0.980 - ETA: 0s - loss: 0.0641 - acc: 0.980 - ETA: 0s - loss: 0.0679 - acc: 0.978 - 3s 2ms/step - loss: 0.0657 - acc: 0.9790 - val_loss: 0.4113 - val_acc: 0.8995\n",
      "Epoch 48/50\n",
      "1283/1283 [==============================] - ETA: 1s - loss: 0.0545 - acc: 0.990 - ETA: 1s - loss: 0.0436 - acc: 0.995 - ETA: 1s - loss: 0.0371 - acc: 0.996 - ETA: 1s - loss: 0.0294 - acc: 0.997 - ETA: 1s - loss: 0.0275 - acc: 0.998 - ETA: 1s - loss: 0.0254 - acc: 0.998 - ETA: 1s - loss: 0.0251 - acc: 0.997 - ETA: 0s - loss: 0.0273 - acc: 0.996 - ETA: 0s - loss: 0.0307 - acc: 0.994 - ETA: 0s - loss: 0.0334 - acc: 0.994 - ETA: 0s - loss: 0.0413 - acc: 0.990 - ETA: 0s - loss: 0.0412 - acc: 0.990 - 3s 2ms/step - loss: 0.0426 - acc: 0.9899 - val_loss: 0.4199 - val_acc: 0.9030\n",
      "Epoch 49/50\n",
      "1283/1283 [==============================] - ETA: 2s - loss: 0.0434 - acc: 0.990 - ETA: 2s - loss: 0.0298 - acc: 0.995 - ETA: 1s - loss: 0.0260 - acc: 0.996 - ETA: 1s - loss: 0.0262 - acc: 0.995 - ETA: 1s - loss: 0.0233 - acc: 0.996 - ETA: 1s - loss: 0.0225 - acc: 0.995 - ETA: 1s - loss: 0.0219 - acc: 0.995 - ETA: 0s - loss: 0.0275 - acc: 0.995 - ETA: 0s - loss: 0.0273 - acc: 0.994 - ETA: 0s - loss: 0.0254 - acc: 0.995 - ETA: 0s - loss: 0.0257 - acc: 0.994 - ETA: 0s - loss: 0.0297 - acc: 0.993 - 3s 2ms/step - loss: 0.0307 - acc: 0.9930 - val_loss: 0.4406 - val_acc: 0.9042\n",
      "Epoch 50/50\n",
      "1283/1283 [==============================] - ETA: 1s - loss: 0.0407 - acc: 0.990 - ETA: 1s - loss: 0.0413 - acc: 0.990 - ETA: 1s - loss: 0.0435 - acc: 0.990 - ETA: 1s - loss: 0.0358 - acc: 0.992 - ETA: 1s - loss: 0.0329 - acc: 0.992 - ETA: 1s - loss: 0.0338 - acc: 0.991 - ETA: 1s - loss: 0.0351 - acc: 0.991 - ETA: 0s - loss: 0.0329 - acc: 0.991 - ETA: 0s - loss: 0.0325 - acc: 0.990 - ETA: 0s - loss: 0.0322 - acc: 0.990 - ETA: 0s - loss: 0.0309 - acc: 0.990 - ETA: 0s - loss: 0.0301 - acc: 0.990 - 3s 2ms/step - loss: 0.0292 - acc: 0.9906 - val_loss: 0.4455 - val_acc: 0.9019\n"
     ]
    }
   ],
   "source": [
    "model = get_model()\n",
    "history = model.fit(X_train, y_train_hot, batch_size=batch_size, epochs=epochs, verbose=verbose, validation_data=(X_test, y_test_hot))"
   ]
  },
  {
   "cell_type": "markdown",
   "metadata": {},
   "source": [
    "## Predict on a new file:"
   ]
  },
  {
   "cell_type": "code",
   "execution_count": 27,
   "metadata": {
    "scrolled": false
   },
   "outputs": [
    {
     "name": "stdout",
     "output_type": "stream",
     "text": [
      "2\n"
     ]
    }
   ],
   "source": [
    "print(predict('./test_audio/12.wav', model=model))"
   ]
  },
  {
   "cell_type": "markdown",
   "metadata": {},
   "source": [
    "## Accuracy single"
   ]
  },
  {
   "cell_type": "code",
   "execution_count": 36,
   "metadata": {
    "scrolled": true
   },
   "outputs": [
    {
     "data": {
      "image/png": "[encoded data removed]",
      "text/plain": [
       "<Figure size 432x288 with 1 Axes>"
      ]
     },
     "metadata": {
      "needs_background": "light"
     },
     "output_type": "display_data"
    }
   ],
   "source": [
    "plt.plot(history.history['acc'])\n",
    "plt.plot(history.history['val_acc'])\n",
    "plt.title('model accuracy')\n",
    "plt.ylabel('accuracy')\n",
    "plt.xlabel('epoch')\n",
    "plt.legend(['train', 'test'], loc='upper left')\n",
    "plt.show()"
   ]
  },
  {
   "cell_type": "markdown",
   "metadata": {},
   "source": [
    "## Loss single"
   ]
  },
  {
   "cell_type": "code",
   "execution_count": 38,
   "metadata": {
    "scrolled": false
   },
   "outputs": [
    {
     "data": {
      "image/png": "[encoded data removed]",
      "text/plain": [
       "<Figure size 432x288 with 1 Axes>"
      ]
     },
     "metadata": {
      "needs_background": "light"
     },
     "output_type": "display_data"
    }
   ],
   "source": [
    "plt.plot(history.history['loss'])\n",
    "plt.plot(history.history['val_loss'])\n",
    "plt.title('model loss')\n",
    "plt.ylabel('loss')\n",
    "plt.xlabel('epoch')\n",
    "plt.legend(['train', 'test'], loc='upper left')\n",
    "plt.show()"
   ]
  },
  {
   "cell_type": "markdown",
   "metadata": {},
   "source": [
    "## Full report with confusion matrix"
   ]
  },
  {
   "cell_type": "code",
   "execution_count": 10,
   "metadata": {
    "scrolled": false
   },
   "outputs": [
    {
     "name": "stdout",
     "output_type": "stream",
     "text": [
      "Accuracy : 0.9018691588785047\n",
      "\n",
      "Classification Report\n",
      "              precision    recall  f1-score   support\n",
      "\n",
      "           0    0.87879   0.94309   0.90980       123\n",
      "           1    0.93220   0.87302   0.90164        63\n",
      "           2    0.94828   0.90164   0.92437        61\n",
      "           3    0.74242   0.96078   0.83761        51\n",
      "           4    0.81250   0.82105   0.81675        95\n",
      "           5    0.89286   0.74257   0.81081       101\n",
      "           6    0.97778   0.89796   0.93617        49\n",
      "           7    0.96970   0.94118   0.95522        68\n",
      "           8    0.85915   1.00000   0.92424        61\n",
      "           9    0.96721   0.90769   0.93651        65\n",
      "          10    1.00000   0.96970   0.98462        66\n",
      "          11    0.96296   0.98113   0.97196        53\n",
      "\n",
      "   micro avg    0.90187   0.90187   0.90187       856\n",
      "   macro avg    0.91199   0.91165   0.90914       856\n",
      "weighted avg    0.90661   0.90187   0.90172       856\n",
      "\n",
      "[[116   0   0   0   4   3   0   0   0   0   0   0]\n",
      " [  0  55   0   4   0   0   0   0   3   1   0   0]\n",
      " [  0   0  55   5   0   1   0   0   0   0   0   0]\n",
      " [  0   0   0  49   0   0   0   0   1   1   0   0]\n",
      " [  7   2   0   4  78   4   0   0   0   0   0   0]\n",
      " [  8   1   1   2  13  75   1   0   0   0   0   0]\n",
      " [  0   0   0   1   1   0  44   1   1   0   0   1]\n",
      " [  0   0   2   0   0   1   0  64   0   0   0   1]\n",
      " [  0   0   0   0   0   0   0   0  61   0   0   0]\n",
      " [  1   0   0   0   0   0   0   1   4  59   0   0]\n",
      " [  0   0   0   1   0   0   0   0   1   0  64   0]\n",
      " [  0   1   0   0   0   0   0   0   0   0   0  52]]\n"
     ]
    },
    {
     "data": {
      "image/png": "[encoded data removed]",
      "text/plain": [
       "<Figure size 432x288 with 2 Axes>"
      ]
     },
     "metadata": {
      "needs_background": "light"
     },
     "output_type": "display_data"
    }
   ],
   "source": [
    "#should import labels directly from folder:\n",
    "#labels,_,_ = get_labels(\"./audio\")\n",
    "\n",
    "labels = np.array(['1','2','3','4','5','6','7','8','9','10','11','12'])\n",
    "\n",
    "le = LabelEncoder()\n",
    "\n",
    "le.fit_transform(labels)\n",
    "\n",
    "full_multiclass_report(model, X_test, y_test_hot, classes=le.inverse_transform(np.arange(12)))"
   ]
  },
  {
   "cell_type": "markdown",
   "metadata": {},
   "source": [
    "## Loss and accuracy plot"
   ]
  },
  {
   "cell_type": "code",
   "execution_count": 43,
   "metadata": {
    "scrolled": true
   },
   "outputs": [
    {
     "data": {
      "image/png": "[encoded data removed]",
      "text/plain": [
       "<Figure size 432x288 with 1 Axes>"
      ]
     },
     "metadata": {
      "needs_background": "light"
     },
     "output_type": "display_data"
    },
    {
     "data": {
      "image/png": "[encoded data removed]",
      "text/plain": [
       "<Figure size 432x288 with 1 Axes>"
      ]
     },
     "metadata": {
      "needs_background": "light"
     },
     "output_type": "display_data"
    }
   ],
   "source": [
    "plot_history(history)"
   ]
  },
  {
   "cell_type": "markdown",
   "metadata": {},
   "source": [
    "# Import / export models"
   ]
  },
  {
   "cell_type": "markdown",
   "metadata": {},
   "source": [
    "to be created. See https://www.pyimagesearch.com/2018/12/10/keras-save-and-load-your-deep-learning-models/"
   ]
  },
  {
   "cell_type": "code",
   "execution_count": null,
   "metadata": {},
   "outputs": [],
   "source": []
  },
  {
   "cell_type": "markdown",
   "metadata": {},
   "source": [
    "# Functions for all the metrics and results"
   ]
  },
  {
   "cell_type": "code",
   "execution_count": 5,
   "metadata": {},
   "outputs": [],
   "source": [
    "def plot_confusion_matrix(cm, classes,\n",
    "                          normalize=False,\n",
    "                          cmap=plt.cm.Blues):\n",
    "    \"\"\"\n",
    "    This function prints and plots the confusion matrix.\n",
    "    Normalization can be applied by setting `normalize=True`.\n",
    "    \"\"\"\n",
    "    if normalize:\n",
    "        cm = cm.astype('float') / cm.sum(axis=1)[:, np.newaxis]\n",
    "        title='Normalized confusion matrix'\n",
    "    else:\n",
    "        title='Confusion matrix'\n",
    "\n",
    "    plt.imshow(cm, interpolation='nearest', cmap=cmap)\n",
    "    plt.title(title)\n",
    "    plt.colorbar()\n",
    "    tick_marks = np.arange(len(classes))\n",
    "    plt.xticks(tick_marks, classes, rotation=45)\n",
    "    plt.yticks(tick_marks, classes)\n",
    "\n",
    "    fmt = '.2f' if normalize else 'd'\n",
    "    thresh = cm.max() / 2.\n",
    "    for i, j in itertools.product(range(cm.shape[0]), range(cm.shape[1])):\n",
    "        plt.text(j, i, format(cm[i, j], fmt),\n",
    "                 horizontalalignment=\"center\",\n",
    "                 color=\"white\" if cm[i, j] > thresh else \"black\")\n",
    "\n",
    "    plt.tight_layout()\n",
    "    plt.ylabel('True label')\n",
    "    plt.xlabel('Predicted label')\n",
    "    plt.show()\n",
    "    \n",
    "def full_multiclass_report(model,\n",
    "                           x,\n",
    "                           y_true,\n",
    "                           classes,\n",
    "                           batch_size=32,\n",
    "                           binary=False):\n",
    "\n",
    "    # 1. Transform one-hot encoded y_true into their class number\n",
    "    if not binary:\n",
    "        y_true = np.argmax(y_true,axis=1)\n",
    "    \n",
    "    # 2. Predict classes and stores in y_pred\n",
    "    y_pred = model.predict_classes(x, batch_size=batch_size)\n",
    "    \n",
    "    # 3. Print accuracy score\n",
    "    print(\"Accuracy : \"+ str(accuracy_score(y_true,y_pred)))\n",
    "    \n",
    "    print(\"\")\n",
    "    \n",
    "    # 4. Print classification report\n",
    "    print(\"Classification Report\")\n",
    "    print(classification_report(y_true,y_pred,digits=5))    \n",
    "    \n",
    "    # 5. Plot confusion matrix\n",
    "    cnf_matrix = confusion_matrix(y_true,y_pred)\n",
    "    print(cnf_matrix)\n",
    "    plot_confusion_matrix(cnf_matrix,classes=classes)"
   ]
  },
  {
   "cell_type": "code",
   "execution_count": 6,
   "metadata": {},
   "outputs": [],
   "source": [
    "def plot_history(history):\n",
    "    loss_list = [s for s in history.history.keys() if 'loss' in s and 'val' not in s]\n",
    "    val_loss_list = [s for s in history.history.keys() if 'loss' in s and 'val' in s]\n",
    "    acc_list = [s for s in history.history.keys() if 'acc' in s and 'val' not in s]\n",
    "    val_acc_list = [s for s in history.history.keys() if 'acc' in s and 'val' in s]\n",
    "    \n",
    "    if len(loss_list) == 0:\n",
    "        print('Loss is missing in history')\n",
    "        return \n",
    "    \n",
    "    ## As loss always exists\n",
    "    epochs = range(1,len(history.history[loss_list[0]]) + 1)\n",
    "    \n",
    "    ## Loss\n",
    "    plt.figure(1)\n",
    "    for l in loss_list:\n",
    "        plt.plot(epochs, history.history[l], 'b', label='Training loss (' + str(str(format(history.history[l][-1],'.5f'))+')'))\n",
    "    for l in val_loss_list:\n",
    "        plt.plot(epochs, history.history[l], 'g', label='Validation loss (' + str(str(format(history.history[l][-1],'.5f'))+')'))\n",
    "    \n",
    "    plt.title('Loss')\n",
    "    plt.xlabel('Epochs')\n",
    "    plt.ylabel('Loss')\n",
    "    plt.legend()\n",
    "    \n",
    "    ## Accuracy\n",
    "    plt.figure(2)\n",
    "    for l in acc_list:\n",
    "        plt.plot(epochs, history.history[l], 'b', label='Training accuracy (' + str(format(history.history[l][-1],'.5f'))+')')\n",
    "    for l in val_acc_list:    \n",
    "        plt.plot(epochs, history.history[l], 'g', label='Validation accuracy (' + str(format(history.history[l][-1],'.5f'))+')')\n",
    "\n",
    "    plt.title('Accuracy')\n",
    "    plt.xlabel('Epochs')\n",
    "    plt.ylabel('Accuracy')\n",
    "    plt.legend()\n",
    "    plt.show()"
   ]
  }
 ],
 "metadata": {
  "kernelspec": {
   "display_name": "Python 3",
   "language": "python",
   "name": "python3"
  },
  "language_info": {
   "codemirror_mode": {
    "name": "ipython",
    "version": 3
   },
   "file_extension": ".py",
   "mimetype": "text/x-python",
   "name": "python",
   "nbconvert_exporter": "python",
   "pygments_lexer": "ipython3",
   "version": "3.6.7"
  }
 },
 "nbformat": 4,
 "nbformat_minor": 2
}
